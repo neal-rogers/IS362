{
 "cells": [
  {
   "cell_type": "markdown",
   "metadata": {},
   "source": [
    "# IS 362 - Week 8 Assignment\n",
    "\n",
    "To begin, I will import the pandas, numpy, and matplotlib modules."
   ]
  },
  {
   "cell_type": "code",
   "execution_count": 6,
   "metadata": {
    "collapsed": true
   },
   "outputs": [],
   "source": [
    "import numpy as np\n",
    "import pandas as pd\n",
    "import csv\n",
    "import matplotlib.pyplot as plot\n",
    "from pandas import DataFrame, Series\n",
    "\n",
    "# Enable inline plotting\n",
    "%matplotlib inline"
   ]
  },
  {
   "cell_type": "markdown",
   "metadata": {},
   "source": [
    "Set some pandas options for controlling output display."
   ]
  },
  {
   "cell_type": "code",
   "execution_count": 3,
   "metadata": {
    "collapsed": true
   },
   "outputs": [],
   "source": [
    "pd.set_option('display.max_columns', 10)\n",
    "pd.set_option('display.max_rows', 10)"
   ]
  },
  {
   "cell_type": "markdown",
   "metadata": {},
   "source": [
    "Next, create the series objects for our dataset."
   ]
  },
  {
   "cell_type": "code",
   "execution_count": null,
   "metadata": {
    "collapsed": false
   },
   "outputs": [],
   "source": []
  },
  {
   "cell_type": "markdown",
   "metadata": {},
   "source": [
    "Create the dataframe for export to CSV."
   ]
  },
  {
   "cell_type": "code",
   "execution_count": 4,
   "metadata": {
    "collapsed": false
   },
   "outputs": [
    {
     "data": {
      "text/html": [
       "<div>\n",
       "<table border=\"1\" class=\"dataframe\">\n",
       "  <thead>\n",
       "    <tr style=\"text-align: right;\">\n",
       "      <th></th>\n",
       "      <th>Anna</th>\n",
       "      <th>Betty</th>\n",
       "      <th>Mike</th>\n",
       "      <th>Mindy</th>\n",
       "      <th>Tom</th>\n",
       "    </tr>\n",
       "  </thead>\n",
       "  <tbody>\n",
       "    <tr>\n",
       "      <th>The Ritual</th>\n",
       "      <td>4</td>\n",
       "      <td>1.0</td>\n",
       "      <td>4</td>\n",
       "      <td>4.0</td>\n",
       "      <td>2.0</td>\n",
       "    </tr>\n",
       "    <tr>\n",
       "      <th>The Post</th>\n",
       "      <td>1</td>\n",
       "      <td>NaN</td>\n",
       "      <td>1</td>\n",
       "      <td>NaN</td>\n",
       "      <td>5.0</td>\n",
       "    </tr>\n",
       "    <tr>\n",
       "      <th>Jumanji</th>\n",
       "      <td>5</td>\n",
       "      <td>1.0</td>\n",
       "      <td>5</td>\n",
       "      <td>NaN</td>\n",
       "      <td>1.0</td>\n",
       "    </tr>\n",
       "    <tr>\n",
       "      <th>Lady Bird</th>\n",
       "      <td>4</td>\n",
       "      <td>NaN</td>\n",
       "      <td>4</td>\n",
       "      <td>5.0</td>\n",
       "      <td>3.0</td>\n",
       "    </tr>\n",
       "    <tr>\n",
       "      <th>Alien</th>\n",
       "      <td>5</td>\n",
       "      <td>1.0</td>\n",
       "      <td>5</td>\n",
       "      <td>3.0</td>\n",
       "      <td>NaN</td>\n",
       "    </tr>\n",
       "    <tr>\n",
       "      <th>Titanic</th>\n",
       "      <td>1</td>\n",
       "      <td>4.0</td>\n",
       "      <td>1</td>\n",
       "      <td>3.0</td>\n",
       "      <td>3.0</td>\n",
       "    </tr>\n",
       "    <tr>\n",
       "      <th>The Producers</th>\n",
       "      <td>4</td>\n",
       "      <td>NaN</td>\n",
       "      <td>4</td>\n",
       "      <td>NaN</td>\n",
       "      <td>NaN</td>\n",
       "    </tr>\n",
       "  </tbody>\n",
       "</table>\n",
       "</div>"
      ],
      "text/plain": [
       "               Anna  Betty  Mike  Mindy  Tom\n",
       "The Ritual        4    1.0     4    4.0  2.0\n",
       "The Post          1    NaN     1    NaN  5.0\n",
       "Jumanji           5    1.0     5    NaN  1.0\n",
       "Lady Bird         4    NaN     4    5.0  3.0\n",
       "Alien             5    1.0     5    3.0  NaN\n",
       "Titanic           1    4.0     1    3.0  3.0\n",
       "The Producers     4    NaN     4    NaN  NaN"
      ]
     },
     "execution_count": 4,
     "metadata": {},
     "output_type": "execute_result"
    }
   ],
   "source": []
  },
  {
   "cell_type": "markdown",
   "metadata": {},
   "source": [
    "Create a CSV file version of the dataframe and read it."
   ]
  },
  {
   "cell_type": "code",
   "execution_count": 5,
   "metadata": {
    "collapsed": false
   },
   "outputs": [
    {
     "data": {
      "text/html": [
       "<div>\n",
       "<table border=\"1\" class=\"dataframe\">\n",
       "  <thead>\n",
       "    <tr style=\"text-align: right;\">\n",
       "      <th></th>\n",
       "    </tr>\n",
       "    <tr>\n",
       "      <th>18.0   8   307.0      130.0      3504.      12.0   70  1\t\"chevrolet chevelle malibu\"</th>\n",
       "    </tr>\n",
       "  </thead>\n",
       "  <tbody>\n",
       "    <tr>\n",
       "      <th>15.0   8   350.0      165.0      3693.      11.5   70  1\\t\"buick skylark 320\"</th>\n",
       "    </tr>\n",
       "    <tr>\n",
       "      <th>18.0   8   318.0      150.0      3436.      11.0   70  1\\t\"plymouth satellite\"</th>\n",
       "    </tr>\n",
       "    <tr>\n",
       "      <th>16.0   8   304.0      150.0      3433.      12.0   70  1\\t\"amc rebel sst\"</th>\n",
       "    </tr>\n",
       "    <tr>\n",
       "      <th>17.0   8   302.0      140.0      3449.      10.5   70  1\\t\"ford torino\"</th>\n",
       "    </tr>\n",
       "    <tr>\n",
       "      <th>15.0   8   429.0      198.0      4341.      10.0   70  1\\t\"ford galaxie 500\"</th>\n",
       "    </tr>\n",
       "    <tr>\n",
       "      <th>...</th>\n",
       "    </tr>\n",
       "    <tr>\n",
       "      <th>27.0   4   140.0      86.00      2790.      15.6   82  1\\t\"ford mustang gl\"</th>\n",
       "    </tr>\n",
       "    <tr>\n",
       "      <th>44.0   4   97.00      52.00      2130.      24.6   82  2\\t\"vw pickup\"</th>\n",
       "    </tr>\n",
       "    <tr>\n",
       "      <th>32.0   4   135.0      84.00      2295.      11.6   82  1\\t\"dodge rampage\"</th>\n",
       "    </tr>\n",
       "    <tr>\n",
       "      <th>28.0   4   120.0      79.00      2625.      18.6   82  1\\t\"ford ranger\"</th>\n",
       "    </tr>\n",
       "    <tr>\n",
       "      <th>31.0   4   119.0      82.00      2720.      19.4   82  1\\t\"chevy s-10\"</th>\n",
       "    </tr>\n",
       "  </tbody>\n",
       "</table>\n",
       "<p>397 rows × 0 columns</p>\n",
       "</div>"
      ],
      "text/plain": [
       "Empty DataFrame\n",
       "Columns: []\n",
       "Index: [15.0   8   350.0      165.0      3693.      11.5   70  1\t\"buick skylark 320\", 18.0   8   318.0      150.0      3436.      11.0   70  1\t\"plymouth satellite\", 16.0   8   304.0      150.0      3433.      12.0   70  1\t\"amc rebel sst\", 17.0   8   302.0      140.0      3449.      10.5   70  1\t\"ford torino\", 15.0   8   429.0      198.0      4341.      10.0   70  1\t\"ford galaxie 500\", 14.0   8   454.0      220.0      4354.       9.0   70  1\t\"chevrolet impala\", 14.0   8   440.0      215.0      4312.       8.5   70  1\t\"plymouth fury iii\", 14.0   8   455.0      225.0      4425.      10.0   70  1\t\"pontiac catalina\", 15.0   8   390.0      190.0      3850.       8.5   70  1\t\"amc ambassador dpl\", 15.0   8   383.0      170.0      3563.      10.0   70  1\t\"dodge challenger se\", 14.0   8   340.0      160.0      3609.       8.0   70  1\t\"plymouth 'cuda 340\", 15.0   8   400.0      150.0      3761.       9.5   70  1\t\"chevrolet monte carlo\", 14.0   8   455.0      225.0      3086.      10.0   70  1\t\"buick estate wagon (sw)\", 24.0   4   113.0      95.00      2372.      15.0   70  3\t\"toyota corona mark ii\", 22.0   6   198.0      95.00      2833.      15.5   70  1\t\"plymouth duster\", 18.0   6   199.0      97.00      2774.      15.5   70  1\t\"amc hornet\", 21.0   6   200.0      85.00      2587.      16.0   70  1\t\"ford maverick\", 27.0   4   97.00      88.00      2130.      14.5   70  3\t\"datsun pl510\", 26.0   4   97.00      46.00      1835.      20.5   70  2\t\"volkswagen 1131 deluxe sedan\", 25.0   4   110.0      87.00      2672.      17.5   70  2\t\"peugeot 504\", 24.0   4   107.0      90.00      2430.      14.5   70  2\t\"audi 100 ls\", 25.0   4   104.0      95.00      2375.      17.5   70  2\t\"saab 99e\", 26.0   4   121.0      113.0      2234.      12.5   70  2\t\"bmw 2002\", 21.0   6   199.0      90.00      2648.      15.0   70  1\t\"amc gremlin\", 10.0   8   360.0      215.0      4615.      14.0   70  1\t\"ford f250\", 10.0   8   307.0      200.0      4376.      15.0   70  1\t\"chevy c20\", 11.0   8   318.0      210.0      4382.      13.5   70  1\t\"dodge d200\", 9.0    8   304.0      193.0      4732.      18.5   70  1\t\"hi 1200d\", 27.0   4   97.00      88.00      2130.      14.5   71  3\t\"datsun pl510\", 28.0   4   140.0      90.00      2264.      15.5   71  1\t\"chevrolet vega 2300\", 25.0   4   113.0      95.00      2228.      14.0   71  3\t\"toyota corona\", 25.0   4   98.00      ?          2046.      19.0   71  1\t\"ford pinto\", 19.0   6   232.0      100.0      2634.      13.0   71  1\t\"amc gremlin\", 16.0   6   225.0      105.0      3439.      15.5   71  1\t\"plymouth satellite custom\", 17.0   6   250.0      100.0      3329.      15.5   71  1\t\"chevrolet chevelle malibu\", 19.0   6   250.0      88.00      3302.      15.5   71  1\t\"ford torino 500\", 18.0   6   232.0      100.0      3288.      15.5   71  1\t\"amc matador\", 14.0   8   350.0      165.0      4209.      12.0   71  1\t\"chevrolet impala\", 14.0   8   400.0      175.0      4464.      11.5   71  1\t\"pontiac catalina brougham\", 14.0   8   351.0      153.0      4154.      13.5   71  1\t\"ford galaxie 500\", 14.0   8   318.0      150.0      4096.      13.0   71  1\t\"plymouth fury iii\", 12.0   8   383.0      180.0      4955.      11.5   71  1\t\"dodge monaco (sw)\", 13.0   8   400.0      170.0      4746.      12.0   71  1\t\"ford country squire (sw)\", 13.0   8   400.0      175.0      5140.      12.0   71  1\t\"pontiac safari (sw)\", 18.0   6   258.0      110.0      2962.      13.5   71  1\t\"amc hornet sportabout (sw)\", 22.0   4   140.0      72.00      2408.      19.0   71  1\t\"chevrolet vega (sw)\", 19.0   6   250.0      100.0      3282.      15.0   71  1\t\"pontiac firebird\", 18.0   6   250.0      88.00      3139.      14.5   71  1\t\"ford mustang\", 23.0   4   122.0      86.00      2220.      14.0   71  1\t\"mercury capri 2000\", 28.0   4   116.0      90.00      2123.      14.0   71  2\t\"opel 1900\", 30.0   4   79.00      70.00      2074.      19.5   71  2\t\"peugeot 304\", 30.0   4   88.00      76.00      2065.      14.5   71  2\t\"fiat 124b\", 31.0   4   71.00      65.00      1773.      19.0   71  3\t\"toyota corolla 1200\", 35.0   4   72.00      69.00      1613.      18.0   71  3\t\"datsun 1200\", 27.0   4   97.00      60.00      1834.      19.0   71  2\t\"volkswagen model 111\", 26.0   4   91.00      70.00      1955.      20.5   71  1\t\"plymouth cricket\", 24.0   4   113.0      95.00      2278.      15.5   72  3\t\"toyota corona hardtop\", 25.0   4   97.50      80.00      2126.      17.0   72  1\t\"dodge colt hardtop\", 23.0   4   97.00      54.00      2254.      23.5   72  2\t\"volkswagen type 3\", 20.0   4   140.0      90.00      2408.      19.5   72  1\t\"chevrolet vega\", 21.0   4   122.0      86.00      2226.      16.5   72  1\t\"ford pinto runabout\", 13.0   8   350.0      165.0      4274.      12.0   72  1\t\"chevrolet impala\", 14.0   8   400.0      175.0      4385.      12.0   72  1\t\"pontiac catalina\", 15.0   8   318.0      150.0      4135.      13.5   72  1\t\"plymouth fury iii\", 14.0   8   351.0      153.0      4129.      13.0   72  1\t\"ford galaxie 500\", 17.0   8   304.0      150.0      3672.      11.5   72  1\t\"amc ambassador sst\", 11.0   8   429.0      208.0      4633.      11.0   72  1\t\"mercury marquis\", 13.0   8   350.0      155.0      4502.      13.5   72  1\t\"buick lesabre custom\", 12.0   8   350.0      160.0      4456.      13.5   72  1\t\"oldsmobile delta 88 royale\", 13.0   8   400.0      190.0      4422.      12.5   72  1\t\"chrysler newport royal\", 19.0   3   70.00      97.00      2330.      13.5   72  3\t\"mazda rx2 coupe\", 15.0   8   304.0      150.0      3892.      12.5   72  1\t\"amc matador (sw)\", 13.0   8   307.0      130.0      4098.      14.0   72  1\t\"chevrolet chevelle concours (sw)\", 13.0   8   302.0      140.0      4294.      16.0   72  1\t\"ford gran torino (sw)\", 14.0   8   318.0      150.0      4077.      14.0   72  1\t\"plymouth satellite custom (sw)\", 18.0   4   121.0      112.0      2933.      14.5   72  2\t\"volvo 145e (sw)\", 22.0   4   121.0      76.00      2511.      18.0   72  2\t\"volkswagen 411 (sw)\", 21.0   4   120.0      87.00      2979.      19.5   72  2\t\"peugeot 504 (sw)\", 26.0   4   96.00      69.00      2189.      18.0   72  2\t\"renault 12 (sw)\", 22.0   4   122.0      86.00      2395.      16.0   72  1\t\"ford pinto (sw)\", 28.0   4   97.00      92.00      2288.      17.0   72  3\t\"datsun 510 (sw)\", 23.0   4   120.0      97.00      2506.      14.5   72  3\t\"toyouta corona mark ii (sw)\", 28.0   4   98.00      80.00      2164.      15.0   72  1\t\"dodge colt (sw)\", 27.0   4   97.00      88.00      2100.      16.5   72  3\t\"toyota corolla 1600 (sw)\", 13.0   8   350.0      175.0      4100.      13.0   73  1\t\"buick century 350\", 14.0   8   304.0      150.0      3672.      11.5   73  1\t\"amc matador\", 13.0   8   350.0      145.0      3988.      13.0   73  1\t\"chevrolet malibu\", 14.0   8   302.0      137.0      4042.      14.5   73  1\t\"ford gran torino\", 15.0   8   318.0      150.0      3777.      12.5   73  1\t\"dodge coronet custom\", 12.0   8   429.0      198.0      4952.      11.5   73  1\t\"mercury marquis brougham\", 13.0   8   400.0      150.0      4464.      12.0   73  1\t\"chevrolet caprice classic\", 13.0   8   351.0      158.0      4363.      13.0   73  1\t\"ford ltd\", 14.0   8   318.0      150.0      4237.      14.5   73  1\t\"plymouth fury gran sedan\", 13.0   8   440.0      215.0      4735.      11.0   73  1\t\"chrysler new yorker brougham\", 12.0   8   455.0      225.0      4951.      11.0   73  1\t\"buick electra 225 custom\", 13.0   8   360.0      175.0      3821.      11.0   73  1\t\"amc ambassador brougham\", 18.0   6   225.0      105.0      3121.      16.5   73  1\t\"plymouth valiant\", 16.0   6   250.0      100.0      3278.      18.0   73  1\t\"chevrolet nova custom\", 18.0   6   232.0      100.0      2945.      16.0   73  1\t\"amc hornet\", 18.0   6   250.0      88.00      3021.      16.5   73  1\t\"ford maverick\", ...]\n",
       "\n",
       "[397 rows x 0 columns]"
      ]
     },
     "execution_count": 5,
     "metadata": {},
     "output_type": "execute_result"
    }
   ],
   "source": [
    "#df.to_csv('auto-mpg.txt',index=True,header=True)\n",
    "\n",
    "Location = r'D:\\Projects\\Educational\\IS362\\week-8\\auto-mpg.txt'\n",
    "# df_csv = pd.read_csv(Location, names=['Anna\\'s Ratings', 'AM West On Time', 'Alaska Delayed', 'Alaska On Time'])\n",
    "df_csv = pd.read_csv(Location, index_col=0)\n",
    "df_csv"
   ]
  },
  {
   "cell_type": "markdown",
   "metadata": {},
   "source": [
    "Next, read the movie ratings CSV file."
   ]
  },
  {
   "cell_type": "markdown",
   "metadata": {},
   "source": [
    "Then create a copy of the movies DataFrame."
   ]
  },
  {
   "cell_type": "code",
   "execution_count": 9,
   "metadata": {
    "collapsed": false
   },
   "outputs": [],
   "source": [
    "movies_cp = mv_csv.copy()"
   ]
  },
  {
   "cell_type": "code",
   "execution_count": null,
   "metadata": {
    "collapsed": true
   },
   "outputs": [],
   "source": []
  }
 ],
 "metadata": {
  "kernelspec": {
   "display_name": "Python 2",
   "language": "python",
   "name": "python2"
  },
  "language_info": {
   "codemirror_mode": {
    "name": "ipython",
    "version": 2
   },
   "file_extension": ".py",
   "mimetype": "text/x-python",
   "name": "python",
   "nbconvert_exporter": "python",
   "pygments_lexer": "ipython2",
   "version": "2.7.13"
  }
 },
 "nbformat": 4,
 "nbformat_minor": 2
}
