{
 "cells": [
  {
   "cell_type": "markdown",
   "metadata": {},
   "source": [
    "# IS 362 - Week 7 Assignment\n",
    "\n",
    "To begin, I will import the pandas, numpy, and matplotlib modules."
   ]
  },
  {
   "cell_type": "code",
   "execution_count": 1,
   "metadata": {
    "collapsed": true
   },
   "outputs": [],
   "source": [
    "import numpy as np\n",
    "import pandas as pd\n",
    "import matplotlib.pyplot as plot\n",
    "from pandas import DataFrame, Series\n",
    "\n",
    "# Enable inline plotting\n",
    "%matplotlib inline"
   ]
  },
  {
   "cell_type": "markdown",
   "metadata": {},
   "source": [
    "Set some pandas options for controlling output display."
   ]
  },
  {
   "cell_type": "code",
   "execution_count": 2,
   "metadata": {
    "collapsed": true
   },
   "outputs": [],
   "source": [
    "pd.set_option('display.max_columns', 10)\n",
    "pd.set_option('display.max_rows', 10)"
   ]
  },
  {
   "cell_type": "markdown",
   "metadata": {},
   "source": [
    "Next, create the series objects for our dataset."
   ]
  },
  {
   "cell_type": "code",
   "execution_count": 3,
   "metadata": {
    "collapsed": false
   },
   "outputs": [],
   "source": [
    "movies = Series(['The Ritual',\n",
    "                 'The Post',\n",
    "                 'Jumanji',\n",
    "                 'Lady Bird',\n",
    "                 'Alien',\n",
    "                 'Titanic',\n",
    "                 'The Producers'])\n",
    "\n",
    "#movies = Series(['Movies'] * len(movies_ls), index = movies_ls)\n",
    "\n",
    "rt_anna = Series({'The Ritual': 4,\n",
    "                  'The Post': 1,\n",
    "                  'Jumanji': 5,\n",
    "                  'Lady Bird': 4,\n",
    "                  'Alien': 5,\n",
    "                  'Titanic': 1,\n",
    "                  'The Producers': 4})\n",
    "\n",
    "rt_mike = Series({'Alien': 5,\n",
    "                  'Titanic': 1,\n",
    "                  'The Producers': 4,\n",
    "                  'The Ritual': 4,\n",
    "                  'The Post': 1,\n",
    "                  'Jumanji': 5,\n",
    "                  'Lady Bird': 4})\n",
    "\n",
    "rt_tom = Series({'Titanic': 3,\n",
    "                 'The Ritual': 2,\n",
    "                 'The Post': 5,\n",
    "                 'Jumanji': 1,\n",
    "                 'Lady Bird': 3})\n",
    "\n",
    "rt_betty = Series({'Jumanji': 1,\n",
    "                   'The Ritual': 1,\n",
    "                   'Titanic': 4,\n",
    "                   'Alien': 1})\n",
    "\n",
    "rt_mindy = Series({'Alien': 3,\n",
    "                   'Titanic': 3,\n",
    "                   'Lady Bird': 5,\n",
    "                   'The Ritual': 4})"
   ]
  },
  {
   "cell_type": "markdown",
   "metadata": {},
   "source": [
    "Create the dataframe for export to CSV."
   ]
  },
  {
   "cell_type": "code",
   "execution_count": 5,
   "metadata": {
    "collapsed": false
   },
   "outputs": [
    {
     "data": {
      "text/html": [
       "<div>\n",
       "<table border=\"1\" class=\"dataframe\">\n",
       "  <thead>\n",
       "    <tr style=\"text-align: right;\">\n",
       "      <th></th>\n",
       "      <th>Anna</th>\n",
       "      <th>Betty</th>\n",
       "      <th>Mike</th>\n",
       "      <th>Mindy</th>\n",
       "      <th>Tom</th>\n",
       "    </tr>\n",
       "  </thead>\n",
       "  <tbody>\n",
       "    <tr>\n",
       "      <th>The Ritual</th>\n",
       "      <td>4</td>\n",
       "      <td>1.0</td>\n",
       "      <td>4</td>\n",
       "      <td>4.0</td>\n",
       "      <td>2.0</td>\n",
       "    </tr>\n",
       "    <tr>\n",
       "      <th>The Post</th>\n",
       "      <td>1</td>\n",
       "      <td>NaN</td>\n",
       "      <td>1</td>\n",
       "      <td>NaN</td>\n",
       "      <td>5.0</td>\n",
       "    </tr>\n",
       "    <tr>\n",
       "      <th>Jumanji</th>\n",
       "      <td>5</td>\n",
       "      <td>1.0</td>\n",
       "      <td>5</td>\n",
       "      <td>NaN</td>\n",
       "      <td>1.0</td>\n",
       "    </tr>\n",
       "    <tr>\n",
       "      <th>Lady Bird</th>\n",
       "      <td>4</td>\n",
       "      <td>NaN</td>\n",
       "      <td>4</td>\n",
       "      <td>5.0</td>\n",
       "      <td>3.0</td>\n",
       "    </tr>\n",
       "    <tr>\n",
       "      <th>Alien</th>\n",
       "      <td>5</td>\n",
       "      <td>1.0</td>\n",
       "      <td>5</td>\n",
       "      <td>3.0</td>\n",
       "      <td>NaN</td>\n",
       "    </tr>\n",
       "    <tr>\n",
       "      <th>Titanic</th>\n",
       "      <td>1</td>\n",
       "      <td>4.0</td>\n",
       "      <td>1</td>\n",
       "      <td>3.0</td>\n",
       "      <td>3.0</td>\n",
       "    </tr>\n",
       "    <tr>\n",
       "      <th>The Producers</th>\n",
       "      <td>4</td>\n",
       "      <td>NaN</td>\n",
       "      <td>4</td>\n",
       "      <td>NaN</td>\n",
       "      <td>NaN</td>\n",
       "    </tr>\n",
       "  </tbody>\n",
       "</table>\n",
       "</div>"
      ],
      "text/plain": [
       "               Anna  Betty  Mike  Mindy  Tom\n",
       "The Ritual        4    1.0     4    4.0  2.0\n",
       "The Post          1    NaN     1    NaN  5.0\n",
       "Jumanji           5    1.0     5    NaN  1.0\n",
       "Lady Bird         4    NaN     4    5.0  3.0\n",
       "Alien             5    1.0     5    3.0  NaN\n",
       "Titanic           1    4.0     1    3.0  3.0\n",
       "The Producers     4    NaN     4    NaN  NaN"
      ]
     },
     "execution_count": 5,
     "metadata": {},
     "output_type": "execute_result"
    }
   ],
   "source": [
    "df = pd.DataFrame(\n",
    "    {'Anna': rt_anna,\n",
    "     'Mike': rt_mike,\n",
    "     'Tom': rt_tom,\n",
    "     'Betty': rt_betty,\n",
    "     'Mindy': rt_mindy},\n",
    "     index=movies)\n",
    "df"
   ]
  },
  {
   "cell_type": "markdown",
   "metadata": {},
   "source": [
    "Create a CSV file version of the dataframe and read it."
   ]
  },
  {
   "cell_type": "code",
   "execution_count": null,
   "metadata": {
    "collapsed": false
   },
   "outputs": [],
   "source": [
    "df.to_csv('movie-ratings.csv',index=True,header=True)\n",
    "\n",
    "Location = r'D:\\Projects\\Educational\\IS362\\week-7\\movie-ratings.csv'\n",
    "# df_csv = pd.read_csv(Location, names=['Anna\\'s Ratings', 'AM West On Time', 'Alaska Delayed', 'Alaska On Time'])\n",
    "df_csv = pd.read_csv(Location)\n",
    "df_csv"
   ]
  },
  {
   "cell_type": "markdown",
   "metadata": {},
   "source": [
    "Next, read the airport CSV file."
   ]
  },
  {
   "cell_type": "code",
   "execution_count": 6,
   "metadata": {
    "collapsed": false
   },
   "outputs": [
    {
     "data": {
      "text/html": [
       "<div>\n",
       "<table border=\"1\" class=\"dataframe\">\n",
       "  <thead>\n",
       "    <tr style=\"text-align: right;\">\n",
       "      <th></th>\n",
       "      <th>Unnamed: 0</th>\n",
       "      <th>Anna's Ratings</th>\n",
       "      <th>Betty's Ratings</th>\n",
       "      <th>Mike's Ratings</th>\n",
       "      <th>Mindy's Ratings</th>\n",
       "      <th>Tom's Ratings</th>\n",
       "    </tr>\n",
       "  </thead>\n",
       "  <tbody>\n",
       "    <tr>\n",
       "      <th>0</th>\n",
       "      <td>The Ritual</td>\n",
       "      <td>4</td>\n",
       "      <td>1.0</td>\n",
       "      <td>4</td>\n",
       "      <td>4.0</td>\n",
       "      <td>2.0</td>\n",
       "    </tr>\n",
       "    <tr>\n",
       "      <th>1</th>\n",
       "      <td>The Post</td>\n",
       "      <td>1</td>\n",
       "      <td>NaN</td>\n",
       "      <td>1</td>\n",
       "      <td>NaN</td>\n",
       "      <td>5.0</td>\n",
       "    </tr>\n",
       "    <tr>\n",
       "      <th>2</th>\n",
       "      <td>Jumanji</td>\n",
       "      <td>5</td>\n",
       "      <td>1.0</td>\n",
       "      <td>5</td>\n",
       "      <td>NaN</td>\n",
       "      <td>1.0</td>\n",
       "    </tr>\n",
       "    <tr>\n",
       "      <th>3</th>\n",
       "      <td>Lady Bird</td>\n",
       "      <td>4</td>\n",
       "      <td>NaN</td>\n",
       "      <td>4</td>\n",
       "      <td>5.0</td>\n",
       "      <td>3.0</td>\n",
       "    </tr>\n",
       "    <tr>\n",
       "      <th>4</th>\n",
       "      <td>Alien</td>\n",
       "      <td>5</td>\n",
       "      <td>1.0</td>\n",
       "      <td>5</td>\n",
       "      <td>3.0</td>\n",
       "      <td>NaN</td>\n",
       "    </tr>\n",
       "    <tr>\n",
       "      <th>5</th>\n",
       "      <td>Titanic</td>\n",
       "      <td>1</td>\n",
       "      <td>4.0</td>\n",
       "      <td>1</td>\n",
       "      <td>3.0</td>\n",
       "      <td>3.0</td>\n",
       "    </tr>\n",
       "    <tr>\n",
       "      <th>6</th>\n",
       "      <td>The Producers</td>\n",
       "      <td>4</td>\n",
       "      <td>NaN</td>\n",
       "      <td>4</td>\n",
       "      <td>NaN</td>\n",
       "      <td>NaN</td>\n",
       "    </tr>\n",
       "  </tbody>\n",
       "</table>\n",
       "</div>"
      ],
      "text/plain": [
       "      Unnamed: 0  Anna's Ratings  Betty's Ratings  Mike's Ratings  \\\n",
       "0     The Ritual               4              1.0               4   \n",
       "1       The Post               1              NaN               1   \n",
       "2        Jumanji               5              1.0               5   \n",
       "3      Lady Bird               4              NaN               4   \n",
       "4          Alien               5              1.0               5   \n",
       "5        Titanic               1              4.0               1   \n",
       "6  The Producers               4              NaN               4   \n",
       "\n",
       "   Mindy's Ratings  Tom's Ratings  \n",
       "0              4.0            2.0  \n",
       "1              NaN            5.0  \n",
       "2              NaN            1.0  \n",
       "3              5.0            3.0  \n",
       "4              3.0            NaN  \n",
       "5              3.0            3.0  \n",
       "6              NaN            NaN  "
      ]
     },
     "execution_count": 6,
     "metadata": {},
     "output_type": "execute_result"
    }
   ],
   "source": [
    "floc1 = r'D:\\Projects\\Educational\\IS362\\week-7\\movie-ratings.csv'\n",
    "mv_csv = pd.read_csv(floc1)\n",
    "mv_csv"
   ]
  },
  {
   "cell_type": "markdown",
   "metadata": {},
   "source": [
    "Then create a copy of the airports DataFrame."
   ]
  },
  {
   "cell_type": "code",
   "execution_count": null,
   "metadata": {
    "collapsed": false
   },
   "outputs": [],
   "source": [
    "airports_cp = ap_csv.copy()"
   ]
  },
  {
   "cell_type": "markdown",
   "metadata": {},
   "source": [
    "Then clean up the data be extracting only airport records from the airports CSV."
   ]
  },
  {
   "cell_type": "code",
   "execution_count": null,
   "metadata": {
    "collapsed": false
   },
   "outputs": [],
   "source": [
    "airports = airports_cp[(airports_cp.name.str.contains(\"Station\") == False) & (airports_cp.name.str.contains(\"Rail\") == False)]\n",
    "airports"
   ]
  },
  {
   "cell_type": "markdown",
   "metadata": {},
   "source": [
    "Next, to reduce the dataset down to eastern airports, extract only airports in GMT -5 and without invalid tzone values."
   ]
  },
  {
   "cell_type": "code",
   "execution_count": null,
   "metadata": {
    "collapsed": false
   },
   "outputs": [],
   "source": [
    "extract1 = airports[(airports.tz == -5.0) & (airports.tzone <> '\\N')]\n",
    "extract1"
   ]
  },
  {
   "cell_type": "markdown",
   "metadata": {},
   "source": [
    "To reduce the data set down to airports in Alaska, extract airports in GMT -9 (tz), without invalid tzone values, and aren't railroad stations."
   ]
  },
  {
   "cell_type": "code",
   "execution_count": null,
   "metadata": {
    "collapsed": false
   },
   "outputs": [],
   "source": [
    "extract2 = airports[(airports.tz == -9.0) & (airports.tzone <> '\\N') & (airports.name.str.contains(\"Station\") == False) & (airports.name.str.contains(\"Rail\") == False)]\n",
    "extract2"
   ]
  },
  {
   "cell_type": "markdown",
   "metadata": {},
   "source": [
    "Now, read the weather CSV file."
   ]
  },
  {
   "cell_type": "code",
   "execution_count": null,
   "metadata": {
    "collapsed": false
   },
   "outputs": [],
   "source": [
    "floc2 = r'D:\\Projects\\Educational\\IS362\\week-5\\data\\weather.csv'\n",
    "w_csv = pd.read_csv(floc2)\n",
    "w_csv"
   ]
  },
  {
   "cell_type": "markdown",
   "metadata": {},
   "source": [
    "Create a copy of the weather DataFrame."
   ]
  },
  {
   "cell_type": "code",
   "execution_count": null,
   "metadata": {
    "collapsed": true
   },
   "outputs": [],
   "source": [
    "weather = w_csv.copy()"
   ]
  },
  {
   "cell_type": "markdown",
   "metadata": {},
   "source": [
    "Next, extract weather records for Feb 12, 2013 only."
   ]
  },
  {
   "cell_type": "code",
   "execution_count": null,
   "metadata": {
    "collapsed": false
   },
   "outputs": [],
   "source": [
    "extract3 = weather[(weather.year == 2013) & (weather.month == 2) & (weather.day == 12)]\n",
    "extract3"
   ]
  },
  {
   "cell_type": "markdown",
   "metadata": {},
   "source": [
    "## Sort the airports by descending latitude and return the first row to find the northern most airport in the US."
   ]
  },
  {
   "cell_type": "code",
   "execution_count": null,
   "metadata": {
    "collapsed": false
   },
   "outputs": [],
   "source": [
    "lat_sorted = extract2.sort_values(by='lat', ascending=False)\n",
    "lat_sorted.head(1)"
   ]
  },
  {
   "cell_type": "markdown",
   "metadata": {},
   "source": [
    "## Sort the airports by descending longitude and return the first row to find the eastern most airport in the US."
   ]
  },
  {
   "cell_type": "code",
   "execution_count": null,
   "metadata": {
    "collapsed": false
   },
   "outputs": [],
   "source": [
    "lon_sorted = extract1.sort_values(by='lon', ascending=False)\n",
    "lon_sorted.head(1)"
   ]
  },
  {
   "cell_type": "markdown",
   "metadata": {},
   "source": [
    "## Sort the weather by descending wind speed to return the airport with the highest wind speed on Feb 12, 2013."
   ]
  },
  {
   "cell_type": "code",
   "execution_count": null,
   "metadata": {
    "collapsed": false
   },
   "outputs": [],
   "source": [
    "w_sorted = extract3.sort_values(by='wind_speed', ascending=False)\n",
    "w_sorted.head(1)"
   ]
  },
  {
   "cell_type": "code",
   "execution_count": null,
   "metadata": {
    "collapsed": true
   },
   "outputs": [],
   "source": []
  }
 ],
 "metadata": {
  "kernelspec": {
   "display_name": "Python 2",
   "language": "python",
   "name": "python2"
  },
  "language_info": {
   "codemirror_mode": {
    "name": "ipython",
    "version": 2
   },
   "file_extension": ".py",
   "mimetype": "text/x-python",
   "name": "python",
   "nbconvert_exporter": "python",
   "pygments_lexer": "ipython2",
   "version": "2.7.13"
  }
 },
 "nbformat": 4,
 "nbformat_minor": 2
}
