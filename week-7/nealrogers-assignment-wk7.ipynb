{
 "cells": [
  {
   "cell_type": "markdown",
   "metadata": {},
   "source": [
    "# IS 362 - Week 7 Assignment\n",
    "\n",
    "To begin, I will import the pandas, numpy, and matplotlib modules."
   ]
  },
  {
   "cell_type": "code",
   "execution_count": 1,
   "metadata": {
    "collapsed": true
   },
   "outputs": [],
   "source": [
    "import numpy as np\n",
    "import pandas as pd\n",
    "import matplotlib.pyplot as plot\n",
    "from pandas import DataFrame, Series\n",
    "\n",
    "# Enable inline plotting\n",
    "%matplotlib inline"
   ]
  },
  {
   "cell_type": "markdown",
   "metadata": {},
   "source": [
    "Set some pandas options for controlling output display."
   ]
  },
  {
   "cell_type": "code",
   "execution_count": 2,
   "metadata": {
    "collapsed": true
   },
   "outputs": [],
   "source": [
    "pd.set_option('display.max_columns', 10)\n",
    "pd.set_option('display.max_rows', 10)"
   ]
  },
  {
   "cell_type": "markdown",
   "metadata": {},
   "source": [
    "Next, create the series objects for our dataset."
   ]
  },
  {
   "cell_type": "code",
   "execution_count": 3,
   "metadata": {
    "collapsed": false
   },
   "outputs": [],
   "source": [
    "movies = Series(['The Ritual',\n",
    "                 'The Post',\n",
    "                 'Jumanji',\n",
    "                 'Lady Bird',\n",
    "                 'Alien',\n",
    "                 'Titanic',\n",
    "                 'The Producers'])\n",
    "\n",
    "#movies = Series(['Movies'] * len(movies_ls), index = movies_ls)\n",
    "\n",
    "rt_anna = Series({'The Ritual': 4,\n",
    "                  'The Post': 1,\n",
    "                  'Jumanji': 5,\n",
    "                  'Lady Bird': 4,\n",
    "                  'Alien': 5,\n",
    "                  'Titanic': 1,\n",
    "                  'The Producers': 4})\n",
    "\n",
    "rt_mike = Series({'Alien': 5,\n",
    "                  'Titanic': 1,\n",
    "                  'The Producers': 4,\n",
    "                  'The Ritual': 4,\n",
    "                  'The Post': 1,\n",
    "                  'Jumanji': 5,\n",
    "                  'Lady Bird': 4})\n",
    "\n",
    "rt_tom = Series({'Titanic': 3,\n",
    "                 'The Ritual': 2,\n",
    "                 'The Post': 5,\n",
    "                 'Jumanji': 1,\n",
    "                 'Lady Bird': 3})\n",
    "\n",
    "rt_betty = Series({'Jumanji': 1,\n",
    "                   'The Ritual': 1,\n",
    "                   'Titanic': 4,\n",
    "                   'Alien': 1})\n",
    "\n",
    "rt_mindy = Series({'Alien': 3,\n",
    "                   'Titanic': 3,\n",
    "                   'Lady Bird': 5,\n",
    "                   'The Ritual': 4})"
   ]
  },
  {
   "cell_type": "markdown",
   "metadata": {},
   "source": [
    "Create the dataframe for export to CSV."
   ]
  },
  {
   "cell_type": "code",
   "execution_count": 4,
   "metadata": {
    "collapsed": false
   },
   "outputs": [
    {
     "data": {
      "text/html": [
       "<div>\n",
       "<table border=\"1\" class=\"dataframe\">\n",
       "  <thead>\n",
       "    <tr style=\"text-align: right;\">\n",
       "      <th></th>\n",
       "      <th>Anna</th>\n",
       "      <th>Betty</th>\n",
       "      <th>Mike</th>\n",
       "      <th>Mindy</th>\n",
       "      <th>Tom</th>\n",
       "    </tr>\n",
       "  </thead>\n",
       "  <tbody>\n",
       "    <tr>\n",
       "      <th>The Ritual</th>\n",
       "      <td>4</td>\n",
       "      <td>1.0</td>\n",
       "      <td>4</td>\n",
       "      <td>4.0</td>\n",
       "      <td>2.0</td>\n",
       "    </tr>\n",
       "    <tr>\n",
       "      <th>The Post</th>\n",
       "      <td>1</td>\n",
       "      <td>NaN</td>\n",
       "      <td>1</td>\n",
       "      <td>NaN</td>\n",
       "      <td>5.0</td>\n",
       "    </tr>\n",
       "    <tr>\n",
       "      <th>Jumanji</th>\n",
       "      <td>5</td>\n",
       "      <td>1.0</td>\n",
       "      <td>5</td>\n",
       "      <td>NaN</td>\n",
       "      <td>1.0</td>\n",
       "    </tr>\n",
       "    <tr>\n",
       "      <th>Lady Bird</th>\n",
       "      <td>4</td>\n",
       "      <td>NaN</td>\n",
       "      <td>4</td>\n",
       "      <td>5.0</td>\n",
       "      <td>3.0</td>\n",
       "    </tr>\n",
       "    <tr>\n",
       "      <th>Alien</th>\n",
       "      <td>5</td>\n",
       "      <td>1.0</td>\n",
       "      <td>5</td>\n",
       "      <td>3.0</td>\n",
       "      <td>NaN</td>\n",
       "    </tr>\n",
       "    <tr>\n",
       "      <th>Titanic</th>\n",
       "      <td>1</td>\n",
       "      <td>4.0</td>\n",
       "      <td>1</td>\n",
       "      <td>3.0</td>\n",
       "      <td>3.0</td>\n",
       "    </tr>\n",
       "    <tr>\n",
       "      <th>The Producers</th>\n",
       "      <td>4</td>\n",
       "      <td>NaN</td>\n",
       "      <td>4</td>\n",
       "      <td>NaN</td>\n",
       "      <td>NaN</td>\n",
       "    </tr>\n",
       "  </tbody>\n",
       "</table>\n",
       "</div>"
      ],
      "text/plain": [
       "               Anna  Betty  Mike  Mindy  Tom\n",
       "The Ritual        4    1.0     4    4.0  2.0\n",
       "The Post          1    NaN     1    NaN  5.0\n",
       "Jumanji           5    1.0     5    NaN  1.0\n",
       "Lady Bird         4    NaN     4    5.0  3.0\n",
       "Alien             5    1.0     5    3.0  NaN\n",
       "Titanic           1    4.0     1    3.0  3.0\n",
       "The Producers     4    NaN     4    NaN  NaN"
      ]
     },
     "execution_count": 4,
     "metadata": {},
     "output_type": "execute_result"
    }
   ],
   "source": [
    "df = pd.DataFrame(\n",
    "    {'Anna': rt_anna,\n",
    "     'Mike': rt_mike,\n",
    "     'Tom': rt_tom,\n",
    "     'Betty': rt_betty,\n",
    "     'Mindy': rt_mindy},\n",
    "     index=movies)\n",
    "df"
   ]
  },
  {
   "cell_type": "markdown",
   "metadata": {},
   "source": [
    "Create a CSV file version of the dataframe and read it."
   ]
  },
  {
   "cell_type": "code",
   "execution_count": 8,
   "metadata": {
    "collapsed": false
   },
   "outputs": [
    {
     "data": {
      "text/html": [
       "<div>\n",
       "<table border=\"1\" class=\"dataframe\">\n",
       "  <thead>\n",
       "    <tr style=\"text-align: right;\">\n",
       "      <th></th>\n",
       "      <th>Anna</th>\n",
       "      <th>Betty</th>\n",
       "      <th>Mike</th>\n",
       "      <th>Mindy</th>\n",
       "      <th>Tom</th>\n",
       "    </tr>\n",
       "  </thead>\n",
       "  <tbody>\n",
       "    <tr>\n",
       "      <th>The Ritual</th>\n",
       "      <td>4</td>\n",
       "      <td>1.0</td>\n",
       "      <td>4</td>\n",
       "      <td>4.0</td>\n",
       "      <td>2.0</td>\n",
       "    </tr>\n",
       "    <tr>\n",
       "      <th>The Post</th>\n",
       "      <td>1</td>\n",
       "      <td>NaN</td>\n",
       "      <td>1</td>\n",
       "      <td>NaN</td>\n",
       "      <td>5.0</td>\n",
       "    </tr>\n",
       "    <tr>\n",
       "      <th>Jumanji</th>\n",
       "      <td>5</td>\n",
       "      <td>1.0</td>\n",
       "      <td>5</td>\n",
       "      <td>NaN</td>\n",
       "      <td>1.0</td>\n",
       "    </tr>\n",
       "    <tr>\n",
       "      <th>Lady Bird</th>\n",
       "      <td>4</td>\n",
       "      <td>NaN</td>\n",
       "      <td>4</td>\n",
       "      <td>5.0</td>\n",
       "      <td>3.0</td>\n",
       "    </tr>\n",
       "    <tr>\n",
       "      <th>Alien</th>\n",
       "      <td>5</td>\n",
       "      <td>1.0</td>\n",
       "      <td>5</td>\n",
       "      <td>3.0</td>\n",
       "      <td>NaN</td>\n",
       "    </tr>\n",
       "    <tr>\n",
       "      <th>Titanic</th>\n",
       "      <td>1</td>\n",
       "      <td>4.0</td>\n",
       "      <td>1</td>\n",
       "      <td>3.0</td>\n",
       "      <td>3.0</td>\n",
       "    </tr>\n",
       "    <tr>\n",
       "      <th>The Producers</th>\n",
       "      <td>4</td>\n",
       "      <td>NaN</td>\n",
       "      <td>4</td>\n",
       "      <td>NaN</td>\n",
       "      <td>NaN</td>\n",
       "    </tr>\n",
       "  </tbody>\n",
       "</table>\n",
       "</div>"
      ],
      "text/plain": [
       "               Anna  Betty  Mike  Mindy  Tom\n",
       "The Ritual        4    1.0     4    4.0  2.0\n",
       "The Post          1    NaN     1    NaN  5.0\n",
       "Jumanji           5    1.0     5    NaN  1.0\n",
       "Lady Bird         4    NaN     4    5.0  3.0\n",
       "Alien             5    1.0     5    3.0  NaN\n",
       "Titanic           1    4.0     1    3.0  3.0\n",
       "The Producers     4    NaN     4    NaN  NaN"
      ]
     },
     "execution_count": 8,
     "metadata": {},
     "output_type": "execute_result"
    }
   ],
   "source": [
    "df.to_csv('movie-ratings.csv',index=True,header=True)\n",
    "\n",
    "Location = r'D:\\Projects\\Educational\\IS362\\week-7\\movie-ratings.csv'\n",
    "# df_csv = pd.read_csv(Location, names=['Anna\\'s Ratings', 'AM West On Time', 'Alaska Delayed', 'Alaska On Time'])\n",
    "df_csv = pd.read_csv(Location, index_col=0)\n",
    "df_csv"
   ]
  },
  {
   "cell_type": "markdown",
   "metadata": {},
   "source": [
    "Next, read the movie ratings CSV file."
   ]
  },
  {
   "cell_type": "markdown",
   "metadata": {},
   "source": [
    "Then create a copy of the movies DataFrame."
   ]
  },
  {
   "cell_type": "code",
   "execution_count": 9,
   "metadata": {
    "collapsed": false
   },
   "outputs": [],
   "source": [
    "movies_cp = mv_csv.copy()"
   ]
  },
  {
   "cell_type": "code",
   "execution_count": null,
   "metadata": {
    "collapsed": true
   },
   "outputs": [],
   "source": []
  }
 ],
 "metadata": {
  "kernelspec": {
   "display_name": "Python 2",
   "language": "python",
   "name": "python2"
  },
  "language_info": {
   "codemirror_mode": {
    "name": "ipython",
    "version": 2
   },
   "file_extension": ".py",
   "mimetype": "text/x-python",
   "name": "python",
   "nbconvert_exporter": "python",
   "pygments_lexer": "ipython2",
   "version": "2.7.13"
  }
 },
 "nbformat": 4,
 "nbformat_minor": 2
}
