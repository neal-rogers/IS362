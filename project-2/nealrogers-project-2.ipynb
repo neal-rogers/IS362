{
 "cells": [
  {
   "cell_type": "markdown",
   "metadata": {},
   "source": [
    "# IS 362 - Project 2: Baseball Card Inventory\n",
    "\n",
    "To begin, I will import the pandas module."
   ]
  },
  {
   "cell_type": "code",
   "execution_count": 1,
   "metadata": {
    "collapsed": true
   },
   "outputs": [],
   "source": [
    "import pandas as pd\n",
    "import numpy as np\n",
    "import random\n",
    "import matplotlib.pyplot as plot\n",
    "from pandas import DataFrame\n",
    "\n",
    "# Enable inline plotting\n",
    "%matplotlib inline"
   ]
  },
  {
   "cell_type": "markdown",
   "metadata": {},
   "source": [
    "Set some pandas options for controlling output display."
   ]
  },
  {
   "cell_type": "code",
   "execution_count": 2,
   "metadata": {
    "collapsed": true
   },
   "outputs": [],
   "source": [
    "pd.set_option('display.max_columns', 10)\n",
    "pd.set_option('display.max_rows', 10)"
   ]
  },
  {
   "cell_type": "markdown",
   "metadata": {},
   "source": [
    "Next, read the baseball cards CSV file, set column names and index."
   ]
  },
  {
   "cell_type": "code",
   "execution_count": 3,
   "metadata": {
    "collapsed": false
   },
   "outputs": [
    {
     "data": {
      "text/html": [
       "<div>\n",
       "<table border=\"1\" class=\"dataframe\">\n",
       "  <thead>\n",
       "    <tr style=\"text-align: right;\">\n",
       "      <th></th>\n",
       "      <th>Player Name</th>\n",
       "      <th>Position</th>\n",
       "      <th>Company</th>\n",
       "      <th>Set_Number</th>\n",
       "      <th>Set_Year</th>\n",
       "      <th>Condition</th>\n",
       "      <th>Estimated_Value</th>\n",
       "      <th>Actual_Value</th>\n",
       "    </tr>\n",
       "    <tr>\n",
       "      <th>ID</th>\n",
       "      <th></th>\n",
       "      <th></th>\n",
       "      <th></th>\n",
       "      <th></th>\n",
       "      <th></th>\n",
       "      <th></th>\n",
       "      <th></th>\n",
       "      <th></th>\n",
       "    </tr>\n",
       "  </thead>\n",
       "  <tbody>\n",
       "    <tr>\n",
       "      <th>2</th>\n",
       "      <td>Sparky Anderson</td>\n",
       "      <td>MGR</td>\n",
       "      <td>Topps</td>\n",
       "      <td>609</td>\n",
       "      <td>1990</td>\n",
       "      <td>EXCELLENT</td>\n",
       "      <td>NaN</td>\n",
       "      <td>NaN</td>\n",
       "    </tr>\n",
       "    <tr>\n",
       "      <th>3</th>\n",
       "      <td>Jose DeLeon</td>\n",
       "      <td>P</td>\n",
       "      <td>Topps</td>\n",
       "      <td>85</td>\n",
       "      <td>1992</td>\n",
       "      <td>EXCELLENT</td>\n",
       "      <td>NaN</td>\n",
       "      <td>NaN</td>\n",
       "    </tr>\n",
       "    <tr>\n",
       "      <th>4</th>\n",
       "      <td>Cris Carpenter</td>\n",
       "      <td>P</td>\n",
       "      <td>Topps</td>\n",
       "      <td>147</td>\n",
       "      <td>1992</td>\n",
       "      <td>EXCELLENT</td>\n",
       "      <td>NaN</td>\n",
       "      <td>NaN</td>\n",
       "    </tr>\n",
       "    <tr>\n",
       "      <th>5</th>\n",
       "      <td>RJ Reynolds</td>\n",
       "      <td>RF</td>\n",
       "      <td>Score</td>\n",
       "      <td>273</td>\n",
       "      <td>1991</td>\n",
       "      <td>EXCELLENT</td>\n",
       "      <td>NaN</td>\n",
       "      <td>NaN</td>\n",
       "    </tr>\n",
       "    <tr>\n",
       "      <th>6</th>\n",
       "      <td>Mike Stanley</td>\n",
       "      <td>C</td>\n",
       "      <td>Topps</td>\n",
       "      <td>587</td>\n",
       "      <td>1989</td>\n",
       "      <td>GOOD</td>\n",
       "      <td>NaN</td>\n",
       "      <td>NaN</td>\n",
       "    </tr>\n",
       "    <tr>\n",
       "      <th>...</th>\n",
       "      <td>...</td>\n",
       "      <td>...</td>\n",
       "      <td>...</td>\n",
       "      <td>...</td>\n",
       "      <td>...</td>\n",
       "      <td>...</td>\n",
       "      <td>...</td>\n",
       "      <td>...</td>\n",
       "    </tr>\n",
       "    <tr>\n",
       "      <th>194</th>\n",
       "      <td>George Brett</td>\n",
       "      <td>1B-3B</td>\n",
       "      <td>Topps</td>\n",
       "      <td>700</td>\n",
       "      <td>1988</td>\n",
       "      <td>EXCELLENT</td>\n",
       "      <td>NaN</td>\n",
       "      <td>NaN</td>\n",
       "    </tr>\n",
       "    <tr>\n",
       "      <th>195</th>\n",
       "      <td>Bobby Bonilla</td>\n",
       "      <td>1B-OF</td>\n",
       "      <td>Topps</td>\n",
       "      <td>681</td>\n",
       "      <td>1988</td>\n",
       "      <td>FAIR</td>\n",
       "      <td>NaN</td>\n",
       "      <td>NaN</td>\n",
       "    </tr>\n",
       "    <tr>\n",
       "      <th>196</th>\n",
       "      <td>Graig Nettles</td>\n",
       "      <td>1B-3B</td>\n",
       "      <td>Topps</td>\n",
       "      <td>574</td>\n",
       "      <td>1988</td>\n",
       "      <td>EXCELLENT</td>\n",
       "      <td>NaN</td>\n",
       "      <td>NaN</td>\n",
       "    </tr>\n",
       "    <tr>\n",
       "      <th>197</th>\n",
       "      <td>Dale Murphy</td>\n",
       "      <td>OF</td>\n",
       "      <td>Topps</td>\n",
       "      <td>90</td>\n",
       "      <td>1988</td>\n",
       "      <td>EXCELLENT</td>\n",
       "      <td>NaN</td>\n",
       "      <td>NaN</td>\n",
       "    </tr>\n",
       "    <tr>\n",
       "      <th>198</th>\n",
       "      <td>Terry Pendleton</td>\n",
       "      <td>3B</td>\n",
       "      <td>Topps</td>\n",
       "      <td>635</td>\n",
       "      <td>1988</td>\n",
       "      <td>GOOD</td>\n",
       "      <td>NaN</td>\n",
       "      <td>NaN</td>\n",
       "    </tr>\n",
       "  </tbody>\n",
       "</table>\n",
       "<p>197 rows × 8 columns</p>\n",
       "</div>"
      ],
      "text/plain": [
       "         Player Name Position Company  Set_Number  Set_Year  Condition  \\\n",
       "ID                                                                       \n",
       "2    Sparky Anderson      MGR   Topps         609      1990  EXCELLENT   \n",
       "3        Jose DeLeon        P   Topps          85      1992  EXCELLENT   \n",
       "4     Cris Carpenter        P   Topps         147      1992  EXCELLENT   \n",
       "5        RJ Reynolds       RF   Score         273      1991  EXCELLENT   \n",
       "6       Mike Stanley        C   Topps         587      1989       GOOD   \n",
       "..               ...      ...     ...         ...       ...        ...   \n",
       "194     George Brett    1B-3B   Topps         700      1988  EXCELLENT   \n",
       "195    Bobby Bonilla    1B-OF   Topps         681      1988       FAIR   \n",
       "196    Graig Nettles    1B-3B   Topps         574      1988  EXCELLENT   \n",
       "197      Dale Murphy       OF   Topps          90      1988  EXCELLENT   \n",
       "198  Terry Pendleton       3B   Topps         635      1988       GOOD   \n",
       "\n",
       "     Estimated_Value  Actual_Value  \n",
       "ID                                  \n",
       "2                NaN           NaN  \n",
       "3                NaN           NaN  \n",
       "4                NaN           NaN  \n",
       "5                NaN           NaN  \n",
       "6                NaN           NaN  \n",
       "..               ...           ...  \n",
       "194              NaN           NaN  \n",
       "195              NaN           NaN  \n",
       "196              NaN           NaN  \n",
       "197              NaN           NaN  \n",
       "198              NaN           NaN  \n",
       "\n",
       "[197 rows x 8 columns]"
      ]
     },
     "execution_count": 3,
     "metadata": {},
     "output_type": "execute_result"
    }
   ],
   "source": [
    "floc = r'D:\\Projects\\Educational\\IS362\\project-2\\data\\bbcards.csv'\n",
    "bb_csv = pd.read_csv(floc)\n",
    "bb_csv.columns = ['ID',\n",
    "                  'Player Name',\n",
    "                  'Position',\n",
    "                  'Company',\n",
    "                  'Set_Number',\n",
    "                  'Set_Year',\n",
    "                  'Condition',\n",
    "                  'Estimated_Value',\n",
    "                  'Actual_Value']\n",
    "bb_csv.set_index('ID', inplace=True)\n",
    "bb_csv"
   ]
  },
  {
   "cell_type": "markdown",
   "metadata": {},
   "source": [
    "Then create a copy of the baseball card inventory DataFrame."
   ]
  },
  {
   "cell_type": "code",
   "execution_count": 4,
   "metadata": {
    "collapsed": true
   },
   "outputs": [],
   "source": [
    "bb_cp = bb_csv.copy()"
   ]
  },
  {
   "cell_type": "markdown",
   "metadata": {},
   "source": [
    "Peform an in-place replacement all NaN values in the dataframe."
   ]
  },
  {
   "cell_type": "code",
   "execution_count": 5,
   "metadata": {
    "collapsed": false
   },
   "outputs": [
    {
     "data": {
      "text/html": [
       "<div>\n",
       "<table border=\"1\" class=\"dataframe\">\n",
       "  <thead>\n",
       "    <tr style=\"text-align: right;\">\n",
       "      <th></th>\n",
       "      <th>Player Name</th>\n",
       "      <th>Position</th>\n",
       "      <th>Company</th>\n",
       "      <th>Set_Number</th>\n",
       "      <th>Set_Year</th>\n",
       "      <th>Condition</th>\n",
       "      <th>Estimated_Value</th>\n",
       "      <th>Actual_Value</th>\n",
       "    </tr>\n",
       "    <tr>\n",
       "      <th>ID</th>\n",
       "      <th></th>\n",
       "      <th></th>\n",
       "      <th></th>\n",
       "      <th></th>\n",
       "      <th></th>\n",
       "      <th></th>\n",
       "      <th></th>\n",
       "      <th></th>\n",
       "    </tr>\n",
       "  </thead>\n",
       "  <tbody>\n",
       "    <tr>\n",
       "      <th>2</th>\n",
       "      <td>Sparky Anderson</td>\n",
       "      <td>MGR</td>\n",
       "      <td>Topps</td>\n",
       "      <td>609</td>\n",
       "      <td>1990</td>\n",
       "      <td>EXCELLENT</td>\n",
       "      <td>0.0</td>\n",
       "      <td>0.0</td>\n",
       "    </tr>\n",
       "    <tr>\n",
       "      <th>3</th>\n",
       "      <td>Jose DeLeon</td>\n",
       "      <td>P</td>\n",
       "      <td>Topps</td>\n",
       "      <td>85</td>\n",
       "      <td>1992</td>\n",
       "      <td>EXCELLENT</td>\n",
       "      <td>0.0</td>\n",
       "      <td>0.0</td>\n",
       "    </tr>\n",
       "    <tr>\n",
       "      <th>4</th>\n",
       "      <td>Cris Carpenter</td>\n",
       "      <td>P</td>\n",
       "      <td>Topps</td>\n",
       "      <td>147</td>\n",
       "      <td>1992</td>\n",
       "      <td>EXCELLENT</td>\n",
       "      <td>0.0</td>\n",
       "      <td>0.0</td>\n",
       "    </tr>\n",
       "    <tr>\n",
       "      <th>5</th>\n",
       "      <td>RJ Reynolds</td>\n",
       "      <td>RF</td>\n",
       "      <td>Score</td>\n",
       "      <td>273</td>\n",
       "      <td>1991</td>\n",
       "      <td>EXCELLENT</td>\n",
       "      <td>0.0</td>\n",
       "      <td>0.0</td>\n",
       "    </tr>\n",
       "    <tr>\n",
       "      <th>6</th>\n",
       "      <td>Mike Stanley</td>\n",
       "      <td>C</td>\n",
       "      <td>Topps</td>\n",
       "      <td>587</td>\n",
       "      <td>1989</td>\n",
       "      <td>GOOD</td>\n",
       "      <td>0.0</td>\n",
       "      <td>0.0</td>\n",
       "    </tr>\n",
       "    <tr>\n",
       "      <th>...</th>\n",
       "      <td>...</td>\n",
       "      <td>...</td>\n",
       "      <td>...</td>\n",
       "      <td>...</td>\n",
       "      <td>...</td>\n",
       "      <td>...</td>\n",
       "      <td>...</td>\n",
       "      <td>...</td>\n",
       "    </tr>\n",
       "    <tr>\n",
       "      <th>194</th>\n",
       "      <td>George Brett</td>\n",
       "      <td>1B-3B</td>\n",
       "      <td>Topps</td>\n",
       "      <td>700</td>\n",
       "      <td>1988</td>\n",
       "      <td>EXCELLENT</td>\n",
       "      <td>0.0</td>\n",
       "      <td>0.0</td>\n",
       "    </tr>\n",
       "    <tr>\n",
       "      <th>195</th>\n",
       "      <td>Bobby Bonilla</td>\n",
       "      <td>1B-OF</td>\n",
       "      <td>Topps</td>\n",
       "      <td>681</td>\n",
       "      <td>1988</td>\n",
       "      <td>FAIR</td>\n",
       "      <td>0.0</td>\n",
       "      <td>0.0</td>\n",
       "    </tr>\n",
       "    <tr>\n",
       "      <th>196</th>\n",
       "      <td>Graig Nettles</td>\n",
       "      <td>1B-3B</td>\n",
       "      <td>Topps</td>\n",
       "      <td>574</td>\n",
       "      <td>1988</td>\n",
       "      <td>EXCELLENT</td>\n",
       "      <td>0.0</td>\n",
       "      <td>0.0</td>\n",
       "    </tr>\n",
       "    <tr>\n",
       "      <th>197</th>\n",
       "      <td>Dale Murphy</td>\n",
       "      <td>OF</td>\n",
       "      <td>Topps</td>\n",
       "      <td>90</td>\n",
       "      <td>1988</td>\n",
       "      <td>EXCELLENT</td>\n",
       "      <td>0.0</td>\n",
       "      <td>0.0</td>\n",
       "    </tr>\n",
       "    <tr>\n",
       "      <th>198</th>\n",
       "      <td>Terry Pendleton</td>\n",
       "      <td>3B</td>\n",
       "      <td>Topps</td>\n",
       "      <td>635</td>\n",
       "      <td>1988</td>\n",
       "      <td>GOOD</td>\n",
       "      <td>0.0</td>\n",
       "      <td>0.0</td>\n",
       "    </tr>\n",
       "  </tbody>\n",
       "</table>\n",
       "<p>197 rows × 8 columns</p>\n",
       "</div>"
      ],
      "text/plain": [
       "         Player Name Position Company  Set_Number  Set_Year  Condition  \\\n",
       "ID                                                                       \n",
       "2    Sparky Anderson      MGR   Topps         609      1990  EXCELLENT   \n",
       "3        Jose DeLeon        P   Topps          85      1992  EXCELLENT   \n",
       "4     Cris Carpenter        P   Topps         147      1992  EXCELLENT   \n",
       "5        RJ Reynolds       RF   Score         273      1991  EXCELLENT   \n",
       "6       Mike Stanley        C   Topps         587      1989       GOOD   \n",
       "..               ...      ...     ...         ...       ...        ...   \n",
       "194     George Brett    1B-3B   Topps         700      1988  EXCELLENT   \n",
       "195    Bobby Bonilla    1B-OF   Topps         681      1988       FAIR   \n",
       "196    Graig Nettles    1B-3B   Topps         574      1988  EXCELLENT   \n",
       "197      Dale Murphy       OF   Topps          90      1988  EXCELLENT   \n",
       "198  Terry Pendleton       3B   Topps         635      1988       GOOD   \n",
       "\n",
       "     Estimated_Value  Actual_Value  \n",
       "ID                                  \n",
       "2                0.0           0.0  \n",
       "3                0.0           0.0  \n",
       "4                0.0           0.0  \n",
       "5                0.0           0.0  \n",
       "6                0.0           0.0  \n",
       "..               ...           ...  \n",
       "194              0.0           0.0  \n",
       "195              0.0           0.0  \n",
       "196              0.0           0.0  \n",
       "197              0.0           0.0  \n",
       "198              0.0           0.0  \n",
       "\n",
       "[197 rows x 8 columns]"
      ]
     },
     "execution_count": 5,
     "metadata": {},
     "output_type": "execute_result"
    }
   ],
   "source": [
    "bb_cp.fillna(0, inplace=True)\n",
    "bb_cp"
   ]
  },
  {
   "cell_type": "markdown",
   "metadata": {},
   "source": [
    "Now, generate a range of random values for Estimated Values and Actual Values."
   ]
  },
  {
   "cell_type": "code",
   "execution_count": 6,
   "metadata": {
    "collapsed": false
   },
   "outputs": [
    {
     "name": "stdout",
     "output_type": "stream",
     "text": [
      "0      20.4\n",
      "1      88.3\n",
      "2      74.0\n",
      "3      99.0\n",
      "4      73.0\n",
      "       ... \n",
      "192    11.2\n",
      "193    18.4\n",
      "194     2.1\n",
      "195    12.8\n",
      "196    54.1\n",
      "dtype: float64\n"
     ]
    }
   ],
   "source": [
    "e_val = pd.Series(np.around(np.linspace(0.01, 100.00, num=len(bb_cp)), decimals=1))\n",
    "random.seed(len(bb_cp))\n",
    "random.shuffle(e_val)\n",
    "print e_val"
   ]
  },
  {
   "cell_type": "markdown",
   "metadata": {},
   "source": [
    "And generate a range of random values for Actual Values."
   ]
  },
  {
   "cell_type": "code",
   "execution_count": 7,
   "metadata": {
    "collapsed": false
   },
   "outputs": [
    {
     "name": "stdout",
     "output_type": "stream",
     "text": [
      "0      10.2\n",
      "1      44.1\n",
      "2      37.0\n",
      "3      49.5\n",
      "4      36.5\n",
      "       ... \n",
      "192     5.6\n",
      "193     9.2\n",
      "194     1.0\n",
      "195     6.4\n",
      "196    27.0\n",
      "dtype: float64\n"
     ]
    }
   ],
   "source": [
    "a_val = pd.Series(np.around(np.linspace(0.01, 50.00, num=len(bb_cp)), decimals=1))\n",
    "random.seed(len(bb_cp))\n",
    "random.shuffle(a_val)\n",
    "print a_val"
   ]
  },
  {
   "cell_type": "markdown",
   "metadata": {},
   "source": [
    "Next, insert the estimated and actual values lists into the dataframe."
   ]
  },
  {
   "cell_type": "code",
   "execution_count": 8,
   "metadata": {
    "collapsed": false
   },
   "outputs": [
    {
     "data": {
      "text/html": [
       "<div>\n",
       "<table border=\"1\" class=\"dataframe\">\n",
       "  <thead>\n",
       "    <tr style=\"text-align: right;\">\n",
       "      <th></th>\n",
       "      <th>Player Name</th>\n",
       "      <th>Position</th>\n",
       "      <th>Company</th>\n",
       "      <th>Set_Number</th>\n",
       "      <th>Set_Year</th>\n",
       "      <th>Condition</th>\n",
       "      <th>Estimated_Value</th>\n",
       "      <th>Actual_Value</th>\n",
       "    </tr>\n",
       "    <tr>\n",
       "      <th>ID</th>\n",
       "      <th></th>\n",
       "      <th></th>\n",
       "      <th></th>\n",
       "      <th></th>\n",
       "      <th></th>\n",
       "      <th></th>\n",
       "      <th></th>\n",
       "      <th></th>\n",
       "    </tr>\n",
       "  </thead>\n",
       "  <tbody>\n",
       "    <tr>\n",
       "      <th>2</th>\n",
       "      <td>Sparky Anderson</td>\n",
       "      <td>MGR</td>\n",
       "      <td>Topps</td>\n",
       "      <td>609</td>\n",
       "      <td>1990</td>\n",
       "      <td>EXCELLENT</td>\n",
       "      <td>20.4</td>\n",
       "      <td>10.2</td>\n",
       "    </tr>\n",
       "    <tr>\n",
       "      <th>3</th>\n",
       "      <td>Jose DeLeon</td>\n",
       "      <td>P</td>\n",
       "      <td>Topps</td>\n",
       "      <td>85</td>\n",
       "      <td>1992</td>\n",
       "      <td>EXCELLENT</td>\n",
       "      <td>88.3</td>\n",
       "      <td>44.1</td>\n",
       "    </tr>\n",
       "    <tr>\n",
       "      <th>4</th>\n",
       "      <td>Cris Carpenter</td>\n",
       "      <td>P</td>\n",
       "      <td>Topps</td>\n",
       "      <td>147</td>\n",
       "      <td>1992</td>\n",
       "      <td>EXCELLENT</td>\n",
       "      <td>74.0</td>\n",
       "      <td>37.0</td>\n",
       "    </tr>\n",
       "    <tr>\n",
       "      <th>5</th>\n",
       "      <td>RJ Reynolds</td>\n",
       "      <td>RF</td>\n",
       "      <td>Score</td>\n",
       "      <td>273</td>\n",
       "      <td>1991</td>\n",
       "      <td>EXCELLENT</td>\n",
       "      <td>99.0</td>\n",
       "      <td>49.5</td>\n",
       "    </tr>\n",
       "    <tr>\n",
       "      <th>6</th>\n",
       "      <td>Mike Stanley</td>\n",
       "      <td>C</td>\n",
       "      <td>Topps</td>\n",
       "      <td>587</td>\n",
       "      <td>1989</td>\n",
       "      <td>GOOD</td>\n",
       "      <td>73.0</td>\n",
       "      <td>36.5</td>\n",
       "    </tr>\n",
       "    <tr>\n",
       "      <th>...</th>\n",
       "      <td>...</td>\n",
       "      <td>...</td>\n",
       "      <td>...</td>\n",
       "      <td>...</td>\n",
       "      <td>...</td>\n",
       "      <td>...</td>\n",
       "      <td>...</td>\n",
       "      <td>...</td>\n",
       "    </tr>\n",
       "    <tr>\n",
       "      <th>194</th>\n",
       "      <td>George Brett</td>\n",
       "      <td>1B-3B</td>\n",
       "      <td>Topps</td>\n",
       "      <td>700</td>\n",
       "      <td>1988</td>\n",
       "      <td>EXCELLENT</td>\n",
       "      <td>11.2</td>\n",
       "      <td>5.6</td>\n",
       "    </tr>\n",
       "    <tr>\n",
       "      <th>195</th>\n",
       "      <td>Bobby Bonilla</td>\n",
       "      <td>1B-OF</td>\n",
       "      <td>Topps</td>\n",
       "      <td>681</td>\n",
       "      <td>1988</td>\n",
       "      <td>FAIR</td>\n",
       "      <td>18.4</td>\n",
       "      <td>9.2</td>\n",
       "    </tr>\n",
       "    <tr>\n",
       "      <th>196</th>\n",
       "      <td>Graig Nettles</td>\n",
       "      <td>1B-3B</td>\n",
       "      <td>Topps</td>\n",
       "      <td>574</td>\n",
       "      <td>1988</td>\n",
       "      <td>EXCELLENT</td>\n",
       "      <td>2.1</td>\n",
       "      <td>1.0</td>\n",
       "    </tr>\n",
       "    <tr>\n",
       "      <th>197</th>\n",
       "      <td>Dale Murphy</td>\n",
       "      <td>OF</td>\n",
       "      <td>Topps</td>\n",
       "      <td>90</td>\n",
       "      <td>1988</td>\n",
       "      <td>EXCELLENT</td>\n",
       "      <td>12.8</td>\n",
       "      <td>6.4</td>\n",
       "    </tr>\n",
       "    <tr>\n",
       "      <th>198</th>\n",
       "      <td>Terry Pendleton</td>\n",
       "      <td>3B</td>\n",
       "      <td>Topps</td>\n",
       "      <td>635</td>\n",
       "      <td>1988</td>\n",
       "      <td>GOOD</td>\n",
       "      <td>54.1</td>\n",
       "      <td>27.0</td>\n",
       "    </tr>\n",
       "  </tbody>\n",
       "</table>\n",
       "<p>197 rows × 8 columns</p>\n",
       "</div>"
      ],
      "text/plain": [
       "         Player Name Position Company  Set_Number  Set_Year  Condition  \\\n",
       "ID                                                                       \n",
       "2    Sparky Anderson      MGR   Topps         609      1990  EXCELLENT   \n",
       "3        Jose DeLeon        P   Topps          85      1992  EXCELLENT   \n",
       "4     Cris Carpenter        P   Topps         147      1992  EXCELLENT   \n",
       "5        RJ Reynolds       RF   Score         273      1991  EXCELLENT   \n",
       "6       Mike Stanley        C   Topps         587      1989       GOOD   \n",
       "..               ...      ...     ...         ...       ...        ...   \n",
       "194     George Brett    1B-3B   Topps         700      1988  EXCELLENT   \n",
       "195    Bobby Bonilla    1B-OF   Topps         681      1988       FAIR   \n",
       "196    Graig Nettles    1B-3B   Topps         574      1988  EXCELLENT   \n",
       "197      Dale Murphy       OF   Topps          90      1988  EXCELLENT   \n",
       "198  Terry Pendleton       3B   Topps         635      1988       GOOD   \n",
       "\n",
       "     Estimated_Value  Actual_Value  \n",
       "ID                                  \n",
       "2               20.4          10.2  \n",
       "3               88.3          44.1  \n",
       "4               74.0          37.0  \n",
       "5               99.0          49.5  \n",
       "6               73.0          36.5  \n",
       "..               ...           ...  \n",
       "194             11.2           5.6  \n",
       "195             18.4           9.2  \n",
       "196              2.1           1.0  \n",
       "197             12.8           6.4  \n",
       "198             54.1          27.0  \n",
       "\n",
       "[197 rows x 8 columns]"
      ]
     },
     "execution_count": 8,
     "metadata": {},
     "output_type": "execute_result"
    }
   ],
   "source": [
    "bb_cp['Estimated_Value'] = e_val.values\n",
    "bb_cp['Actual_Value'] = a_val.values\n",
    "bb_cp"
   ]
  },
  {
   "cell_type": "markdown",
   "metadata": {},
   "source": [
    "Next, calculate the difference between estimated and actual card values and append to the dataframe."
   ]
  },
  {
   "cell_type": "code",
   "execution_count": 9,
   "metadata": {
    "collapsed": false
   },
   "outputs": [
    {
     "data": {
      "text/html": [
       "<div>\n",
       "<table border=\"1\" class=\"dataframe\">\n",
       "  <thead>\n",
       "    <tr style=\"text-align: right;\">\n",
       "      <th></th>\n",
       "      <th>Player Name</th>\n",
       "      <th>Position</th>\n",
       "      <th>Company</th>\n",
       "      <th>Set_Number</th>\n",
       "      <th>Set_Year</th>\n",
       "      <th>Condition</th>\n",
       "      <th>Estimated_Value</th>\n",
       "      <th>Actual_Value</th>\n",
       "      <th>Value_Difference</th>\n",
       "    </tr>\n",
       "    <tr>\n",
       "      <th>ID</th>\n",
       "      <th></th>\n",
       "      <th></th>\n",
       "      <th></th>\n",
       "      <th></th>\n",
       "      <th></th>\n",
       "      <th></th>\n",
       "      <th></th>\n",
       "      <th></th>\n",
       "      <th></th>\n",
       "    </tr>\n",
       "  </thead>\n",
       "  <tbody>\n",
       "    <tr>\n",
       "      <th>2</th>\n",
       "      <td>Sparky Anderson</td>\n",
       "      <td>MGR</td>\n",
       "      <td>Topps</td>\n",
       "      <td>609</td>\n",
       "      <td>1990</td>\n",
       "      <td>EXCELLENT</td>\n",
       "      <td>20.4</td>\n",
       "      <td>10.2</td>\n",
       "      <td>10.2</td>\n",
       "    </tr>\n",
       "    <tr>\n",
       "      <th>3</th>\n",
       "      <td>Jose DeLeon</td>\n",
       "      <td>P</td>\n",
       "      <td>Topps</td>\n",
       "      <td>85</td>\n",
       "      <td>1992</td>\n",
       "      <td>EXCELLENT</td>\n",
       "      <td>88.3</td>\n",
       "      <td>44.1</td>\n",
       "      <td>44.2</td>\n",
       "    </tr>\n",
       "    <tr>\n",
       "      <th>4</th>\n",
       "      <td>Cris Carpenter</td>\n",
       "      <td>P</td>\n",
       "      <td>Topps</td>\n",
       "      <td>147</td>\n",
       "      <td>1992</td>\n",
       "      <td>EXCELLENT</td>\n",
       "      <td>74.0</td>\n",
       "      <td>37.0</td>\n",
       "      <td>37.0</td>\n",
       "    </tr>\n",
       "    <tr>\n",
       "      <th>5</th>\n",
       "      <td>RJ Reynolds</td>\n",
       "      <td>RF</td>\n",
       "      <td>Score</td>\n",
       "      <td>273</td>\n",
       "      <td>1991</td>\n",
       "      <td>EXCELLENT</td>\n",
       "      <td>99.0</td>\n",
       "      <td>49.5</td>\n",
       "      <td>49.5</td>\n",
       "    </tr>\n",
       "    <tr>\n",
       "      <th>6</th>\n",
       "      <td>Mike Stanley</td>\n",
       "      <td>C</td>\n",
       "      <td>Topps</td>\n",
       "      <td>587</td>\n",
       "      <td>1989</td>\n",
       "      <td>GOOD</td>\n",
       "      <td>73.0</td>\n",
       "      <td>36.5</td>\n",
       "      <td>36.5</td>\n",
       "    </tr>\n",
       "    <tr>\n",
       "      <th>...</th>\n",
       "      <td>...</td>\n",
       "      <td>...</td>\n",
       "      <td>...</td>\n",
       "      <td>...</td>\n",
       "      <td>...</td>\n",
       "      <td>...</td>\n",
       "      <td>...</td>\n",
       "      <td>...</td>\n",
       "      <td>...</td>\n",
       "    </tr>\n",
       "    <tr>\n",
       "      <th>194</th>\n",
       "      <td>George Brett</td>\n",
       "      <td>1B-3B</td>\n",
       "      <td>Topps</td>\n",
       "      <td>700</td>\n",
       "      <td>1988</td>\n",
       "      <td>EXCELLENT</td>\n",
       "      <td>11.2</td>\n",
       "      <td>5.6</td>\n",
       "      <td>5.6</td>\n",
       "    </tr>\n",
       "    <tr>\n",
       "      <th>195</th>\n",
       "      <td>Bobby Bonilla</td>\n",
       "      <td>1B-OF</td>\n",
       "      <td>Topps</td>\n",
       "      <td>681</td>\n",
       "      <td>1988</td>\n",
       "      <td>FAIR</td>\n",
       "      <td>18.4</td>\n",
       "      <td>9.2</td>\n",
       "      <td>9.2</td>\n",
       "    </tr>\n",
       "    <tr>\n",
       "      <th>196</th>\n",
       "      <td>Graig Nettles</td>\n",
       "      <td>1B-3B</td>\n",
       "      <td>Topps</td>\n",
       "      <td>574</td>\n",
       "      <td>1988</td>\n",
       "      <td>EXCELLENT</td>\n",
       "      <td>2.1</td>\n",
       "      <td>1.0</td>\n",
       "      <td>1.1</td>\n",
       "    </tr>\n",
       "    <tr>\n",
       "      <th>197</th>\n",
       "      <td>Dale Murphy</td>\n",
       "      <td>OF</td>\n",
       "      <td>Topps</td>\n",
       "      <td>90</td>\n",
       "      <td>1988</td>\n",
       "      <td>EXCELLENT</td>\n",
       "      <td>12.8</td>\n",
       "      <td>6.4</td>\n",
       "      <td>6.4</td>\n",
       "    </tr>\n",
       "    <tr>\n",
       "      <th>198</th>\n",
       "      <td>Terry Pendleton</td>\n",
       "      <td>3B</td>\n",
       "      <td>Topps</td>\n",
       "      <td>635</td>\n",
       "      <td>1988</td>\n",
       "      <td>GOOD</td>\n",
       "      <td>54.1</td>\n",
       "      <td>27.0</td>\n",
       "      <td>27.1</td>\n",
       "    </tr>\n",
       "  </tbody>\n",
       "</table>\n",
       "<p>197 rows × 9 columns</p>\n",
       "</div>"
      ],
      "text/plain": [
       "         Player Name Position Company  Set_Number  Set_Year  Condition  \\\n",
       "ID                                                                       \n",
       "2    Sparky Anderson      MGR   Topps         609      1990  EXCELLENT   \n",
       "3        Jose DeLeon        P   Topps          85      1992  EXCELLENT   \n",
       "4     Cris Carpenter        P   Topps         147      1992  EXCELLENT   \n",
       "5        RJ Reynolds       RF   Score         273      1991  EXCELLENT   \n",
       "6       Mike Stanley        C   Topps         587      1989       GOOD   \n",
       "..               ...      ...     ...         ...       ...        ...   \n",
       "194     George Brett    1B-3B   Topps         700      1988  EXCELLENT   \n",
       "195    Bobby Bonilla    1B-OF   Topps         681      1988       FAIR   \n",
       "196    Graig Nettles    1B-3B   Topps         574      1988  EXCELLENT   \n",
       "197      Dale Murphy       OF   Topps          90      1988  EXCELLENT   \n",
       "198  Terry Pendleton       3B   Topps         635      1988       GOOD   \n",
       "\n",
       "     Estimated_Value  Actual_Value  Value_Difference  \n",
       "ID                                                    \n",
       "2               20.4          10.2              10.2  \n",
       "3               88.3          44.1              44.2  \n",
       "4               74.0          37.0              37.0  \n",
       "5               99.0          49.5              49.5  \n",
       "6               73.0          36.5              36.5  \n",
       "..               ...           ...               ...  \n",
       "194             11.2           5.6               5.6  \n",
       "195             18.4           9.2               9.2  \n",
       "196              2.1           1.0               1.1  \n",
       "197             12.8           6.4               6.4  \n",
       "198             54.1          27.0              27.1  \n",
       "\n",
       "[197 rows x 9 columns]"
      ]
     },
     "execution_count": 9,
     "metadata": {},
     "output_type": "execute_result"
    }
   ],
   "source": [
    "bb_cp['Value_Difference'] = bb_cp.apply(lambda r: r.Estimated_Value - r.Actual_Value, axis=1)\n",
    "bb_cp"
   ]
  },
  {
   "cell_type": "markdown",
   "metadata": {},
   "source": [
    "Next, create a dataframe of all positions and counts for each."
   ]
  },
  {
   "cell_type": "code",
   "execution_count": 10,
   "metadata": {
    "collapsed": false
   },
   "outputs": [
    {
     "data": {
      "text/html": [
       "<div>\n",
       "<table border=\"1\" class=\"dataframe\">\n",
       "  <thead>\n",
       "    <tr style=\"text-align: right;\">\n",
       "      <th></th>\n",
       "      <th>Count</th>\n",
       "    </tr>\n",
       "  </thead>\n",
       "  <tbody>\n",
       "    <tr>\n",
       "      <th>P</th>\n",
       "      <td>85</td>\n",
       "    </tr>\n",
       "    <tr>\n",
       "      <th>OF</th>\n",
       "      <td>36</td>\n",
       "    </tr>\n",
       "    <tr>\n",
       "      <th>SS</th>\n",
       "      <td>13</td>\n",
       "    </tr>\n",
       "    <tr>\n",
       "      <th>C</th>\n",
       "      <td>11</td>\n",
       "    </tr>\n",
       "    <tr>\n",
       "      <th>3B</th>\n",
       "      <td>10</td>\n",
       "    </tr>\n",
       "    <tr>\n",
       "      <th>...</th>\n",
       "      <td>...</td>\n",
       "    </tr>\n",
       "    <tr>\n",
       "      <th>OF-DH</th>\n",
       "      <td>1</td>\n",
       "    </tr>\n",
       "    <tr>\n",
       "      <th>2B-3B</th>\n",
       "      <td>1</td>\n",
       "    </tr>\n",
       "    <tr>\n",
       "      <th>RF</th>\n",
       "      <td>1</td>\n",
       "    </tr>\n",
       "    <tr>\n",
       "      <th>2B-OF</th>\n",
       "      <td>1</td>\n",
       "    </tr>\n",
       "    <tr>\n",
       "      <th>IF-OF</th>\n",
       "      <td>1</td>\n",
       "    </tr>\n",
       "  </tbody>\n",
       "</table>\n",
       "<p>22 rows × 1 columns</p>\n",
       "</div>"
      ],
      "text/plain": [
       "       Count\n",
       "P         85\n",
       "OF        36\n",
       "SS        13\n",
       "C         11\n",
       "3B        10\n",
       "...      ...\n",
       "OF-DH      1\n",
       "2B-3B      1\n",
       "RF         1\n",
       "2B-OF      1\n",
       "IF-OF      1\n",
       "\n",
       "[22 rows x 1 columns]"
      ]
     },
     "execution_count": 10,
     "metadata": {},
     "output_type": "execute_result"
    }
   ],
   "source": [
    "pos_count = bb_cp['Position'].value_counts().to_frame().rename(columns={'Position': 'Count'})\n",
    "pos_count"
   ]
  },
  {
   "cell_type": "markdown",
   "metadata": {},
   "source": [
    "And create a bar graph for the count of cards by position."
   ]
  },
  {
   "cell_type": "code",
   "execution_count": 16,
   "metadata": {
    "collapsed": false
   },
   "outputs": [
    {
     "data": {
      "text/plain": [
       "<matplotlib.text.Text at 0xcf697d0>"
      ]
     },
     "execution_count": 16,
     "metadata": {},
     "output_type": "execute_result"
    },
    {
     "data": {
      "image/png": "[encoded data removed]",
      "text/plain": [
       "<matplotlib.figure.Figure at 0xd45f6f0>"
      ]
     },
     "metadata": {},
     "output_type": "display_data"
    }
   ],
   "source": [
    "pos_count['Count'].plot.bar()\n",
    "plot.suptitle('Card Count by Position')\n",
    "plot.ylabel('Count')\n",
    "plot.xlabel('Position')"
   ]
  },
  {
   "cell_type": "markdown",
   "metadata": {},
   "source": [
    "Now, create a dataframe for counts of card companies."
   ]
  },
  {
   "cell_type": "code",
   "execution_count": 12,
   "metadata": {
    "collapsed": false
   },
   "outputs": [
    {
     "data": {
      "text/html": [
       "<div>\n",
       "<table border=\"1\" class=\"dataframe\">\n",
       "  <thead>\n",
       "    <tr style=\"text-align: right;\">\n",
       "      <th></th>\n",
       "      <th>Count</th>\n",
       "    </tr>\n",
       "  </thead>\n",
       "  <tbody>\n",
       "    <tr>\n",
       "      <th>Topps</th>\n",
       "      <td>175</td>\n",
       "    </tr>\n",
       "    <tr>\n",
       "      <th>Score</th>\n",
       "      <td>11</td>\n",
       "    </tr>\n",
       "    <tr>\n",
       "      <th>Upper Deck</th>\n",
       "      <td>11</td>\n",
       "    </tr>\n",
       "  </tbody>\n",
       "</table>\n",
       "</div>"
      ],
      "text/plain": [
       "            Count\n",
       "Topps         175\n",
       "Score          11\n",
       "Upper Deck     11"
      ]
     },
     "execution_count": 12,
     "metadata": {},
     "output_type": "execute_result"
    }
   ],
   "source": [
    "co_count = bb_cp['Company'].value_counts().to_frame().rename(columns={'Company': 'Count'})\n",
    "co_count"
   ]
  },
  {
   "cell_type": "markdown",
   "metadata": {},
   "source": [
    "Create a pie chart to represent the proportions of card companies in the dataframe."
   ]
  },
  {
   "cell_type": "code",
   "execution_count": 108,
   "metadata": {
    "collapsed": false
   },
   "outputs": [
    {
     "data": {
      "text/plain": [
       "array([<matplotlib.axes._subplots.AxesSubplot object at 0x14424270>], dtype=object)"
      ]
     },
     "execution_count": 108,
     "metadata": {},
     "output_type": "execute_result"
    },
    {
     "data": {
      "image/png": "[encoded data removed]",
      "text/plain": [
       "<matplotlib.figure.Figure at 0x1439dc70>"
      ]
     },
     "metadata": {},
     "output_type": "display_data"
    }
   ],
   "source": [
    "co_count.plot(kind='pie',\n",
    "              labels=co_count.index,\n",
    "              colors=['green', 'orange', 'b'],\n",
    "              autopct='%1.1f%%',\n",
    "              figsize=(6, 6),\n",
    "              fontsize=20,\n",
    "              subplots=True,\n",
    "              legend=False,\n",
    "              explode=(0.25, 0.25, 0.25))"
   ]
  },
  {
   "cell_type": "markdown",
   "metadata": {},
   "source": [
    "Create a dataframe for counts of card set years."
   ]
  },
  {
   "cell_type": "code",
   "execution_count": 13,
   "metadata": {
    "collapsed": false
   },
   "outputs": [
    {
     "data": {
      "text/html": [
       "<div>\n",
       "<table border=\"1\" class=\"dataframe\">\n",
       "  <thead>\n",
       "    <tr style=\"text-align: right;\">\n",
       "      <th></th>\n",
       "      <th>Count</th>\n",
       "    </tr>\n",
       "  </thead>\n",
       "  <tbody>\n",
       "    <tr>\n",
       "      <th>1990</th>\n",
       "      <td>65</td>\n",
       "    </tr>\n",
       "    <tr>\n",
       "      <th>1989</th>\n",
       "      <td>61</td>\n",
       "    </tr>\n",
       "    <tr>\n",
       "      <th>1992</th>\n",
       "      <td>43</td>\n",
       "    </tr>\n",
       "    <tr>\n",
       "      <th>1991</th>\n",
       "      <td>22</td>\n",
       "    </tr>\n",
       "    <tr>\n",
       "      <th>1988</th>\n",
       "      <td>5</td>\n",
       "    </tr>\n",
       "    <tr>\n",
       "      <th>1987</th>\n",
       "      <td>1</td>\n",
       "    </tr>\n",
       "  </tbody>\n",
       "</table>\n",
       "</div>"
      ],
      "text/plain": [
       "      Count\n",
       "1990     65\n",
       "1989     61\n",
       "1992     43\n",
       "1991     22\n",
       "1988      5\n",
       "1987      1"
      ]
     },
     "execution_count": 13,
     "metadata": {},
     "output_type": "execute_result"
    }
   ],
   "source": [
    "yr_count = bb_cp['Set_Year'].value_counts().to_frame().rename(columns={'Set_Year': 'Count'})\n",
    "yr_count"
   ]
  },
  {
   "cell_type": "markdown",
   "metadata": {},
   "source": [
    "Create one final pie chart for percentage of cards by year."
   ]
  },
  {
   "cell_type": "code",
   "execution_count": 111,
   "metadata": {
    "collapsed": false
   },
   "outputs": [
    {
     "data": {
      "text/plain": [
       "array([<matplotlib.axes._subplots.AxesSubplot object at 0x16B0F950>], dtype=object)"
      ]
     },
     "execution_count": 111,
     "metadata": {},
     "output_type": "execute_result"
    },
    {
     "data": {
      "image/png": "[encoded data removed]",
      "text/plain": [
       "<matplotlib.figure.Figure at 0x1446e130>"
      ]
     },
     "metadata": {},
     "output_type": "display_data"
    }
   ],
   "source": [
    "yr_count.plot(kind='pie',\n",
    "              labels=yr_count.index,\n",
    "              colors=['green', 'orange', 'blue', 'red', 'grey', 'purple'],\n",
    "              autopct='%1.1f%%',\n",
    "              figsize=(6, 6),\n",
    "              fontsize=16,\n",
    "              subplots=True,\n",
    "              legend=False,\n",
    "              startangle=25,\n",
    "              labeldistance=1.15)"
   ]
  }
 ],
 "metadata": {
  "kernelspec": {
   "display_name": "Python 2",
   "language": "python",
   "name": "python2"
  },
  "language_info": {
   "codemirror_mode": {
    "name": "ipython",
    "version": 2
   },
   "file_extension": ".py",
   "mimetype": "text/x-python",
   "name": "python",
   "nbconvert_exporter": "python",
   "pygments_lexer": "ipython2",
   "version": "2.7.13"
  }
 },
 "nbformat": 4,
 "nbformat_minor": 2
}
