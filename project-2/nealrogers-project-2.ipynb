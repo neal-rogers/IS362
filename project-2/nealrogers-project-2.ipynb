{
 "cells": [
  {
   "cell_type": "markdown",
   "metadata": {},
   "source": [
    "# IS 362 - Project 2: Baseball Card Inventory\n",
    "\n",
    "To begin, I will import the pandas module."
   ]
  },
  {
   "cell_type": "code",
   "execution_count": 1,
   "metadata": {
    "collapsed": true
   },
   "outputs": [],
   "source": [
    "import pandas as pd\n",
    "from pandas import DataFrame"
   ]
  },
  {
   "cell_type": "markdown",
   "metadata": {},
   "source": [
    "Set some pandas options for controlling output display."
   ]
  },
  {
   "cell_type": "code",
   "execution_count": 2,
   "metadata": {
    "collapsed": true
   },
   "outputs": [],
   "source": [
    "pd.set_option('display.max_columns', 10)\n",
    "pd.set_option('display.max_rows', 10)"
   ]
  },
  {
   "cell_type": "markdown",
   "metadata": {},
   "source": [
    "Next, read the baseball cards CSV file, set column names and index."
   ]
  },
  {
   "cell_type": "code",
   "execution_count": 3,
   "metadata": {
    "collapsed": false
   },
   "outputs": [
    {
     "data": {
      "text/html": [
       "<div>\n",
       "<table border=\"1\" class=\"dataframe\">\n",
       "  <thead>\n",
       "    <tr style=\"text-align: right;\">\n",
       "      <th></th>\n",
       "      <th>Player Name</th>\n",
       "      <th>Position</th>\n",
       "      <th>Company</th>\n",
       "      <th>Set Numbering</th>\n",
       "      <th>Set Year</th>\n",
       "      <th>Condition</th>\n",
       "      <th>Estimated Value</th>\n",
       "      <th>Actual Value</th>\n",
       "    </tr>\n",
       "    <tr>\n",
       "      <th>ID</th>\n",
       "      <th></th>\n",
       "      <th></th>\n",
       "      <th></th>\n",
       "      <th></th>\n",
       "      <th></th>\n",
       "      <th></th>\n",
       "      <th></th>\n",
       "      <th></th>\n",
       "    </tr>\n",
       "  </thead>\n",
       "  <tbody>\n",
       "    <tr>\n",
       "      <th>2</th>\n",
       "      <td>Sparky Anderson</td>\n",
       "      <td>MGR</td>\n",
       "      <td>Topps</td>\n",
       "      <td>609</td>\n",
       "      <td>1990</td>\n",
       "      <td>EXCELLENT</td>\n",
       "      <td>NaN</td>\n",
       "      <td>NaN</td>\n",
       "    </tr>\n",
       "    <tr>\n",
       "      <th>3</th>\n",
       "      <td>Jose DeLeon</td>\n",
       "      <td>P</td>\n",
       "      <td>Topps</td>\n",
       "      <td>85</td>\n",
       "      <td>1992</td>\n",
       "      <td>EXCELLENT</td>\n",
       "      <td>NaN</td>\n",
       "      <td>NaN</td>\n",
       "    </tr>\n",
       "    <tr>\n",
       "      <th>4</th>\n",
       "      <td>Cris Carpenter</td>\n",
       "      <td>P</td>\n",
       "      <td>Topps</td>\n",
       "      <td>147</td>\n",
       "      <td>1992</td>\n",
       "      <td>EXCELLENT</td>\n",
       "      <td>NaN</td>\n",
       "      <td>NaN</td>\n",
       "    </tr>\n",
       "    <tr>\n",
       "      <th>5</th>\n",
       "      <td>RJ Reynolds</td>\n",
       "      <td>RF</td>\n",
       "      <td>Score</td>\n",
       "      <td>273</td>\n",
       "      <td>1991</td>\n",
       "      <td>EXCELLENT</td>\n",
       "      <td>NaN</td>\n",
       "      <td>NaN</td>\n",
       "    </tr>\n",
       "    <tr>\n",
       "      <th>6</th>\n",
       "      <td>Mike Stanley</td>\n",
       "      <td>C</td>\n",
       "      <td>Topps</td>\n",
       "      <td>587</td>\n",
       "      <td>1989</td>\n",
       "      <td>GOOD</td>\n",
       "      <td>NaN</td>\n",
       "      <td>NaN</td>\n",
       "    </tr>\n",
       "    <tr>\n",
       "      <th>...</th>\n",
       "      <td>...</td>\n",
       "      <td>...</td>\n",
       "      <td>...</td>\n",
       "      <td>...</td>\n",
       "      <td>...</td>\n",
       "      <td>...</td>\n",
       "      <td>...</td>\n",
       "      <td>...</td>\n",
       "    </tr>\n",
       "    <tr>\n",
       "      <th>194</th>\n",
       "      <td>George Brett</td>\n",
       "      <td>1B-3B</td>\n",
       "      <td>Topps</td>\n",
       "      <td>700</td>\n",
       "      <td>1988</td>\n",
       "      <td>EXCELLENT</td>\n",
       "      <td>NaN</td>\n",
       "      <td>NaN</td>\n",
       "    </tr>\n",
       "    <tr>\n",
       "      <th>195</th>\n",
       "      <td>Bobby Bonilla</td>\n",
       "      <td>1B-OF</td>\n",
       "      <td>Topps</td>\n",
       "      <td>681</td>\n",
       "      <td>1988</td>\n",
       "      <td>FAIR</td>\n",
       "      <td>NaN</td>\n",
       "      <td>NaN</td>\n",
       "    </tr>\n",
       "    <tr>\n",
       "      <th>196</th>\n",
       "      <td>Graig Nettles</td>\n",
       "      <td>1B-3B</td>\n",
       "      <td>Topps</td>\n",
       "      <td>574</td>\n",
       "      <td>1988</td>\n",
       "      <td>EXCELLENT</td>\n",
       "      <td>NaN</td>\n",
       "      <td>NaN</td>\n",
       "    </tr>\n",
       "    <tr>\n",
       "      <th>197</th>\n",
       "      <td>Dale Murphy</td>\n",
       "      <td>OF</td>\n",
       "      <td>Topps</td>\n",
       "      <td>90</td>\n",
       "      <td>1988</td>\n",
       "      <td>EXCELLENT</td>\n",
       "      <td>NaN</td>\n",
       "      <td>NaN</td>\n",
       "    </tr>\n",
       "    <tr>\n",
       "      <th>198</th>\n",
       "      <td>Terry Pendleton</td>\n",
       "      <td>3B</td>\n",
       "      <td>Topps</td>\n",
       "      <td>635</td>\n",
       "      <td>1988</td>\n",
       "      <td>GOOD</td>\n",
       "      <td>NaN</td>\n",
       "      <td>NaN</td>\n",
       "    </tr>\n",
       "  </tbody>\n",
       "</table>\n",
       "<p>197 rows × 8 columns</p>\n",
       "</div>"
      ],
      "text/plain": [
       "         Player Name Position Company  Set Numbering  Set Year  Condition  \\\n",
       "ID                                                                          \n",
       "2    Sparky Anderson      MGR   Topps            609      1990  EXCELLENT   \n",
       "3        Jose DeLeon        P   Topps             85      1992  EXCELLENT   \n",
       "4     Cris Carpenter        P   Topps            147      1992  EXCELLENT   \n",
       "5        RJ Reynolds       RF   Score            273      1991  EXCELLENT   \n",
       "6       Mike Stanley        C   Topps            587      1989       GOOD   \n",
       "..               ...      ...     ...            ...       ...        ...   \n",
       "194     George Brett    1B-3B   Topps            700      1988  EXCELLENT   \n",
       "195    Bobby Bonilla    1B-OF   Topps            681      1988       FAIR   \n",
       "196    Graig Nettles    1B-3B   Topps            574      1988  EXCELLENT   \n",
       "197      Dale Murphy       OF   Topps             90      1988  EXCELLENT   \n",
       "198  Terry Pendleton       3B   Topps            635      1988       GOOD   \n",
       "\n",
       "     Estimated Value  Actual Value  \n",
       "ID                                  \n",
       "2                NaN           NaN  \n",
       "3                NaN           NaN  \n",
       "4                NaN           NaN  \n",
       "5                NaN           NaN  \n",
       "6                NaN           NaN  \n",
       "..               ...           ...  \n",
       "194              NaN           NaN  \n",
       "195              NaN           NaN  \n",
       "196              NaN           NaN  \n",
       "197              NaN           NaN  \n",
       "198              NaN           NaN  \n",
       "\n",
       "[197 rows x 8 columns]"
      ]
     },
     "execution_count": 3,
     "metadata": {},
     "output_type": "execute_result"
    }
   ],
   "source": [
    "floc = r'D:\\Projects\\Educational\\IS362\\project-2\\data\\bbcards.csv'\n",
    "bb_csv = pd.read_csv(floc)\n",
    "bb_csv.columns = ['ID', 'Player Name', 'Position', 'Company', 'Set Numbering', 'Set Year', 'Condition', 'Estimated Value', 'Actual Value']\n",
    "bb_csv.set_index('ID', inplace=True)\n",
    "bb_csv"
   ]
  },
  {
   "cell_type": "markdown",
   "metadata": {},
   "source": [
    "Then create a copy of the baseball card inventory DataFrame."
   ]
  },
  {
   "cell_type": "code",
   "execution_count": null,
   "metadata": {
    "collapsed": true
   },
   "outputs": [],
   "source": [
    "bbcards_cp = bb_csv.copy()"
   ]
  },
  {
   "cell_type": "code",
   "execution_count": null,
   "metadata": {
    "collapsed": true
   },
   "outputs": [],
   "source": []
  }
 ],
 "metadata": {
  "kernelspec": {
   "display_name": "Python 2",
   "language": "python",
   "name": "python2"
  },
  "language_info": {
   "codemirror_mode": {
    "name": "ipython",
    "version": 2
   },
   "file_extension": ".py",
   "mimetype": "text/x-python",
   "name": "python",
   "nbconvert_exporter": "python",
   "pygments_lexer": "ipython2",
   "version": "2.7.13"
  }
 },
 "nbformat": 4,
 "nbformat_minor": 2
}
