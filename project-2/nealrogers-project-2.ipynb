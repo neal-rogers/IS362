{
 "cells": [
  {
   "cell_type": "markdown",
   "metadata": {},
   "source": [
    "# IS 362 - Project 2: Baseball Card Inventory\n",
    "\n",
    "To begin, I will import the pandas module."
   ]
  },
  {
   "cell_type": "code",
   "execution_count": 1,
   "metadata": {
    "collapsed": true
   },
   "outputs": [],
   "source": [
    "import pandas as pd\n",
    "import numpy as np\n",
    "import random\n",
    "import matplotlib.pyplot as plot\n",
    "from pandas import DataFrame"
   ]
  },
  {
   "cell_type": "markdown",
   "metadata": {},
   "source": [
    "Set some pandas options for controlling output display."
   ]
  },
  {
   "cell_type": "code",
   "execution_count": 2,
   "metadata": {
    "collapsed": true
   },
   "outputs": [],
   "source": [
    "pd.set_option('display.max_columns', 10)\n",
    "pd.set_option('display.max_rows', 10)"
   ]
  },
  {
   "cell_type": "markdown",
   "metadata": {},
   "source": [
    "Next, read the baseball cards CSV file, set column names and index."
   ]
  },
  {
   "cell_type": "code",
   "execution_count": 3,
   "metadata": {
    "collapsed": false
   },
   "outputs": [
    {
     "data": {
      "text/html": [
       "<div>\n",
       "<table border=\"1\" class=\"dataframe\">\n",
       "  <thead>\n",
       "    <tr style=\"text-align: right;\">\n",
       "      <th></th>\n",
       "      <th>Player Name</th>\n",
       "      <th>Position</th>\n",
       "      <th>Company</th>\n",
       "      <th>Set Number</th>\n",
       "      <th>Set Year</th>\n",
       "      <th>Condition</th>\n",
       "      <th>Estimated Value</th>\n",
       "      <th>Actual Value</th>\n",
       "    </tr>\n",
       "    <tr>\n",
       "      <th>ID</th>\n",
       "      <th></th>\n",
       "      <th></th>\n",
       "      <th></th>\n",
       "      <th></th>\n",
       "      <th></th>\n",
       "      <th></th>\n",
       "      <th></th>\n",
       "      <th></th>\n",
       "    </tr>\n",
       "  </thead>\n",
       "  <tbody>\n",
       "    <tr>\n",
       "      <th>2</th>\n",
       "      <td>Sparky Anderson</td>\n",
       "      <td>MGR</td>\n",
       "      <td>Topps</td>\n",
       "      <td>609</td>\n",
       "      <td>1990</td>\n",
       "      <td>EXCELLENT</td>\n",
       "      <td>NaN</td>\n",
       "      <td>NaN</td>\n",
       "    </tr>\n",
       "    <tr>\n",
       "      <th>3</th>\n",
       "      <td>Jose DeLeon</td>\n",
       "      <td>P</td>\n",
       "      <td>Topps</td>\n",
       "      <td>85</td>\n",
       "      <td>1992</td>\n",
       "      <td>EXCELLENT</td>\n",
       "      <td>NaN</td>\n",
       "      <td>NaN</td>\n",
       "    </tr>\n",
       "    <tr>\n",
       "      <th>4</th>\n",
       "      <td>Cris Carpenter</td>\n",
       "      <td>P</td>\n",
       "      <td>Topps</td>\n",
       "      <td>147</td>\n",
       "      <td>1992</td>\n",
       "      <td>EXCELLENT</td>\n",
       "      <td>NaN</td>\n",
       "      <td>NaN</td>\n",
       "    </tr>\n",
       "    <tr>\n",
       "      <th>5</th>\n",
       "      <td>RJ Reynolds</td>\n",
       "      <td>RF</td>\n",
       "      <td>Score</td>\n",
       "      <td>273</td>\n",
       "      <td>1991</td>\n",
       "      <td>EXCELLENT</td>\n",
       "      <td>NaN</td>\n",
       "      <td>NaN</td>\n",
       "    </tr>\n",
       "    <tr>\n",
       "      <th>6</th>\n",
       "      <td>Mike Stanley</td>\n",
       "      <td>C</td>\n",
       "      <td>Topps</td>\n",
       "      <td>587</td>\n",
       "      <td>1989</td>\n",
       "      <td>GOOD</td>\n",
       "      <td>NaN</td>\n",
       "      <td>NaN</td>\n",
       "    </tr>\n",
       "    <tr>\n",
       "      <th>...</th>\n",
       "      <td>...</td>\n",
       "      <td>...</td>\n",
       "      <td>...</td>\n",
       "      <td>...</td>\n",
       "      <td>...</td>\n",
       "      <td>...</td>\n",
       "      <td>...</td>\n",
       "      <td>...</td>\n",
       "    </tr>\n",
       "    <tr>\n",
       "      <th>194</th>\n",
       "      <td>George Brett</td>\n",
       "      <td>1B-3B</td>\n",
       "      <td>Topps</td>\n",
       "      <td>700</td>\n",
       "      <td>1988</td>\n",
       "      <td>EXCELLENT</td>\n",
       "      <td>NaN</td>\n",
       "      <td>NaN</td>\n",
       "    </tr>\n",
       "    <tr>\n",
       "      <th>195</th>\n",
       "      <td>Bobby Bonilla</td>\n",
       "      <td>1B-OF</td>\n",
       "      <td>Topps</td>\n",
       "      <td>681</td>\n",
       "      <td>1988</td>\n",
       "      <td>FAIR</td>\n",
       "      <td>NaN</td>\n",
       "      <td>NaN</td>\n",
       "    </tr>\n",
       "    <tr>\n",
       "      <th>196</th>\n",
       "      <td>Graig Nettles</td>\n",
       "      <td>1B-3B</td>\n",
       "      <td>Topps</td>\n",
       "      <td>574</td>\n",
       "      <td>1988</td>\n",
       "      <td>EXCELLENT</td>\n",
       "      <td>NaN</td>\n",
       "      <td>NaN</td>\n",
       "    </tr>\n",
       "    <tr>\n",
       "      <th>197</th>\n",
       "      <td>Dale Murphy</td>\n",
       "      <td>OF</td>\n",
       "      <td>Topps</td>\n",
       "      <td>90</td>\n",
       "      <td>1988</td>\n",
       "      <td>EXCELLENT</td>\n",
       "      <td>NaN</td>\n",
       "      <td>NaN</td>\n",
       "    </tr>\n",
       "    <tr>\n",
       "      <th>198</th>\n",
       "      <td>Terry Pendleton</td>\n",
       "      <td>3B</td>\n",
       "      <td>Topps</td>\n",
       "      <td>635</td>\n",
       "      <td>1988</td>\n",
       "      <td>GOOD</td>\n",
       "      <td>NaN</td>\n",
       "      <td>NaN</td>\n",
       "    </tr>\n",
       "  </tbody>\n",
       "</table>\n",
       "<p>197 rows × 8 columns</p>\n",
       "</div>"
      ],
      "text/plain": [
       "         Player Name Position Company  Set Number  Set Year  Condition  \\\n",
       "ID                                                                       \n",
       "2    Sparky Anderson      MGR   Topps         609      1990  EXCELLENT   \n",
       "3        Jose DeLeon        P   Topps          85      1992  EXCELLENT   \n",
       "4     Cris Carpenter        P   Topps         147      1992  EXCELLENT   \n",
       "5        RJ Reynolds       RF   Score         273      1991  EXCELLENT   \n",
       "6       Mike Stanley        C   Topps         587      1989       GOOD   \n",
       "..               ...      ...     ...         ...       ...        ...   \n",
       "194     George Brett    1B-3B   Topps         700      1988  EXCELLENT   \n",
       "195    Bobby Bonilla    1B-OF   Topps         681      1988       FAIR   \n",
       "196    Graig Nettles    1B-3B   Topps         574      1988  EXCELLENT   \n",
       "197      Dale Murphy       OF   Topps          90      1988  EXCELLENT   \n",
       "198  Terry Pendleton       3B   Topps         635      1988       GOOD   \n",
       "\n",
       "     Estimated Value  Actual Value  \n",
       "ID                                  \n",
       "2                NaN           NaN  \n",
       "3                NaN           NaN  \n",
       "4                NaN           NaN  \n",
       "5                NaN           NaN  \n",
       "6                NaN           NaN  \n",
       "..               ...           ...  \n",
       "194              NaN           NaN  \n",
       "195              NaN           NaN  \n",
       "196              NaN           NaN  \n",
       "197              NaN           NaN  \n",
       "198              NaN           NaN  \n",
       "\n",
       "[197 rows x 8 columns]"
      ]
     },
     "execution_count": 3,
     "metadata": {},
     "output_type": "execute_result"
    }
   ],
   "source": [
    "floc = r'D:\\Projects\\Educational\\IS362\\project-2\\data\\bbcards.csv'\n",
    "bb_csv = pd.read_csv(floc)\n",
    "bb_csv.columns = ['ID', 'Player Name', 'Position', 'Company', 'Set Number', 'Set Year', 'Condition', 'Estimated Value', 'Actual Value']\n",
    "bb_csv.set_index('ID', inplace=True)\n",
    "bb_csv"
   ]
  },
  {
   "cell_type": "markdown",
   "metadata": {},
   "source": [
    "Then create a copy of the baseball card inventory DataFrame."
   ]
  },
  {
   "cell_type": "code",
   "execution_count": 4,
   "metadata": {
    "collapsed": true
   },
   "outputs": [],
   "source": [
    "bb_cp = bb_csv.copy()"
   ]
  },
  {
   "cell_type": "markdown",
   "metadata": {},
   "source": [
    "Peform an in-place replacement all NaN values in the dataframe."
   ]
  },
  {
   "cell_type": "code",
   "execution_count": 5,
   "metadata": {
    "collapsed": false
   },
   "outputs": [
    {
     "data": {
      "text/html": [
       "<div>\n",
       "<table border=\"1\" class=\"dataframe\">\n",
       "  <thead>\n",
       "    <tr style=\"text-align: right;\">\n",
       "      <th></th>\n",
       "      <th>Player Name</th>\n",
       "      <th>Position</th>\n",
       "      <th>Company</th>\n",
       "      <th>Set Number</th>\n",
       "      <th>Set Year</th>\n",
       "      <th>Condition</th>\n",
       "      <th>Estimated Value</th>\n",
       "      <th>Actual Value</th>\n",
       "    </tr>\n",
       "    <tr>\n",
       "      <th>ID</th>\n",
       "      <th></th>\n",
       "      <th></th>\n",
       "      <th></th>\n",
       "      <th></th>\n",
       "      <th></th>\n",
       "      <th></th>\n",
       "      <th></th>\n",
       "      <th></th>\n",
       "    </tr>\n",
       "  </thead>\n",
       "  <tbody>\n",
       "    <tr>\n",
       "      <th>2</th>\n",
       "      <td>Sparky Anderson</td>\n",
       "      <td>MGR</td>\n",
       "      <td>Topps</td>\n",
       "      <td>609</td>\n",
       "      <td>1990</td>\n",
       "      <td>EXCELLENT</td>\n",
       "      <td>0.0</td>\n",
       "      <td>0.0</td>\n",
       "    </tr>\n",
       "    <tr>\n",
       "      <th>3</th>\n",
       "      <td>Jose DeLeon</td>\n",
       "      <td>P</td>\n",
       "      <td>Topps</td>\n",
       "      <td>85</td>\n",
       "      <td>1992</td>\n",
       "      <td>EXCELLENT</td>\n",
       "      <td>0.0</td>\n",
       "      <td>0.0</td>\n",
       "    </tr>\n",
       "    <tr>\n",
       "      <th>4</th>\n",
       "      <td>Cris Carpenter</td>\n",
       "      <td>P</td>\n",
       "      <td>Topps</td>\n",
       "      <td>147</td>\n",
       "      <td>1992</td>\n",
       "      <td>EXCELLENT</td>\n",
       "      <td>0.0</td>\n",
       "      <td>0.0</td>\n",
       "    </tr>\n",
       "    <tr>\n",
       "      <th>5</th>\n",
       "      <td>RJ Reynolds</td>\n",
       "      <td>RF</td>\n",
       "      <td>Score</td>\n",
       "      <td>273</td>\n",
       "      <td>1991</td>\n",
       "      <td>EXCELLENT</td>\n",
       "      <td>0.0</td>\n",
       "      <td>0.0</td>\n",
       "    </tr>\n",
       "    <tr>\n",
       "      <th>6</th>\n",
       "      <td>Mike Stanley</td>\n",
       "      <td>C</td>\n",
       "      <td>Topps</td>\n",
       "      <td>587</td>\n",
       "      <td>1989</td>\n",
       "      <td>GOOD</td>\n",
       "      <td>0.0</td>\n",
       "      <td>0.0</td>\n",
       "    </tr>\n",
       "    <tr>\n",
       "      <th>...</th>\n",
       "      <td>...</td>\n",
       "      <td>...</td>\n",
       "      <td>...</td>\n",
       "      <td>...</td>\n",
       "      <td>...</td>\n",
       "      <td>...</td>\n",
       "      <td>...</td>\n",
       "      <td>...</td>\n",
       "    </tr>\n",
       "    <tr>\n",
       "      <th>194</th>\n",
       "      <td>George Brett</td>\n",
       "      <td>1B-3B</td>\n",
       "      <td>Topps</td>\n",
       "      <td>700</td>\n",
       "      <td>1988</td>\n",
       "      <td>EXCELLENT</td>\n",
       "      <td>0.0</td>\n",
       "      <td>0.0</td>\n",
       "    </tr>\n",
       "    <tr>\n",
       "      <th>195</th>\n",
       "      <td>Bobby Bonilla</td>\n",
       "      <td>1B-OF</td>\n",
       "      <td>Topps</td>\n",
       "      <td>681</td>\n",
       "      <td>1988</td>\n",
       "      <td>FAIR</td>\n",
       "      <td>0.0</td>\n",
       "      <td>0.0</td>\n",
       "    </tr>\n",
       "    <tr>\n",
       "      <th>196</th>\n",
       "      <td>Graig Nettles</td>\n",
       "      <td>1B-3B</td>\n",
       "      <td>Topps</td>\n",
       "      <td>574</td>\n",
       "      <td>1988</td>\n",
       "      <td>EXCELLENT</td>\n",
       "      <td>0.0</td>\n",
       "      <td>0.0</td>\n",
       "    </tr>\n",
       "    <tr>\n",
       "      <th>197</th>\n",
       "      <td>Dale Murphy</td>\n",
       "      <td>OF</td>\n",
       "      <td>Topps</td>\n",
       "      <td>90</td>\n",
       "      <td>1988</td>\n",
       "      <td>EXCELLENT</td>\n",
       "      <td>0.0</td>\n",
       "      <td>0.0</td>\n",
       "    </tr>\n",
       "    <tr>\n",
       "      <th>198</th>\n",
       "      <td>Terry Pendleton</td>\n",
       "      <td>3B</td>\n",
       "      <td>Topps</td>\n",
       "      <td>635</td>\n",
       "      <td>1988</td>\n",
       "      <td>GOOD</td>\n",
       "      <td>0.0</td>\n",
       "      <td>0.0</td>\n",
       "    </tr>\n",
       "  </tbody>\n",
       "</table>\n",
       "<p>197 rows × 8 columns</p>\n",
       "</div>"
      ],
      "text/plain": [
       "         Player Name Position Company  Set Number  Set Year  Condition  \\\n",
       "ID                                                                       \n",
       "2    Sparky Anderson      MGR   Topps         609      1990  EXCELLENT   \n",
       "3        Jose DeLeon        P   Topps          85      1992  EXCELLENT   \n",
       "4     Cris Carpenter        P   Topps         147      1992  EXCELLENT   \n",
       "5        RJ Reynolds       RF   Score         273      1991  EXCELLENT   \n",
       "6       Mike Stanley        C   Topps         587      1989       GOOD   \n",
       "..               ...      ...     ...         ...       ...        ...   \n",
       "194     George Brett    1B-3B   Topps         700      1988  EXCELLENT   \n",
       "195    Bobby Bonilla    1B-OF   Topps         681      1988       FAIR   \n",
       "196    Graig Nettles    1B-3B   Topps         574      1988  EXCELLENT   \n",
       "197      Dale Murphy       OF   Topps          90      1988  EXCELLENT   \n",
       "198  Terry Pendleton       3B   Topps         635      1988       GOOD   \n",
       "\n",
       "     Estimated Value  Actual Value  \n",
       "ID                                  \n",
       "2                0.0           0.0  \n",
       "3                0.0           0.0  \n",
       "4                0.0           0.0  \n",
       "5                0.0           0.0  \n",
       "6                0.0           0.0  \n",
       "..               ...           ...  \n",
       "194              0.0           0.0  \n",
       "195              0.0           0.0  \n",
       "196              0.0           0.0  \n",
       "197              0.0           0.0  \n",
       "198              0.0           0.0  \n",
       "\n",
       "[197 rows x 8 columns]"
      ]
     },
     "execution_count": 5,
     "metadata": {},
     "output_type": "execute_result"
    }
   ],
   "source": [
    "bb_cp.fillna(0, inplace=True)\n",
    "bb_cp"
   ]
  },
  {
   "cell_type": "markdown",
   "metadata": {},
   "source": [
    "Now, generate a range of random values for Estimated Values and Actual Values."
   ]
  },
  {
   "cell_type": "code",
   "execution_count": 36,
   "metadata": {
    "collapsed": false
   },
   "outputs": [
    {
     "name": "stdout",
     "output_type": "stream",
     "text": [
      "[   9.2   40.3   55.6   95.9   39.3   48.5   64.3   71.4   82.1   49.\n",
      "   22.5   45.4   35.7   28.1   85.2   20.9    8.7   71.9   79.1   77.6\n",
      "    5.1   99.    63.8   74.5   53.1   32.7   66.3   30.6   46.4   84.7\n",
      "   89.3   94.4   34.7   67.9   68.4   29.6   26.5   57.1    0.    45.9\n",
      "   27.    17.4   87.8   42.4    2.6   66.8   63.3   51.    62.2   33.2\n",
      "   38.8   81.1   48.    41.8   31.6   91.3   18.9   15.8   87.2   37.8\n",
      "    6.1   65.8    3.6   57.7   69.4    4.6   16.3   38.3   51.5   11.7\n",
      "   70.9   83.7   88.3   16.8    7.2    2.1    1.    36.2   21.4   27.6\n",
      "   18.4   44.4    4.1   77.    24.    75.5   39.8   42.9   68.9   91.8\n",
      "   30.1    8.2   86.7   33.7   12.3   79.6   12.8   80.1   98.5   92.9\n",
      "   58.2   94.9   85.7   89.8   31.1   78.6   25.    81.6   46.9    9.7\n",
      "   37.3    1.5   10.2   92.3    6.6   62.8   13.3   54.6   90.3  100.    73.\n",
      "   96.4   19.4   72.5   95.4   49.5   43.9   64.8   14.8   50.5   73.5\n",
      "   61.2   56.1   65.3   67.4   90.8   14.3   56.6   93.4   21.9   60.7\n",
      "   19.9   59.2   41.3   53.6   58.7   35.2   74.    80.6   34.2   23.5\n",
      "    5.6   47.5    7.7   82.7   59.7   20.4    0.5   13.8   36.7   52.6\n",
      "   88.8   98.    23.    10.7   50.    61.7   75.    43.4   97.4   40.8\n",
      "   76.    15.3   28.6   76.5   93.9   60.2   25.5   99.5   29.1   70.4\n",
      "   44.9   69.9   55.1   52.    54.1   96.9   86.2   78.1   84.2   17.9\n",
      "   11.2   32.1   83.2   26.    24.5    3.1]\n"
     ]
    }
   ],
   "source": [
    "e_val = np.around(np.linspace(0.01, 100.00, num=len(bb_cp)), decimals=1)\n",
    "random.shuffle(e_val)\n",
    "print e_val"
   ]
  },
  {
   "cell_type": "markdown",
   "metadata": {},
   "source": [
    "And generate a range of random values for Actual Values."
   ]
  },
  {
   "cell_type": "code",
   "execution_count": 39,
   "metadata": {
    "collapsed": false
   },
   "outputs": [
    {
     "name": "stdout",
     "output_type": "stream",
     "text": [
      "[ 16.3  41.8   2.6  48.7  42.9  33.9   0.3   5.4  41.1  46.4  25.    6.1\n",
      "   6.9  12.5  38.8   3.6  13.5   5.9   8.9   8.2  18.4  44.4  42.1  49.7\n",
      "  22.7  11.   19.1   0.    4.3   1.3  28.6  43.1  12.   40.3  29.6  30.4\n",
      "  24.5   0.8   8.4  32.1  49.5   6.4  40.8  27.8  46.9   7.7   2.8  10.5\n",
      "   4.9  16.1  36.2  38.5  25.8  48.5  48.2  32.4  39.3  13.   47.2  35.7\n",
      "  45.9   7.4  14.    8.7   1.    9.4   2.1  20.2  47.4  46.7   3.1   0.5\n",
      "  20.7  44.9   1.8  24.2  45.4  35.   21.7  50.   37.8  30.6  44.1  17.4\n",
      "  33.7  10.7   3.8  10.2  32.9  11.5   7.2  37.   26.   18.6  26.3   5.1\n",
      "   4.1  33.2  31.1  46.2  13.3  30.9  37.2  42.3  44.6  17.1  14.3   5.6\n",
      "  23.5  38.3  41.3   2.3  19.9  21.2  24.   29.1  43.4  27.6  40.1  20.4\n",
      "  28.3  23.7  43.6  15.8  26.5  23.2  27.   35.5  31.6  16.6  39.5  15.1\n",
      "  45.7  31.9  42.6  26.8  38.   25.3  11.2  17.6  37.5   3.3  49.2  14.5\n",
      "  22.5  21.9  39.    9.7  21.4  19.6  40.6  35.2  13.8  39.8   6.6  19.4\n",
      "  36.7  25.5  17.9   7.9  10.   15.3  16.8  28.8  49.   36.5   1.5  36.\n",
      "  23.   45.2   9.2  30.1  28.1  34.7  29.3  32.7  48.   41.6  29.9  34.2\n",
      "  18.9   4.6  34.4  24.7  14.8  18.1  22.2  27.3  31.4  12.8  33.4  12.3\n",
      "  15.6  11.7  20.9  43.9  47.7]\n"
     ]
    }
   ],
   "source": [
    "a_val = np.around(np.linspace(0.01, 50.00, num=len(bb_cp)), decimals=1)\n",
    "random.shuffle(a_val)\n",
    "print a_val"
   ]
  },
  {
   "cell_type": "code",
   "execution_count": 37,
   "metadata": {
    "collapsed": false
   },
   "outputs": [
    {
     "data": {
      "text/plain": [
       "197"
      ]
     },
     "execution_count": 37,
     "metadata": {},
     "output_type": "execute_result"
    }
   ],
   "source": [
    "len(e_val)"
   ]
  },
  {
   "cell_type": "code",
   "execution_count": 7,
   "metadata": {
    "collapsed": false
   },
   "outputs": [
    {
     "data": {
      "text/plain": [
       "array(['MGR', 'P', 'RF', 'C', 'OF', '2B', 'SS', '1B', 'SS-2B', '3B',\n",
       "       'OF-DH', 'OF-1B', '2B-SS', 'CF', 'IF', 'RP', 'IF-OF', '3B-SS',\n",
       "       '2B-OF', '2B-3B', '1B-OF', '1B-3B'], dtype=object)"
      ]
     },
     "execution_count": 7,
     "metadata": {},
     "output_type": "execute_result"
    }
   ],
   "source": [
    "bb_cp.Position.unique()"
   ]
  },
  {
   "cell_type": "code",
   "execution_count": 6,
   "metadata": {
    "collapsed": false
   },
   "outputs": [
    {
     "data": {
      "text/plain": [
       "197"
      ]
     },
     "execution_count": 6,
     "metadata": {},
     "output_type": "execute_result"
    }
   ],
   "source": [
    "len(bb_cp)"
   ]
  },
  {
   "cell_type": "code",
   "execution_count": 12,
   "metadata": {
    "collapsed": false
   },
   "outputs": [
    {
     "data": {
      "text/html": [
       "<div>\n",
       "<table border=\"1\" class=\"dataframe\">\n",
       "  <thead>\n",
       "    <tr style=\"text-align: right;\">\n",
       "      <th></th>\n",
       "      <th>Player Name</th>\n",
       "      <th>Position</th>\n",
       "      <th>Company</th>\n",
       "      <th>Set Number</th>\n",
       "      <th>Set Year</th>\n",
       "      <th>Condition</th>\n",
       "      <th>Estimated Value</th>\n",
       "      <th>Actual Value</th>\n",
       "    </tr>\n",
       "    <tr>\n",
       "      <th>ID</th>\n",
       "      <th></th>\n",
       "      <th></th>\n",
       "      <th></th>\n",
       "      <th></th>\n",
       "      <th></th>\n",
       "      <th></th>\n",
       "      <th></th>\n",
       "      <th></th>\n",
       "    </tr>\n",
       "  </thead>\n",
       "  <tbody>\n",
       "    <tr>\n",
       "      <th>2</th>\n",
       "      <td>Sparky Anderson</td>\n",
       "      <td>MGR</td>\n",
       "      <td>Topps</td>\n",
       "      <td>609</td>\n",
       "      <td>1990</td>\n",
       "      <td>EXCELLENT</td>\n",
       "      <td>0.0</td>\n",
       "      <td>0.0</td>\n",
       "    </tr>\n",
       "    <tr>\n",
       "      <th>3</th>\n",
       "      <td>Jose DeLeon</td>\n",
       "      <td>P</td>\n",
       "      <td>Topps</td>\n",
       "      <td>85</td>\n",
       "      <td>1992</td>\n",
       "      <td>EXCELLENT</td>\n",
       "      <td>0.0</td>\n",
       "      <td>0.0</td>\n",
       "    </tr>\n",
       "    <tr>\n",
       "      <th>4</th>\n",
       "      <td>Cris Carpenter</td>\n",
       "      <td>P</td>\n",
       "      <td>Topps</td>\n",
       "      <td>147</td>\n",
       "      <td>1992</td>\n",
       "      <td>EXCELLENT</td>\n",
       "      <td>0.0</td>\n",
       "      <td>0.0</td>\n",
       "    </tr>\n",
       "    <tr>\n",
       "      <th>5</th>\n",
       "      <td>RJ Reynolds</td>\n",
       "      <td>RF</td>\n",
       "      <td>Score</td>\n",
       "      <td>273</td>\n",
       "      <td>1991</td>\n",
       "      <td>EXCELLENT</td>\n",
       "      <td>0.0</td>\n",
       "      <td>0.0</td>\n",
       "    </tr>\n",
       "    <tr>\n",
       "      <th>6</th>\n",
       "      <td>Mike Stanley</td>\n",
       "      <td>C</td>\n",
       "      <td>Topps</td>\n",
       "      <td>587</td>\n",
       "      <td>1989</td>\n",
       "      <td>GOOD</td>\n",
       "      <td>0.0</td>\n",
       "      <td>0.0</td>\n",
       "    </tr>\n",
       "    <tr>\n",
       "      <th>...</th>\n",
       "      <td>...</td>\n",
       "      <td>...</td>\n",
       "      <td>...</td>\n",
       "      <td>...</td>\n",
       "      <td>...</td>\n",
       "      <td>...</td>\n",
       "      <td>...</td>\n",
       "      <td>...</td>\n",
       "    </tr>\n",
       "    <tr>\n",
       "      <th>194</th>\n",
       "      <td>George Brett</td>\n",
       "      <td>1B-3B</td>\n",
       "      <td>Topps</td>\n",
       "      <td>700</td>\n",
       "      <td>1988</td>\n",
       "      <td>EXCELLENT</td>\n",
       "      <td>0.0</td>\n",
       "      <td>0.0</td>\n",
       "    </tr>\n",
       "    <tr>\n",
       "      <th>195</th>\n",
       "      <td>Bobby Bonilla</td>\n",
       "      <td>1B-OF</td>\n",
       "      <td>Topps</td>\n",
       "      <td>681</td>\n",
       "      <td>1988</td>\n",
       "      <td>FAIR</td>\n",
       "      <td>0.0</td>\n",
       "      <td>0.0</td>\n",
       "    </tr>\n",
       "    <tr>\n",
       "      <th>196</th>\n",
       "      <td>Graig Nettles</td>\n",
       "      <td>1B-3B</td>\n",
       "      <td>Topps</td>\n",
       "      <td>574</td>\n",
       "      <td>1988</td>\n",
       "      <td>EXCELLENT</td>\n",
       "      <td>0.0</td>\n",
       "      <td>0.0</td>\n",
       "    </tr>\n",
       "    <tr>\n",
       "      <th>197</th>\n",
       "      <td>Dale Murphy</td>\n",
       "      <td>OF</td>\n",
       "      <td>Topps</td>\n",
       "      <td>90</td>\n",
       "      <td>1988</td>\n",
       "      <td>EXCELLENT</td>\n",
       "      <td>0.0</td>\n",
       "      <td>0.0</td>\n",
       "    </tr>\n",
       "    <tr>\n",
       "      <th>198</th>\n",
       "      <td>Terry Pendleton</td>\n",
       "      <td>3B</td>\n",
       "      <td>Topps</td>\n",
       "      <td>635</td>\n",
       "      <td>1988</td>\n",
       "      <td>GOOD</td>\n",
       "      <td>0.0</td>\n",
       "      <td>0.0</td>\n",
       "    </tr>\n",
       "  </tbody>\n",
       "</table>\n",
       "<p>197 rows × 8 columns</p>\n",
       "</div>"
      ],
      "text/plain": [
       "         Player Name Position Company  Set Number  Set Year  Condition  \\\n",
       "ID                                                                       \n",
       "2    Sparky Anderson      MGR   Topps         609      1990  EXCELLENT   \n",
       "3        Jose DeLeon        P   Topps          85      1992  EXCELLENT   \n",
       "4     Cris Carpenter        P   Topps         147      1992  EXCELLENT   \n",
       "5        RJ Reynolds       RF   Score         273      1991  EXCELLENT   \n",
       "6       Mike Stanley        C   Topps         587      1989       GOOD   \n",
       "..               ...      ...     ...         ...       ...        ...   \n",
       "194     George Brett    1B-3B   Topps         700      1988  EXCELLENT   \n",
       "195    Bobby Bonilla    1B-OF   Topps         681      1988       FAIR   \n",
       "196    Graig Nettles    1B-3B   Topps         574      1988  EXCELLENT   \n",
       "197      Dale Murphy       OF   Topps          90      1988  EXCELLENT   \n",
       "198  Terry Pendleton       3B   Topps         635      1988       GOOD   \n",
       "\n",
       "     Estimated Value  Actual Value  \n",
       "ID                                  \n",
       "2                0.0           0.0  \n",
       "3                0.0           0.0  \n",
       "4                0.0           0.0  \n",
       "5                0.0           0.0  \n",
       "6                0.0           0.0  \n",
       "..               ...           ...  \n",
       "194              0.0           0.0  \n",
       "195              0.0           0.0  \n",
       "196              0.0           0.0  \n",
       "197              0.0           0.0  \n",
       "198              0.0           0.0  \n",
       "\n",
       "[197 rows x 8 columns]"
      ]
     },
     "execution_count": 12,
     "metadata": {},
     "output_type": "execute_result"
    }
   ],
   "source": [
    "bb_cp"
   ]
  },
  {
   "cell_type": "code",
   "execution_count": null,
   "metadata": {
    "collapsed": true
   },
   "outputs": [],
   "source": []
  }
 ],
 "metadata": {
  "kernelspec": {
   "display_name": "Python 2",
   "language": "python",
   "name": "python2"
  },
  "language_info": {
   "codemirror_mode": {
    "name": "ipython",
    "version": 2
   },
   "file_extension": ".py",
   "mimetype": "text/x-python",
   "name": "python",
   "nbconvert_exporter": "python",
   "pygments_lexer": "ipython2",
   "version": "2.7.13"
  }
 },
 "nbformat": 4,
 "nbformat_minor": 2
}
