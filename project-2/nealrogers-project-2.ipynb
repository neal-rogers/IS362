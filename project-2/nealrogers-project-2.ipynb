{
 "cells": [
  {
   "cell_type": "markdown",
   "metadata": {},
   "source": [
    "# IS 362 - Project 2: Baseball Card Inventory\n",
    "\n",
    "To begin, I will import the pandas module."
   ]
  },
  {
   "cell_type": "code",
   "execution_count": 3,
   "metadata": {
    "collapsed": true
   },
   "outputs": [],
   "source": [
    "import pandas as pd\n",
    "from pandas import DataFrame"
   ]
  },
  {
   "cell_type": "markdown",
   "metadata": {},
   "source": [
    "Set some pandas options for controlling output display."
   ]
  },
  {
   "cell_type": "code",
   "execution_count": 4,
   "metadata": {
    "collapsed": true
   },
   "outputs": [],
   "source": [
    "pd.set_option('display.max_columns', 10)\n",
    "pd.set_option('display.max_rows', 10)"
   ]
  },
  {
   "cell_type": "markdown",
   "metadata": {},
   "source": [
    "Next, read the baseball cards CSV file."
   ]
  },
  {
   "cell_type": "code",
   "execution_count": 5,
   "metadata": {
    "collapsed": false
   },
   "outputs": [
    {
     "data": {
      "text/html": [
       "<div>\n",
       "<table border=\"1\" class=\"dataframe\">\n",
       "  <thead>\n",
       "    <tr style=\"text-align: right;\">\n",
       "      <th></th>\n",
       "      <th>1</th>\n",
       "      <th>Tom Lasorda</th>\n",
       "      <th>MGR</th>\n",
       "      <th>Topps</th>\n",
       "      <th>254</th>\n",
       "      <th>1989</th>\n",
       "      <th>GOOD</th>\n",
       "      <th>Unnamed: 7</th>\n",
       "      <th>Unnamed: 8</th>\n",
       "    </tr>\n",
       "  </thead>\n",
       "  <tbody>\n",
       "    <tr>\n",
       "      <th>0</th>\n",
       "      <td>2</td>\n",
       "      <td>Sparky Anderson</td>\n",
       "      <td>MGR</td>\n",
       "      <td>Topps</td>\n",
       "      <td>609</td>\n",
       "      <td>1990</td>\n",
       "      <td>EXCELLENT</td>\n",
       "      <td>NaN</td>\n",
       "      <td>NaN</td>\n",
       "    </tr>\n",
       "    <tr>\n",
       "      <th>1</th>\n",
       "      <td>3</td>\n",
       "      <td>Jose DeLeon</td>\n",
       "      <td>P</td>\n",
       "      <td>Topps</td>\n",
       "      <td>85</td>\n",
       "      <td>1992</td>\n",
       "      <td>EXCELLENT</td>\n",
       "      <td>NaN</td>\n",
       "      <td>NaN</td>\n",
       "    </tr>\n",
       "    <tr>\n",
       "      <th>2</th>\n",
       "      <td>4</td>\n",
       "      <td>Cris Carpenter</td>\n",
       "      <td>P</td>\n",
       "      <td>Topps</td>\n",
       "      <td>147</td>\n",
       "      <td>1992</td>\n",
       "      <td>EXCELLENT</td>\n",
       "      <td>NaN</td>\n",
       "      <td>NaN</td>\n",
       "    </tr>\n",
       "    <tr>\n",
       "      <th>3</th>\n",
       "      <td>5</td>\n",
       "      <td>RJ Reynolds</td>\n",
       "      <td>RF</td>\n",
       "      <td>Score</td>\n",
       "      <td>273</td>\n",
       "      <td>1991</td>\n",
       "      <td>EXCELLENT</td>\n",
       "      <td>NaN</td>\n",
       "      <td>NaN</td>\n",
       "    </tr>\n",
       "    <tr>\n",
       "      <th>4</th>\n",
       "      <td>6</td>\n",
       "      <td>Mike Stanley</td>\n",
       "      <td>C</td>\n",
       "      <td>Topps</td>\n",
       "      <td>587</td>\n",
       "      <td>1989</td>\n",
       "      <td>GOOD</td>\n",
       "      <td>NaN</td>\n",
       "      <td>NaN</td>\n",
       "    </tr>\n",
       "    <tr>\n",
       "      <th>...</th>\n",
       "      <td>...</td>\n",
       "      <td>...</td>\n",
       "      <td>...</td>\n",
       "      <td>...</td>\n",
       "      <td>...</td>\n",
       "      <td>...</td>\n",
       "      <td>...</td>\n",
       "      <td>...</td>\n",
       "      <td>...</td>\n",
       "    </tr>\n",
       "    <tr>\n",
       "      <th>192</th>\n",
       "      <td>194</td>\n",
       "      <td>George Brett</td>\n",
       "      <td>1B-3B</td>\n",
       "      <td>Topps</td>\n",
       "      <td>700</td>\n",
       "      <td>1988</td>\n",
       "      <td>EXCELLENT</td>\n",
       "      <td>NaN</td>\n",
       "      <td>NaN</td>\n",
       "    </tr>\n",
       "    <tr>\n",
       "      <th>193</th>\n",
       "      <td>195</td>\n",
       "      <td>Bobby Bonilla</td>\n",
       "      <td>1B-OF</td>\n",
       "      <td>Topps</td>\n",
       "      <td>681</td>\n",
       "      <td>1988</td>\n",
       "      <td>FAIR</td>\n",
       "      <td>NaN</td>\n",
       "      <td>NaN</td>\n",
       "    </tr>\n",
       "    <tr>\n",
       "      <th>194</th>\n",
       "      <td>196</td>\n",
       "      <td>Graig Nettles</td>\n",
       "      <td>1B-3B</td>\n",
       "      <td>Topps</td>\n",
       "      <td>574</td>\n",
       "      <td>1988</td>\n",
       "      <td>EXCELLENT</td>\n",
       "      <td>NaN</td>\n",
       "      <td>NaN</td>\n",
       "    </tr>\n",
       "    <tr>\n",
       "      <th>195</th>\n",
       "      <td>197</td>\n",
       "      <td>Dale Murphy</td>\n",
       "      <td>OF</td>\n",
       "      <td>Topps</td>\n",
       "      <td>90</td>\n",
       "      <td>1988</td>\n",
       "      <td>EXCELLENT</td>\n",
       "      <td>NaN</td>\n",
       "      <td>NaN</td>\n",
       "    </tr>\n",
       "    <tr>\n",
       "      <th>196</th>\n",
       "      <td>198</td>\n",
       "      <td>Terry Pendleton</td>\n",
       "      <td>3B</td>\n",
       "      <td>Topps</td>\n",
       "      <td>635</td>\n",
       "      <td>1988</td>\n",
       "      <td>GOOD</td>\n",
       "      <td>NaN</td>\n",
       "      <td>NaN</td>\n",
       "    </tr>\n",
       "  </tbody>\n",
       "</table>\n",
       "<p>197 rows × 9 columns</p>\n",
       "</div>"
      ],
      "text/plain": [
       "       1      Tom Lasorda    MGR  Topps  254  1989       GOOD  Unnamed: 7  \\\n",
       "0      2  Sparky Anderson    MGR  Topps  609  1990  EXCELLENT         NaN   \n",
       "1      3      Jose DeLeon      P  Topps   85  1992  EXCELLENT         NaN   \n",
       "2      4   Cris Carpenter      P  Topps  147  1992  EXCELLENT         NaN   \n",
       "3      5      RJ Reynolds     RF  Score  273  1991  EXCELLENT         NaN   \n",
       "4      6     Mike Stanley      C  Topps  587  1989       GOOD         NaN   \n",
       "..   ...              ...    ...    ...  ...   ...        ...         ...   \n",
       "192  194     George Brett  1B-3B  Topps  700  1988  EXCELLENT         NaN   \n",
       "193  195    Bobby Bonilla  1B-OF  Topps  681  1988       FAIR         NaN   \n",
       "194  196    Graig Nettles  1B-3B  Topps  574  1988  EXCELLENT         NaN   \n",
       "195  197      Dale Murphy     OF  Topps   90  1988  EXCELLENT         NaN   \n",
       "196  198  Terry Pendleton     3B  Topps  635  1988       GOOD         NaN   \n",
       "\n",
       "     Unnamed: 8  \n",
       "0           NaN  \n",
       "1           NaN  \n",
       "2           NaN  \n",
       "3           NaN  \n",
       "4           NaN  \n",
       "..          ...  \n",
       "192         NaN  \n",
       "193         NaN  \n",
       "194         NaN  \n",
       "195         NaN  \n",
       "196         NaN  \n",
       "\n",
       "[197 rows x 9 columns]"
      ]
     },
     "execution_count": 5,
     "metadata": {},
     "output_type": "execute_result"
    }
   ],
   "source": [
    "floc = r'D:\\Projects\\Educational\\IS362\\project-2\\data\\bbcards.csv'\n",
    "bb_csv = pd.read_csv(floc)\n",
    "bb_csv"
   ]
  },
  {
   "cell_type": "markdown",
   "metadata": {},
   "source": [
    "Then create a copy of the airports DataFrame."
   ]
  },
  {
   "cell_type": "code",
   "execution_count": 7,
   "metadata": {
    "collapsed": true
   },
   "outputs": [],
   "source": [
    "bbcards_cp = bb_csv.copy()"
   ]
  },
  {
   "cell_type": "code",
   "execution_count": null,
   "metadata": {
    "collapsed": true
   },
   "outputs": [],
   "source": []
  }
 ],
 "metadata": {
  "kernelspec": {
   "display_name": "Python 2",
   "language": "python",
   "name": "python2"
  },
  "language_info": {
   "codemirror_mode": {
    "name": "ipython",
    "version": 2
   },
   "file_extension": ".py",
   "mimetype": "text/x-python",
   "name": "python",
   "nbconvert_exporter": "python",
   "pygments_lexer": "ipython2",
   "version": "2.7.13"
  }
 },
 "nbformat": 4,
 "nbformat_minor": 2
}
