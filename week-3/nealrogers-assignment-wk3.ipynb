{
 "cells": [
  {
   "cell_type": "code",
   "execution_count": 30,
   "metadata": {
    "collapsed": true
   },
   "outputs": [],
   "source": [
    "# Import libraries and modules\n",
    "import numpy as np\n",
    "import pandas as pd\n",
    "import matplotlib.pyplot as plot\n",
    "from pandas import DataFrame, Series\n",
    "\n",
    "# Enable inline plotting\n",
    "%matplotlib inline"
   ]
  },
  {
   "cell_type": "code",
   "execution_count": 59,
   "metadata": {
    "collapsed": false
   },
   "outputs": [],
   "source": [
    "# Create the initial set of days and miles\n",
    "days = [1, 2, 3, 4, 5, 6, 7, 8, 9, 10]\n",
    "miles = [55, 65, 70, 62, 45, 26, 48, 56, 98, 50]\n",
    "ttl = [0]"
   ]
  },
  {
   "cell_type": "code",
   "execution_count": 62,
   "metadata": {
    "collapsed": false
   },
   "outputs": [
    {
     "data": {
      "text/plain": [
       "[(1, 55, 0)]"
      ]
     },
     "execution_count": 62,
     "metadata": {},
     "output_type": "execute_result"
    }
   ],
   "source": [
    "# Zip the lists together and create a new data set\n",
    "TripDataSet1 = list(zip(days,miles))\n",
    "TripDataSet1\n",
    "# Zip the lists together and create a new data set\n",
    "TripDataSet2 = list(zip(days,miles,ttl))\n",
    "TripDataSet2"
   ]
  },
  {
   "cell_type": "code",
   "execution_count": 68,
   "metadata": {
    "collapsed": false
   },
   "outputs": [
    {
     "data": {
      "text/plain": [
       "(   Days  Miles  Total Miles\n",
       " 0     1     55            0,    Days  Miles\n",
       " 0     1     55\n",
       " 1     2     65\n",
       " 2     3     70\n",
       " 3     4     62\n",
       " 4     5     45\n",
       " 5     6     26\n",
       " 6     7     48\n",
       " 7     8     56\n",
       " 8     9     98\n",
       " 9    10     50)"
      ]
     },
     "execution_count": 68,
     "metadata": {},
     "output_type": "execute_result"
    }
   ],
   "source": [
    "# Create the dataframe and label both columns\n",
    "df1 = pd.DataFrame(data = TripDataSet1, columns=['Days', 'Miles'])\n",
    "#df1\n",
    "\n",
    "# Create the dataframe and label both columns\n",
    "df2 = pd.DataFrame(data = TripDataSet2, columns=['Days', 'Miles', 'Total Miles'])\n",
    "df2, df1"
   ]
  },
  {
   "cell_type": "code",
   "execution_count": 69,
   "metadata": {
    "collapsed": false
   },
   "outputs": [
    {
     "data": {
      "text/plain": [
       "0    55\n",
       "1    65\n",
       "2    70\n",
       "3    62\n",
       "4    45\n",
       "5    26\n",
       "6    48\n",
       "7    56\n",
       "8    98\n",
       "9    50\n",
       "Name: Miles, dtype: int64"
      ]
     },
     "execution_count": 69,
     "metadata": {},
     "output_type": "execute_result"
    }
   ],
   "source": [
    "# I need to get a count, store it, and slice by offset, right?\n",
    "# I need to add the values to a list\n",
    "# I need to store the offset in order to do this \n",
    "\n",
    "df1.ix[1].index\n",
    "#df['Miles'].plot()\n",
    "df1['Miles']"
   ]
  },
  {
   "cell_type": "code",
   "execution_count": 44,
   "metadata": {
    "collapsed": false
   },
   "outputs": [
    {
     "data": {
      "text/plain": [
       "120"
      ]
     },
     "execution_count": 44,
     "metadata": {},
     "output_type": "execute_result"
    }
   ],
   "source": [
    "# I need to reference the miles column somehow\n",
    "df['Miles'][1]\n",
    "# how can I get Day 1[0] added to Day 2[1]\n",
    "first2 = df['Miles'][0] + df['Miles'][1]\n",
    "first2"
   ]
  },
  {
   "cell_type": "code",
   "execution_count": 46,
   "metadata": {
    "collapsed": false
   },
   "outputs": [],
   "source": [
    "#for n in df['Miles']\n",
    "#df['Miles'][n]"
   ]
  },
  {
   "cell_type": "code",
   "execution_count": 51,
   "metadata": {
    "collapsed": false
   },
   "outputs": [
    {
     "data": {
      "text/plain": [
       "120"
      ]
     },
     "execution_count": 51,
     "metadata": {},
     "output_type": "execute_result"
    }
   ],
   "source": [
    "# I need to reference the miles column somehow\n",
    "#df['Miles'][1]\n",
    "\n",
    "# how can I get Day 1[0] added to Day 2[1]\n",
    "first2 = df['Miles'][0] + df['Miles'][1]\n",
    "first2"
   ]
  },
  {
   "cell_type": "code",
   "execution_count": 48,
   "metadata": {
    "collapsed": true
   },
   "outputs": [],
   "source": [
    "count = 0\n",
    "for n in df['Miles']:\n",
    "    count +1;"
   ]
  },
  {
   "cell_type": "code",
   "execution_count": 49,
   "metadata": {
    "collapsed": false
   },
   "outputs": [
    {
     "data": {
      "text/plain": [
       "0"
      ]
     },
     "execution_count": 49,
     "metadata": {},
     "output_type": "execute_result"
    }
   ],
   "source": [
    "count"
   ]
  },
  {
   "cell_type": "code",
   "execution_count": 50,
   "metadata": {
    "collapsed": false
   },
   "outputs": [
    {
     "data": {
      "text/plain": [
       "10"
      ]
     },
     "execution_count": 50,
     "metadata": {},
     "output_type": "execute_result"
    }
   ],
   "source": [
    "len(df['Miles'])"
   ]
  },
  {
   "cell_type": "code",
   "execution_count": null,
   "metadata": {
    "collapsed": true
   },
   "outputs": [],
   "source": []
  }
 ],
 "metadata": {
  "kernelspec": {
   "display_name": "Python 2",
   "language": "python",
   "name": "python2"
  },
  "language_info": {
   "codemirror_mode": {
    "name": "ipython",
    "version": 2
   },
   "file_extension": ".py",
   "mimetype": "text/x-python",
   "name": "python",
   "nbconvert_exporter": "python",
   "pygments_lexer": "ipython2",
   "version": "2.7.13"
  }
 },
 "nbformat": 4,
 "nbformat_minor": 2
}
