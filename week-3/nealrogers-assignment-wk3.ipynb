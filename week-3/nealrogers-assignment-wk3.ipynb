{
 "cells": [
  {
   "cell_type": "code",
   "execution_count": 1,
   "metadata": {
    "collapsed": true
   },
   "outputs": [],
   "source": [
    "# Import libraries and modules\n",
    "import numpy as np\n",
    "import pandas as pd\n",
    "import matplotlib.pyplot as plot\n",
    "from pandas import DataFrame, Series\n",
    "\n",
    "# Enable inline plotting\n",
    "%matplotlib inline"
   ]
  },
  {
   "cell_type": "code",
   "execution_count": 2,
   "metadata": {
    "collapsed": false
   },
   "outputs": [
    {
     "data": {
      "text/plain": [
       "(array([ 1,  2,  3,  4,  5,  6,  7,  8,  9, 10]),\n",
       " array([55, 65, 70, 62, 45, 26, 48, 56, 98, 50]),\n",
       " array([0, 0, 0, 0, 0, 0, 0, 0, 0, 0]))"
      ]
     },
     "execution_count": 2,
     "metadata": {},
     "output_type": "execute_result"
    }
   ],
   "source": [
    "# Create the initial set of days and miles\n",
    "days = np.array([1, 2, 3, 4, 5, 6, 7, 8, 9, 10])\n",
    "#miles = [55, 65, 70, 62, 45, 26, 48, 56, 98, 50]\n",
    "# create an array for miles\n",
    "miles = np.array([55, 65, 70, 62, 45, 26, 48, 56, 98, 50])\n",
    "#total = [0 for i in range(10)]\n",
    "total = np.array([0]*10)\n",
    "days, miles, total"
   ]
  },
  {
   "cell_type": "code",
   "execution_count": 3,
   "metadata": {
    "collapsed": false
   },
   "outputs": [
    {
     "data": {
      "text/plain": [
       "[(1, 55, 0),\n",
       " (2, 65, 0),\n",
       " (3, 70, 0),\n",
       " (4, 62, 0),\n",
       " (5, 45, 0),\n",
       " (6, 26, 0),\n",
       " (7, 48, 0),\n",
       " (8, 56, 0),\n",
       " (9, 98, 0),\n",
       " (10, 50, 0)]"
      ]
     },
     "execution_count": 3,
     "metadata": {},
     "output_type": "execute_result"
    }
   ],
   "source": [
    "# Zip the lists together and create a new data set\n",
    "TripDataSet = list(zip(days,miles,total))\n",
    "TripDataSet"
   ]
  },
  {
   "cell_type": "code",
   "execution_count": 4,
   "metadata": {
    "collapsed": false
   },
   "outputs": [
    {
     "data": {
      "text/html": [
       "<div>\n",
       "<table border=\"1\" class=\"dataframe\">\n",
       "  <thead>\n",
       "    <tr style=\"text-align: right;\">\n",
       "      <th></th>\n",
       "      <th>Days</th>\n",
       "      <th>Miles</th>\n",
       "      <th>Total Miles</th>\n",
       "    </tr>\n",
       "  </thead>\n",
       "  <tbody>\n",
       "    <tr>\n",
       "      <th>0</th>\n",
       "      <td>1</td>\n",
       "      <td>55</td>\n",
       "      <td>0</td>\n",
       "    </tr>\n",
       "    <tr>\n",
       "      <th>1</th>\n",
       "      <td>2</td>\n",
       "      <td>65</td>\n",
       "      <td>0</td>\n",
       "    </tr>\n",
       "    <tr>\n",
       "      <th>2</th>\n",
       "      <td>3</td>\n",
       "      <td>70</td>\n",
       "      <td>0</td>\n",
       "    </tr>\n",
       "    <tr>\n",
       "      <th>3</th>\n",
       "      <td>4</td>\n",
       "      <td>62</td>\n",
       "      <td>0</td>\n",
       "    </tr>\n",
       "    <tr>\n",
       "      <th>4</th>\n",
       "      <td>5</td>\n",
       "      <td>45</td>\n",
       "      <td>0</td>\n",
       "    </tr>\n",
       "    <tr>\n",
       "      <th>5</th>\n",
       "      <td>6</td>\n",
       "      <td>26</td>\n",
       "      <td>0</td>\n",
       "    </tr>\n",
       "    <tr>\n",
       "      <th>6</th>\n",
       "      <td>7</td>\n",
       "      <td>48</td>\n",
       "      <td>0</td>\n",
       "    </tr>\n",
       "    <tr>\n",
       "      <th>7</th>\n",
       "      <td>8</td>\n",
       "      <td>56</td>\n",
       "      <td>0</td>\n",
       "    </tr>\n",
       "    <tr>\n",
       "      <th>8</th>\n",
       "      <td>9</td>\n",
       "      <td>98</td>\n",
       "      <td>0</td>\n",
       "    </tr>\n",
       "    <tr>\n",
       "      <th>9</th>\n",
       "      <td>10</td>\n",
       "      <td>50</td>\n",
       "      <td>0</td>\n",
       "    </tr>\n",
       "  </tbody>\n",
       "</table>\n",
       "</div>"
      ],
      "text/plain": [
       "   Days  Miles  Total Miles\n",
       "0     1     55            0\n",
       "1     2     65            0\n",
       "2     3     70            0\n",
       "3     4     62            0\n",
       "4     5     45            0\n",
       "5     6     26            0\n",
       "6     7     48            0\n",
       "7     8     56            0\n",
       "8     9     98            0\n",
       "9    10     50            0"
      ]
     },
     "execution_count": 4,
     "metadata": {},
     "output_type": "execute_result"
    }
   ],
   "source": [
    "# Create the dataframe and label both columns\n",
    "df = pd.DataFrame(data = TripDataSet, columns=['Days', 'Miles', 'Total Miles'])\n",
    "df"
   ]
  },
  {
   "cell_type": "code",
   "execution_count": 13,
   "metadata": {
    "collapsed": false
   },
   "outputs": [
    {
     "data": {
      "text/plain": [
       "2    0\n",
       "3    0\n",
       "4    0\n",
       "5    0\n",
       "6    0\n",
       "7    0\n",
       "8    0\n",
       "9    0\n",
       "Name: Total Miles, dtype: int64"
      ]
     },
     "execution_count": 13,
     "metadata": {},
     "output_type": "execute_result"
    }
   ],
   "source": [
    "# I need to get a count, store it, and slice by offset, right?\n",
    "# I need to add the values to a list\n",
    "# I need to store the offset in order to do this\n",
    "\n",
    "#total_miles = df['Miles'][0] + df['Total Miles'][0]\n",
    "#df['Total Miles'][0] = total_miles\n",
    "#total_miles = 0\n",
    "\n",
    "# I need to iterate over the Miles and Total Miles columns and add\n",
    "tmiles = df['Total Miles']\n",
    "\n",
    "tmiles.tail(8)\n",
    "#mcount = 0\n",
    "#tmcount = 0\n",
    "#for i in tmiles:\n",
    "#    tmiles[mcount] + tmiles[tmcount] = tmiles[i]\n",
    "#    mcount = mcount + 1\n",
    "#    tmcount = tmcount + 1\n",
    "    \n",
    "#mcount, tmcount\n",
    "# can I use values?\n",
    "#df2['Total Miles'].values\n",
    "\n",
    "#df2['Total Miles'][0] = df2['Miles'][0] + df2['Miles'][1]\n",
    "# checking value of df2['Total Miles'][0]"
   ]
  },
  {
   "cell_type": "code",
   "execution_count": null,
   "metadata": {
    "collapsed": false
   },
   "outputs": [],
   "source": [
    "# I need to reference the miles column somehow\n",
    "#df['Miles'][1]\n",
    "ttl_miles = df2['Total Miles'][1]\n",
    "ttl_miles\n",
    "\n",
    "# how can I get Day 1[0] added to Day 2[1]\n",
    "#first2 = df2['Total Miles'][0] + df2['Total Miles'][1]\n",
    "#first2"
   ]
  },
  {
   "cell_type": "code",
   "execution_count": null,
   "metadata": {
    "collapsed": false
   },
   "outputs": [],
   "source": [
    "#df2['Miles'][0] + df2['Total Miles'][1]\n",
    "df2['Miles'][0] + df2['Total Miles'][1]"
   ]
  },
  {
   "cell_type": "code",
   "execution_count": null,
   "metadata": {
    "collapsed": false
   },
   "outputs": [],
   "source": [
    "count = 0\n",
    "for n in df2.index:\n",
    "    count = count + 1\n",
    "    \n",
    "print (\"The total could of rows is \".count)"
   ]
  },
  {
   "cell_type": "code",
   "execution_count": null,
   "metadata": {
    "collapsed": false
   },
   "outputs": [],
   "source": [
    "df1['Miles'].plot()"
   ]
  },
  {
   "cell_type": "code",
   "execution_count": null,
   "metadata": {
    "collapsed": true
   },
   "outputs": [],
   "source": []
  }
 ],
 "metadata": {
  "kernelspec": {
   "display_name": "Python 2",
   "language": "python",
   "name": "python2"
  },
  "language_info": {
   "codemirror_mode": {
    "name": "ipython",
    "version": 2
   },
   "file_extension": ".py",
   "mimetype": "text/x-python",
   "name": "python",
   "nbconvert_exporter": "python",
   "pygments_lexer": "ipython2",
   "version": "2.7.13"
  }
 },
 "nbformat": 4,
 "nbformat_minor": 2
}
