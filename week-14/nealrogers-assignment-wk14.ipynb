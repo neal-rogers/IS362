{
 "cells": [
  {
   "cell_type": "markdown",
   "metadata": {},
   "source": [
    "# IS 362 - Week 14 Assignment"
   ]
  },
  {
   "cell_type": "markdown",
   "metadata": {},
   "source": [
    "[Pocket](https://www.getpocket.com) is, according to the company's about page, \"... *world's leading save-for-later service currently has more than 30 million registered users and is integrated into more than 1500 apps including Flipboard, Twitter and Zite. It is available for major devices and platforms including iPad, iPhone, Android, Mac, Kindle Fire, Kobo, Google Chrome, Safari, Firefox, Opera and Windows.*\" The mobile apps and browser add-ons allow Pocket users to save, tag, and share the content of their choice to their Pocket account.\n",
    "\n",
    "Along with the handy, read-it-later (including offline) functionality, Pocket also provides registered users with recommendations for articles and videos based on who users are following on the website and, of course, via Pocket's proprietary algorithm. The former is tuned into the user's reading habits, i.e., the source and type of content saved, as well as sourced from millions of other users' saved content. Pocket also injects sponsored content into its recommendations."
   ]
  },
  {
   "cell_type": "markdown",
   "metadata": {},
   "source": [
    "### Who are the target users?"
   ]
  },
  {
   "cell_type": "markdown",
   "metadata": {},
   "source": [
    "Of the 20 million+ users Pocket claims to have actively saving content from the Web, many are presumably tech-savvy with a need to curate reading material for their own amusement, education, etc. Such a concept may not easily fit within one particular age group or other demographic - simply Internet-connected users with a Pocket account."
   ]
  },
  {
   "cell_type": "markdown",
   "metadata": {},
   "source": [
    "### What are their goals?"
   ]
  },
  {
   "cell_type": "markdown",
   "metadata": {},
   "source": [
    "Clearly, the first goal of a typical Pocket user is to archive content they've found on the Internet. Second, given the social functionality of the service, many users likely want to also share content with online friends. Finally, it's quite likely Pocket users all want to see recommendations that are based on their personal tastes and interests so they can continue to consume new content and share among friends."
   ]
  },
  {
   "cell_type": "markdown",
   "metadata": {},
   "source": [
    "### How can they accomplish their goals?"
   ]
  },
  {
   "cell_type": "markdown",
   "metadata": {},
   "source": [
    "Given that Pocket has already provided users with some means to control recommendations, such as choosing who to follow and dismissing unappealing automated recommendations, there seems little to improve upon. Unless, however, Pocket's algorithm takes into account the custom tags with which users can organize their own small archive of the Web. Perhaps tapping into the tags would not only allow for more granular control of the type of content recommended but the precision of it as well."
   ]
  }
 ],
 "metadata": {
  "kernelspec": {
   "display_name": "Python 2",
   "language": "python",
   "name": "python2"
  },
  "language_info": {
   "codemirror_mode": {
    "name": "ipython",
    "version": 2
   },
   "file_extension": ".py",
   "mimetype": "text/x-python",
   "name": "python",
   "nbconvert_exporter": "python",
   "pygments_lexer": "ipython2",
   "version": "2.7.13"
  }
 },
 "nbformat": 4,
 "nbformat_minor": 2
}
