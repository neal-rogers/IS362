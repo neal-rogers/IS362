{
 "cells": [
  {
   "cell_type": "code",
   "execution_count": 1,
   "metadata": {
    "collapsed": true
   },
   "outputs": [],
   "source": [
    "# Import libraries and modules\n",
    "import numpy as np\n",
    "import pandas as pd\n",
    "import matplotlib.pyplot as plot\n",
    "from pandas import DataFrame, Series\n",
    "\n",
    "# Enable inline plotting\n",
    "%matplotlib inline"
   ]
  },
  {
   "cell_type": "code",
   "execution_count": 3,
   "metadata": {
    "collapsed": false
   },
   "outputs": [
    {
     "data": {
      "text/plain": [
       "(Los Angeles       497\n",
       " Phoenix           221\n",
       " San Diego         212\n",
       " San Francisco     503\n",
       " Seattle          1841\n",
       " dtype: int64, Los Angeles       62\n",
       " Phoenix           12\n",
       " San Diego         20\n",
       " San Francisco    102\n",
       " Seattle          305\n",
       " dtype: int64, Los Angeles       694\n",
       " Phoenix          4840\n",
       " San Diego         383\n",
       " San Francisco     320\n",
       " Seattle           201\n",
       " dtype: int64, Los Angeles      117\n",
       " Phoenix          415\n",
       " San Diego         65\n",
       " San Francisco    129\n",
       " Seattle           61\n",
       " dtype: int64)"
      ]
     },
     "execution_count": 3,
     "metadata": {},
     "output_type": "execute_result"
    }
   ],
   "source": [
    "# Next, create the series for our dataset.\n",
    "cities = ([\"Los Angeles\", \"Phoenix\", \"San Diego\", \"San Francisco\", \"Seattle\"])\n",
    "\n",
    "# Add the cities as an idex to the Series objects.\n",
    "akot_f = Series([497, 221, 212, 503, 1841], index = cities)\n",
    "akdl_f = Series([62, 12, 20, 102, 305], index = cities)\n",
    "awot_f = Series([694, 4840, 383, 320, 201], index = cities)\n",
    "awdl_f = Series([117, 415, 65, 129, 61], index = cities)\n",
    "\n",
    "#aw_test = Series([694, 4840, 383, 320, 201], [117, 415, 65, 129, 61])\n",
    "\n",
    "#akot_flights, akdl_flights, awot_flights, awdl_flights\n",
    "akot_f, akdl_f, awot_f, awdl_f"
   ]
  },
  {
   "cell_type": "code",
   "execution_count": null,
   "metadata": {
    "collapsed": false
   },
   "outputs": [],
   "source": [
    "# Make cities the index - I don't have to recreate the table in the project desc\n",
    "\n",
    "\n",
    "\n",
    "total = akot_flights, akdl_flights, awot_flights, awdl_flights\n",
    "\n",
    "len(total)"
   ]
  },
  {
   "cell_type": "code",
   "execution_count": null,
   "metadata": {
    "collapsed": false
   },
   "outputs": [],
   "source": [
    "# I need to do some math before moving data into a dataframe.\n",
    "\n",
    "akot_total = akot_flights.sum()\n",
    "awot_total = awot_flights.sum()\n",
    "\n",
    "akot_total, awot_total\n",
    "\n",
    "# Where is the index in a dataframe like this?\n",
    "# Create the CSV file with flight data.\n",
    "\n",
    "# average delay "
   ]
  },
  {
   "cell_type": "code",
   "execution_count": null,
   "metadata": {
    "collapsed": true
   },
   "outputs": [],
   "source": [
    "df = pd.DataFrame(data = TripDataSet, columns=['Airline', 'Miles', 'Total Miles'])\n",
    "df"
   ]
  }
 ],
 "metadata": {
  "kernelspec": {
   "display_name": "Python 2",
   "language": "python",
   "name": "python2"
  },
  "language_info": {
   "codemirror_mode": {
    "name": "ipython",
    "version": 2
   },
   "file_extension": ".py",
   "mimetype": "text/x-python",
   "name": "python",
   "nbconvert_exporter": "python",
   "pygments_lexer": "ipython2",
   "version": "2.7.13"
  }
 },
 "nbformat": 4,
 "nbformat_minor": 2
}
