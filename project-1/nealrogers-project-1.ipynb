{
 "cells": [
  {
   "cell_type": "code",
   "execution_count": 1,
   "metadata": {
    "collapsed": true
   },
   "outputs": [],
   "source": [
    "# Import libraries and modules\n",
    "import numpy as np\n",
    "import pandas as pd\n",
    "import matplotlib.pyplot as plot\n",
    "from pandas import DataFrame, Series\n",
    "\n",
    "# Enable inline plotting\n",
    "%matplotlib inline"
   ]
  },
  {
   "cell_type": "code",
   "execution_count": 2,
   "metadata": {
    "collapsed": false
   },
   "outputs": [],
   "source": [
    "# Next, create the series objects for our dataset.\n",
    "cities = ([\"Los Angeles\", \"Phoenix\", \"San Diego\", \"San Francisco\", \"Seattle\"])\n",
    "\n",
    "ak = Series(['Alaska'] * len(cities), index = cities)\n",
    "aw = Series(['AM West'] * len(cities), index = cities)\n",
    "\n",
    "ak_ot = Series([497, 221, 212, 503, 1841], index = cities)\n",
    "ak_dl = Series([62, 12, 20, 102, 305], index = cities)\n",
    "aw_ot = Series([694, 4840, 383, 320, 201], index = cities)\n",
    "aw_dl = Series([117, 415, 65, 129, 61], index = cities)"
   ]
  },
  {
   "cell_type": "code",
   "execution_count": 3,
   "metadata": {
    "collapsed": false
   },
   "outputs": [
    {
     "data": {
      "text/html": [
       "<div>\n",
       "<table border=\"1\" class=\"dataframe\">\n",
       "  <thead>\n",
       "    <tr style=\"text-align: right;\">\n",
       "      <th></th>\n",
       "      <th>AM West Delayed</th>\n",
       "      <th>AM West On Time</th>\n",
       "      <th>Alaska Delayed</th>\n",
       "      <th>Alaska On Time</th>\n",
       "    </tr>\n",
       "  </thead>\n",
       "  <tbody>\n",
       "    <tr>\n",
       "      <th>Los Angeles</th>\n",
       "      <td>117</td>\n",
       "      <td>694</td>\n",
       "      <td>62</td>\n",
       "      <td>497</td>\n",
       "    </tr>\n",
       "    <tr>\n",
       "      <th>Phoenix</th>\n",
       "      <td>415</td>\n",
       "      <td>4840</td>\n",
       "      <td>12</td>\n",
       "      <td>221</td>\n",
       "    </tr>\n",
       "    <tr>\n",
       "      <th>San Diego</th>\n",
       "      <td>65</td>\n",
       "      <td>383</td>\n",
       "      <td>20</td>\n",
       "      <td>212</td>\n",
       "    </tr>\n",
       "    <tr>\n",
       "      <th>San Francisco</th>\n",
       "      <td>129</td>\n",
       "      <td>320</td>\n",
       "      <td>102</td>\n",
       "      <td>503</td>\n",
       "    </tr>\n",
       "    <tr>\n",
       "      <th>Seattle</th>\n",
       "      <td>61</td>\n",
       "      <td>201</td>\n",
       "      <td>305</td>\n",
       "      <td>1841</td>\n",
       "    </tr>\n",
       "  </tbody>\n",
       "</table>\n",
       "</div>"
      ],
      "text/plain": [
       "               AM West Delayed  AM West On Time  Alaska Delayed  \\\n",
       "Los Angeles                117              694              62   \n",
       "Phoenix                    415             4840              12   \n",
       "San Diego                   65              383              20   \n",
       "San Francisco              129              320             102   \n",
       "Seattle                     61              201             305   \n",
       "\n",
       "               Alaska On Time  \n",
       "Los Angeles               497  \n",
       "Phoenix                   221  \n",
       "San Diego                 212  \n",
       "San Francisco             503  \n",
       "Seattle                  1841  "
      ]
     },
     "execution_count": 3,
     "metadata": {},
     "output_type": "execute_result"
    }
   ],
   "source": [
    "# Create the dataframe for export to CSV\n",
    "df = pd.DataFrame(\n",
    "    {\n",
    "     'Alaska On Time': ak_ot,\n",
    "     'Alaska Delayed': ak_dl,\n",
    "     'AM West On Time': aw_ot,\n",
    "     'AM West Delayed': aw_dl},\n",
    "    index=cities)\n",
    "df"
   ]
  },
  {
   "cell_type": "code",
   "execution_count": 4,
   "metadata": {
    "collapsed": false
   },
   "outputs": [],
   "source": [
    "# Create a CSV file version of the dataframe\n",
    "df.to_csv('flightinfo.txt',index=True,header=False)\n",
    "\n",
    "#Read the CSV file\n",
    "Location = r'D:\\Projects\\Educational\\IS362\\project-1\\flightinfo.txt'\n",
    "df_csv = pd.read_csv(Location, names=['AM West Delayed', 'AM West On Time', 'Alaska Delayed', 'Alaska On Time'])"
   ]
  },
  {
   "cell_type": "code",
   "execution_count": 5,
   "metadata": {
    "collapsed": false
   },
   "outputs": [],
   "source": [
    "#Add total flights for each airline\n",
    "am_tot = df_csv['AM West Delayed'] + df_csv['AM West On Time']\n",
    "ak_tot = df_csv['Alaska Delayed'] + df_csv['Alaska On Time']"
   ]
  },
  {
   "cell_type": "code",
   "execution_count": 6,
   "metadata": {
    "collapsed": false
   },
   "outputs": [],
   "source": [
    "# Calculate percentage of flights delayed and on time.\n",
    "am_pct_ot = Series(df_csv['AM West On Time'] / am_tot * 100)\n",
    "am_pct_dl = Series(df_csv['AM West Delayed'] / am_tot * 100)\n",
    "ak_pct_ot = Series(df_csv['Alaska On Time'] / ak_tot * 100)\n",
    "ak_pct_dl = Series(df_csv['Alaska Delayed'] / ak_tot * 100)"
   ]
  },
  {
   "cell_type": "code",
   "execution_count": 7,
   "metadata": {
    "collapsed": false
   },
   "outputs": [
    {
     "data": {
      "text/html": [
       "<div>\n",
       "<table border=\"1\" class=\"dataframe\">\n",
       "  <thead>\n",
       "    <tr style=\"text-align: right;\">\n",
       "      <th></th>\n",
       "      <th>AM West Delayed</th>\n",
       "      <th>AM West On Time</th>\n",
       "      <th>AM West Percent On Time</th>\n",
       "      <th>AM West Percent Delayed</th>\n",
       "      <th>Alaska Delayed</th>\n",
       "      <th>Alaska On Time</th>\n",
       "      <th>Alaska Percent On Time</th>\n",
       "      <th>Alaska Percent Delayed</th>\n",
       "    </tr>\n",
       "  </thead>\n",
       "  <tbody>\n",
       "    <tr>\n",
       "      <th>Los Angeles</th>\n",
       "      <td>117</td>\n",
       "      <td>694</td>\n",
       "      <td>85.573366</td>\n",
       "      <td>14.426634</td>\n",
       "      <td>62</td>\n",
       "      <td>497</td>\n",
       "      <td>88.908766</td>\n",
       "      <td>11.091234</td>\n",
       "    </tr>\n",
       "    <tr>\n",
       "      <th>Phoenix</th>\n",
       "      <td>415</td>\n",
       "      <td>4840</td>\n",
       "      <td>92.102759</td>\n",
       "      <td>7.897241</td>\n",
       "      <td>12</td>\n",
       "      <td>221</td>\n",
       "      <td>94.849785</td>\n",
       "      <td>5.150215</td>\n",
       "    </tr>\n",
       "    <tr>\n",
       "      <th>San Diego</th>\n",
       "      <td>65</td>\n",
       "      <td>383</td>\n",
       "      <td>85.491071</td>\n",
       "      <td>14.508929</td>\n",
       "      <td>20</td>\n",
       "      <td>212</td>\n",
       "      <td>91.379310</td>\n",
       "      <td>8.620690</td>\n",
       "    </tr>\n",
       "    <tr>\n",
       "      <th>San Francisco</th>\n",
       "      <td>129</td>\n",
       "      <td>320</td>\n",
       "      <td>71.269488</td>\n",
       "      <td>28.730512</td>\n",
       "      <td>102</td>\n",
       "      <td>503</td>\n",
       "      <td>83.140496</td>\n",
       "      <td>16.859504</td>\n",
       "    </tr>\n",
       "    <tr>\n",
       "      <th>Seattle</th>\n",
       "      <td>61</td>\n",
       "      <td>201</td>\n",
       "      <td>76.717557</td>\n",
       "      <td>23.282443</td>\n",
       "      <td>305</td>\n",
       "      <td>1841</td>\n",
       "      <td>85.787512</td>\n",
       "      <td>14.212488</td>\n",
       "    </tr>\n",
       "  </tbody>\n",
       "</table>\n",
       "</div>"
      ],
      "text/plain": [
       "               AM West Delayed  AM West On Time  AM West Percent On Time  \\\n",
       "Los Angeles                117              694                85.573366   \n",
       "Phoenix                    415             4840                92.102759   \n",
       "San Diego                   65              383                85.491071   \n",
       "San Francisco              129              320                71.269488   \n",
       "Seattle                     61              201                76.717557   \n",
       "\n",
       "               AM West Percent Delayed  Alaska Delayed  Alaska On Time  \\\n",
       "Los Angeles                  14.426634              62             497   \n",
       "Phoenix                       7.897241              12             221   \n",
       "San Diego                    14.508929              20             212   \n",
       "San Francisco                28.730512             102             503   \n",
       "Seattle                      23.282443             305            1841   \n",
       "\n",
       "               Alaska Percent On Time  Alaska Percent Delayed  \n",
       "Los Angeles                 88.908766               11.091234  \n",
       "Phoenix                     94.849785                5.150215  \n",
       "San Diego                   91.379310                8.620690  \n",
       "San Francisco               83.140496               16.859504  \n",
       "Seattle                     85.787512               14.212488  "
      ]
     },
     "execution_count": 7,
     "metadata": {},
     "output_type": "execute_result"
    }
   ],
   "source": [
    "# Insert each new Series object in to the DataFrame\n",
    "df_csv.insert(2, 'AM West Percent On Time', am_pct_ot)\n",
    "df_csv.insert(3, 'AM West Percent Delayed', am_pct_dl)\n",
    "df_csv.insert(6, 'Alaska Percent On Time', ak_pct_ot)\n",
    "df_csv.insert(7, 'Alaska Percent Delayed', ak_pct_dl)\n",
    "df_csv"
   ]
  },
  {
   "cell_type": "code",
   "execution_count": 8,
   "metadata": {
    "collapsed": false
   },
   "outputs": [
    {
     "data": {
      "text/plain": [
       "<matplotlib.text.Text at 0xaf20610>"
      ]
     },
     "execution_count": 8,
     "metadata": {},
     "output_type": "execute_result"
    },
    {
     "data": {
      "image/png": "[encoded data removed]",
      "text/plain": [
       "<matplotlib.figure.Figure at 0x5c98390>"
      ]
     },
     "metadata": {},
     "output_type": "display_data"
    }
   ],
   "source": [
    "df_csv['AM West Percent On Time'].plot.bar(color='g')\n",
    "plot.suptitle('AM West Percent On Time')\n",
    "plot.ylabel('Percent')\n",
    "plot.xlabel('Cities')"
   ]
  },
  {
   "cell_type": "code",
   "execution_count": 9,
   "metadata": {
    "collapsed": false
   },
   "outputs": [
    {
     "data": {
      "text/plain": [
       "<matplotlib.text.Text at 0x5ed66b0>"
      ]
     },
     "execution_count": 9,
     "metadata": {},
     "output_type": "execute_result"
    },
    {
     "data": {
      "image/png": "[encoded data removed]",
      "text/plain": [
       "<matplotlib.figure.Figure at 0xb05fdd0>"
      ]
     },
     "metadata": {},
     "output_type": "display_data"
    }
   ],
   "source": [
    "df_csv['AM West Percent Delayed'].plot.bar(color='r')\n",
    "plot.suptitle('AM West Percent Delayed')\n",
    "plot.ylabel('Percent')\n",
    "plot.xlabel('Cities')"
   ]
  },
  {
   "cell_type": "code",
   "execution_count": 10,
   "metadata": {
    "collapsed": false
   },
   "outputs": [
    {
     "data": {
      "text/plain": [
       "<matplotlib.text.Text at 0xb014fd0>"
      ]
     },
     "execution_count": 10,
     "metadata": {},
     "output_type": "execute_result"
    },
    {
     "data": {
      "image/png": "[encoded data removed]",
      "text/plain": [
       "<matplotlib.figure.Figure at 0x46fccd0>"
      ]
     },
     "metadata": {},
     "output_type": "display_data"
    }
   ],
   "source": [
    "df_csv['Alaska Percent On Time'].plot.bar(color='g')\n",
    "plot.suptitle('Alaska Percent On Time')\n",
    "plot.ylabel('Percent')\n",
    "plot.xlabel('Cities')"
   ]
  },
  {
   "cell_type": "code",
   "execution_count": 11,
   "metadata": {
    "collapsed": false
   },
   "outputs": [
    {
     "data": {
      "text/plain": [
       "<matplotlib.text.Text at 0xb0145b0>"
      ]
     },
     "execution_count": 11,
     "metadata": {},
     "output_type": "execute_result"
    },
    {
     "data": {
      "image/png": "[encoded data removed]",
      "text/plain": [
       "<matplotlib.figure.Figure at 0x5ed6530>"
      ]
     },
     "metadata": {},
     "output_type": "display_data"
    }
   ],
   "source": [
    "df_csv['Alaska Percent Delayed'].plot.bar(color='r')\n",
    "plot.suptitle('Alaska Delayed')\n",
    "plot.ylabel('Percent')\n",
    "plot.xlabel('Cities')"
   ]
  },
  {
   "cell_type": "code",
   "execution_count": null,
   "metadata": {
    "collapsed": true
   },
   "outputs": [],
   "source": []
  }
 ],
 "metadata": {
  "kernelspec": {
   "display_name": "Python 2",
   "language": "python",
   "name": "python2"
  },
  "language_info": {
   "codemirror_mode": {
    "name": "ipython",
    "version": 2
   },
   "file_extension": ".py",
   "mimetype": "text/x-python",
   "name": "python",
   "nbconvert_exporter": "python",
   "pygments_lexer": "ipython2",
   "version": "2.7.13"
  }
 },
 "nbformat": 4,
 "nbformat_minor": 2
}
