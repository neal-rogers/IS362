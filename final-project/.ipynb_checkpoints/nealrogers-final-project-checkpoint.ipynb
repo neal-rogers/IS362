{
 "cells": [
  {
   "cell_type": "markdown",
   "metadata": {},
   "source": [
    "# IS 362 - Final Project: GIS + SQLite\n",
    "\n",
    "To begin, I will import the pandas module and additional modules."
   ]
  },
  {
   "cell_type": "code",
   "execution_count": 3,
   "metadata": {
    "collapsed": true
   },
   "outputs": [],
   "source": [
    "import pandas as pd\n",
    "import sqlite3\n",
    "\n",
    "from pandas import DataFrame\n",
    "from sqlite3 import Error"
   ]
  },
  {
   "cell_type": "markdown",
   "metadata": {},
   "source": [
    "Add the SQLite connection statement."
   ]
  },
  {
   "cell_type": "code",
   "execution_count": 4,
   "metadata": {
    "collapsed": false
   },
   "outputs": [],
   "source": [
    "db = sqlite3.connect(\"data/nyc_gdb_jan2018.sqlite\")"
   ]
  },
  {
   "cell_type": "markdown",
   "metadata": {},
   "source": [
    "Then create the SQL query and execute."
   ]
  },
  {
   "cell_type": "code",
   "execution_count": 5,
   "metadata": {
    "collapsed": false
   },
   "outputs": [
    {
     "data": {
      "text/html": [
       "<div>\n",
       "<table border=\"1\" class=\"dataframe\">\n",
       "  <thead>\n",
       "    <tr style=\"text-align: right;\">\n",
       "      <th></th>\n",
       "      <th>bcode</th>\n",
       "      <th>bname</th>\n",
       "      <th>name</th>\n",
       "      <th>namelsad</th>\n",
       "      <th>geometry</th>\n",
       "    </tr>\n",
       "  </thead>\n",
       "  <tbody>\n",
       "    <tr>\n",
       "      <th>0</th>\n",
       "      <td>36005</td>\n",
       "      <td>Bronx</td>\n",
       "      <td>Bronx</td>\n",
       "      <td>Bronx County</td>\n",
       "      <td>[\u0000, \u0001, �, \b, \u0000, \u0000, L, �, J, �, l, �, ., A, �, ...</td>\n",
       "    </tr>\n",
       "    <tr>\n",
       "      <th>1</th>\n",
       "      <td>36047</td>\n",
       "      <td>Brooklyn</td>\n",
       "      <td>Kings</td>\n",
       "      <td>Kings County</td>\n",
       "      <td>[\u0000, \u0001, �, \b, \u0000, \u0000, \f",
       ", +, �, �, L, �, -, A, \u0006, ...</td>\n",
       "    </tr>\n",
       "    <tr>\n",
       "      <th>2</th>\n",
       "      <td>36061</td>\n",
       "      <td>Manhattan</td>\n",
       "      <td>New York</td>\n",
       "      <td>New York County</td>\n",
       "      <td>[\u0000, \u0001, �, \b, \u0000, \u0000, �, }, c, �, \u0001, �, -, A, Q, ...</td>\n",
       "    </tr>\n",
       "    <tr>\n",
       "      <th>3</th>\n",
       "      <td>36081</td>\n",
       "      <td>Queens</td>\n",
       "      <td>Queens</td>\n",
       "      <td>Queens County</td>\n",
       "      <td>[\u0000, \u0001, �, \b, \u0000, \u0000, \u0016, �, \u001d",
       ", �, 3, Z, ., A, Z, ...</td>\n",
       "    </tr>\n",
       "    <tr>\n",
       "      <th>4</th>\n",
       "      <td>36085</td>\n",
       "      <td>Staten Island</td>\n",
       "      <td>Richmond</td>\n",
       "      <td>Richmond County</td>\n",
       "      <td>[\u0000, \u0001, �, \b, \u0000, \u0000, �, �, 7, a, �, �, +, A, $, ...</td>\n",
       "    </tr>\n",
       "  </tbody>\n",
       "</table>\n",
       "</div>"
      ],
      "text/plain": [
       "   bcode          bname      name         namelsad  \\\n",
       "0  36005          Bronx     Bronx     Bronx County   \n",
       "1  36047       Brooklyn     Kings     Kings County   \n",
       "2  36061      Manhattan  New York  New York County   \n",
       "3  36081         Queens    Queens    Queens County   \n",
       "4  36085  Staten Island  Richmond  Richmond County   \n",
       "\n",
       "                                            geometry  \n",
       "0  [\u0000, \u0001, �, \b, \u0000, \u0000, L, �, J, �, l, �, ., A, �, ...  \n",
       "1  [\u0000, \u0001, �, \b, \u0000, \u0000, \f",
       ", +, �, �, L, �, -, A, \u0006, ...  \n",
       "2  [\u0000, \u0001, �, \b, \u0000, \u0000, �, }, c, �, \u0001, �, -, A, Q, ...  \n",
       "3  [\u0000, \u0001, �, \b, \u0000, \u0000, \u0016, �, \u001d",
       ", �, 3, Z, ., A, Z, ...  \n",
       "4  [\u0000, \u0001, �, \b, \u0000, \u0000, �, �, 7, a, �, �, +, A, $, ...  "
      ]
     },
     "execution_count": 5,
     "metadata": {},
     "output_type": "execute_result"
    }
   ],
   "source": [
    "sql = '''SELECT\n",
    "        *\n",
    "        FROM a_boroughs'''\n",
    "pd.read_sql(sql, db).head()"
   ]
  },
  {
   "cell_type": "code",
   "execution_count": null,
   "metadata": {
    "collapsed": true
   },
   "outputs": [],
   "source": []
  }
 ],
 "metadata": {
  "kernelspec": {
   "display_name": "Python 2",
   "language": "python",
   "name": "python2"
  },
  "language_info": {
   "codemirror_mode": {
    "name": "ipython",
    "version": 2
   },
   "file_extension": ".py",
   "mimetype": "text/x-python",
   "name": "python",
   "nbconvert_exporter": "python",
   "pygments_lexer": "ipython2",
   "version": "2.7.13"
  }
 },
 "nbformat": 4,
 "nbformat_minor": 2
}
