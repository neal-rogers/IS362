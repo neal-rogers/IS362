{
 "cells": [
  {
   "cell_type": "markdown",
   "metadata": {},
   "source": [
    "# IS 362 - Final Project: GIS + SQLite\n",
    "\n",
    "To begin, I will import the pandas module and additional modules."
   ]
  },
  {
   "cell_type": "code",
   "execution_count": 3,
   "metadata": {
    "collapsed": true
   },
   "outputs": [],
   "source": [
    "import pandas as pd\n",
    "import sqlite3\n",
    "\n",
    "from pandas import DataFrame\n",
    "from sqlite3 import Error"
   ]
  },
  {
   "cell_type": "markdown",
   "metadata": {},
   "source": [
    "Add the SQLite connection statement."
   ]
  },
  {
   "cell_type": "code",
   "execution_count": 4,
   "metadata": {
    "collapsed": false
   },
   "outputs": [],
   "source": [
    "db = sqlite3.connect(\"data/nyc_gdb_jan2018.sqlite\")"
   ]
  },
  {
   "cell_type": "markdown",
   "metadata": {},
   "source": [
    "Then create the SQL query and execute."
   ]
  },
  {
   "cell_type": "code",
   "execution_count": 7,
   "metadata": {
    "collapsed": false
   },
   "outputs": [
    {
     "data": {
      "text/html": [
       "<div>\n",
       "<table border=\"1\" class=\"dataframe\">\n",
       "  <thead>\n",
       "    <tr style=\"text-align: right;\">\n",
       "      <th></th>\n",
       "      <th>cid</th>\n",
       "      <th>name</th>\n",
       "      <th>type</th>\n",
       "      <th>notnull</th>\n",
       "      <th>dflt_value</th>\n",
       "      <th>pk</th>\n",
       "    </tr>\n",
       "  </thead>\n",
       "  <tbody>\n",
       "    <tr>\n",
       "      <th>0</th>\n",
       "      <td>0</td>\n",
       "      <td>bcode</td>\n",
       "      <td>TEXT</td>\n",
       "      <td>1</td>\n",
       "      <td>None</td>\n",
       "      <td>1</td>\n",
       "    </tr>\n",
       "    <tr>\n",
       "      <th>1</th>\n",
       "      <td>1</td>\n",
       "      <td>bname</td>\n",
       "      <td>TEXT</td>\n",
       "      <td>0</td>\n",
       "      <td>None</td>\n",
       "      <td>0</td>\n",
       "    </tr>\n",
       "    <tr>\n",
       "      <th>2</th>\n",
       "      <td>2</td>\n",
       "      <td>name</td>\n",
       "      <td>TEXT</td>\n",
       "      <td>0</td>\n",
       "      <td>None</td>\n",
       "      <td>0</td>\n",
       "    </tr>\n",
       "    <tr>\n",
       "      <th>3</th>\n",
       "      <td>3</td>\n",
       "      <td>namelsad</td>\n",
       "      <td>TEXT</td>\n",
       "      <td>0</td>\n",
       "      <td>None</td>\n",
       "      <td>0</td>\n",
       "    </tr>\n",
       "    <tr>\n",
       "      <th>4</th>\n",
       "      <td>4</td>\n",
       "      <td>geometry</td>\n",
       "      <td>MULTIPOLYGON</td>\n",
       "      <td>0</td>\n",
       "      <td>None</td>\n",
       "      <td>0</td>\n",
       "    </tr>\n",
       "  </tbody>\n",
       "</table>\n",
       "</div>"
      ],
      "text/plain": [
       "   cid      name          type  notnull dflt_value  pk\n",
       "0    0     bcode          TEXT        1       None   1\n",
       "1    1     bname          TEXT        0       None   0\n",
       "2    2      name          TEXT        0       None   0\n",
       "3    3  namelsad          TEXT        0       None   0\n",
       "4    4  geometry  MULTIPOLYGON        0       None   0"
      ]
     },
     "execution_count": 7,
     "metadata": {},
     "output_type": "execute_result"
    }
   ],
   "source": [
    "sql = '''PRAGMA  table_info  (a_boroughs)'''\n",
    "pd.read_sql(sql, db).head()"
   ]
  },
  {
   "cell_type": "code",
   "execution_count": 8,
   "metadata": {
    "collapsed": false
   },
   "outputs": [
    {
     "data": {
      "text/html": [
       "<div>\n",
       "<table border=\"1\" class=\"dataframe\">\n",
       "  <thead>\n",
       "    <tr style=\"text-align: right;\">\n",
       "      <th></th>\n",
       "      <th>bcode</th>\n",
       "      <th>bname</th>\n",
       "      <th>name</th>\n",
       "      <th>namelsad</th>\n",
       "      <th>geometry</th>\n",
       "    </tr>\n",
       "  </thead>\n",
       "  <tbody>\n",
       "    <tr>\n",
       "      <th>0</th>\n",
       "      <td>36005</td>\n",
       "      <td>Bronx</td>\n",
       "      <td>Bronx</td>\n",
       "      <td>Bronx County</td>\n",
       "      <td>[\u0000, \u0001, �, \b, \u0000, \u0000, L, �, J, �, l, �, ., A, �, ...</td>\n",
       "    </tr>\n",
       "    <tr>\n",
       "      <th>1</th>\n",
       "      <td>36047</td>\n",
       "      <td>Brooklyn</td>\n",
       "      <td>Kings</td>\n",
       "      <td>Kings County</td>\n",
       "      <td>[\u0000, \u0001, �, \b, \u0000, \u0000, \f",
       ", +, �, �, L, �, -, A, \u0006, ...</td>\n",
       "    </tr>\n",
       "    <tr>\n",
       "      <th>2</th>\n",
       "      <td>36061</td>\n",
       "      <td>Manhattan</td>\n",
       "      <td>New York</td>\n",
       "      <td>New York County</td>\n",
       "      <td>[\u0000, \u0001, �, \b, \u0000, \u0000, �, }, c, �, \u0001, �, -, A, Q, ...</td>\n",
       "    </tr>\n",
       "    <tr>\n",
       "      <th>3</th>\n",
       "      <td>36081</td>\n",
       "      <td>Queens</td>\n",
       "      <td>Queens</td>\n",
       "      <td>Queens County</td>\n",
       "      <td>[\u0000, \u0001, �, \b, \u0000, \u0000, \u0016, �, \u001d",
       ", �, 3, Z, ., A, Z, ...</td>\n",
       "    </tr>\n",
       "    <tr>\n",
       "      <th>4</th>\n",
       "      <td>36085</td>\n",
       "      <td>Staten Island</td>\n",
       "      <td>Richmond</td>\n",
       "      <td>Richmond County</td>\n",
       "      <td>[\u0000, \u0001, �, \b, \u0000, \u0000, �, �, 7, a, �, �, +, A, $, ...</td>\n",
       "    </tr>\n",
       "  </tbody>\n",
       "</table>\n",
       "</div>"
      ],
      "text/plain": [
       "   bcode          bname      name         namelsad  \\\n",
       "0  36005          Bronx     Bronx     Bronx County   \n",
       "1  36047       Brooklyn     Kings     Kings County   \n",
       "2  36061      Manhattan  New York  New York County   \n",
       "3  36081         Queens    Queens    Queens County   \n",
       "4  36085  Staten Island  Richmond  Richmond County   \n",
       "\n",
       "                                            geometry  \n",
       "0  [\u0000, \u0001, �, \b, \u0000, \u0000, L, �, J, �, l, �, ., A, �, ...  \n",
       "1  [\u0000, \u0001, �, \b, \u0000, \u0000, \f",
       ", +, �, �, L, �, -, A, \u0006, ...  \n",
       "2  [\u0000, \u0001, �, \b, \u0000, \u0000, �, }, c, �, \u0001, �, -, A, Q, ...  \n",
       "3  [\u0000, \u0001, �, \b, \u0000, \u0000, \u0016, �, \u001d",
       ", �, 3, Z, ., A, Z, ...  \n",
       "4  [\u0000, \u0001, �, \b, \u0000, \u0000, �, �, 7, a, �, �, +, A, $, ...  "
      ]
     },
     "execution_count": 8,
     "metadata": {},
     "output_type": "execute_result"
    }
   ],
   "source": [
    "sql = '''SELECT\n",
    "        *\n",
    "        FROM a_boroughs'''\n",
    "pd.read_sql(sql, db).head()"
   ]
  },
  {
   "cell_type": "code",
   "execution_count": 9,
   "metadata": {
    "collapsed": false
   },
   "outputs": [
    {
     "data": {
      "text/html": [
       "<div>\n",
       "<table border=\"1\" class=\"dataframe\">\n",
       "  <thead>\n",
       "    <tr style=\"text-align: right;\">\n",
       "      <th></th>\n",
       "      <th>GEOID</th>\n",
       "      <th>GEOID2</th>\n",
       "      <th>GEOLABEL</th>\n",
       "      <th>pop2010</th>\n",
       "    </tr>\n",
       "  </thead>\n",
       "  <tbody>\n",
       "    <tr>\n",
       "      <th>0</th>\n",
       "      <td>8600000US11368</td>\n",
       "      <td>11368</td>\n",
       "      <td>ZCTA5 11368</td>\n",
       "      <td>109931</td>\n",
       "    </tr>\n",
       "    <tr>\n",
       "      <th>1</th>\n",
       "      <td>8600000US11226</td>\n",
       "      <td>11226</td>\n",
       "      <td>ZCTA5 11226</td>\n",
       "      <td>101572</td>\n",
       "    </tr>\n",
       "    <tr>\n",
       "      <th>2</th>\n",
       "      <td>8600000US11373</td>\n",
       "      <td>11373</td>\n",
       "      <td>ZCTA5 11373</td>\n",
       "      <td>100820</td>\n",
       "    </tr>\n",
       "    <tr>\n",
       "      <th>3</th>\n",
       "      <td>8600000US11220</td>\n",
       "      <td>11220</td>\n",
       "      <td>ZCTA5 11220</td>\n",
       "      <td>99598</td>\n",
       "    </tr>\n",
       "    <tr>\n",
       "      <th>4</th>\n",
       "      <td>8600000US11385</td>\n",
       "      <td>11385</td>\n",
       "      <td>ZCTA5 11385</td>\n",
       "      <td>98592</td>\n",
       "    </tr>\n",
       "  </tbody>\n",
       "</table>\n",
       "</div>"
      ],
      "text/plain": [
       "            GEOID GEOID2     GEOLABEL  pop2010\n",
       "0  8600000US11368  11368  ZCTA5 11368   109931\n",
       "1  8600000US11226  11226  ZCTA5 11226   101572\n",
       "2  8600000US11373  11373  ZCTA5 11373   100820\n",
       "3  8600000US11220  11220  ZCTA5 11220    99598\n",
       "4  8600000US11385  11385  ZCTA5 11385    98592"
      ]
     },
     "execution_count": 9,
     "metadata": {},
     "output_type": "execute_result"
    }
   ],
   "source": [
    "sql = '''SELECT  geoid,\n",
    "         geoid2, \n",
    "         geolabel,\n",
    "         HD01_S001\n",
    "         AS  pop2010\n",
    "         FROM  b_zctas_2010census\n",
    "         ORDER  BY  pop2010 DESC'''\n",
    "pd.read_sql(sql, db).head()"
   ]
  },
  {
   "cell_type": "code",
   "execution_count": 10,
   "metadata": {
    "collapsed": false
   },
   "outputs": [
    {
     "data": {
      "text/html": [
       "<div>\n",
       "<table border=\"1\" class=\"dataframe\">\n",
       "  <thead>\n",
       "    <tr style=\"text-align: right;\">\n",
       "      <th></th>\n",
       "      <th>zcta</th>\n",
       "      <th>bcode</th>\n",
       "      <th>pop2010</th>\n",
       "    </tr>\n",
       "  </thead>\n",
       "  <tbody>\n",
       "    <tr>\n",
       "      <th>0</th>\n",
       "      <td>10162</td>\n",
       "      <td>36061</td>\n",
       "      <td>1685</td>\n",
       "    </tr>\n",
       "    <tr>\n",
       "      <th>1</th>\n",
       "      <td>10006</td>\n",
       "      <td>36061</td>\n",
       "      <td>3011</td>\n",
       "    </tr>\n",
       "    <tr>\n",
       "      <th>2</th>\n",
       "      <td>10004</td>\n",
       "      <td>36061</td>\n",
       "      <td>3089</td>\n",
       "    </tr>\n",
       "    <tr>\n",
       "      <th>3</th>\n",
       "      <td>10282</td>\n",
       "      <td>36061</td>\n",
       "      <td>4783</td>\n",
       "    </tr>\n",
       "    <tr>\n",
       "      <th>4</th>\n",
       "      <td>10069</td>\n",
       "      <td>36061</td>\n",
       "      <td>5199</td>\n",
       "    </tr>\n",
       "  </tbody>\n",
       "</table>\n",
       "</div>"
      ],
      "text/plain": [
       "    zcta  bcode  pop2010\n",
       "0  10162  36061     1685\n",
       "1  10006  36061     3011\n",
       "2  10004  36061     3089\n",
       "3  10282  36061     4783\n",
       "4  10069  36061     5199"
      ]
     },
     "execution_count": 10,
     "metadata": {},
     "output_type": "execute_result"
    }
   ],
   "source": [
    "sql = '''SELECT  zcta,\n",
    "         bcode, \n",
    "         HD01_S001\n",
    "         AS  pop2010\n",
    "         FROM  a_zctas, b_zctas_2010census\n",
    "         WHERE  zcta=geoid2  AND  bcode=\"36061\" AND  pop2010 > 200\n",
    "         ORDER  BY  pop2010'''\n",
    "pd.read_sql(sql, db).head()"
   ]
  },
  {
   "cell_type": "code",
   "execution_count": null,
   "metadata": {
    "collapsed": true
   },
   "outputs": [],
   "source": []
  }
 ],
 "metadata": {
  "kernelspec": {
   "display_name": "Python 2",
   "language": "python",
   "name": "python2"
  },
  "language_info": {
   "codemirror_mode": {
    "name": "ipython",
    "version": 2
   },
   "file_extension": ".py",
   "mimetype": "text/x-python",
   "name": "python",
   "nbconvert_exporter": "python",
   "pygments_lexer": "ipython2",
   "version": "2.7.13"
  }
 },
 "nbformat": 4,
 "nbformat_minor": 2
}
