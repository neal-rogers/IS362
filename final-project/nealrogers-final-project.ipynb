{
 "cells": [
  {
   "cell_type": "markdown",
   "metadata": {},
   "source": [
    "# IS 362 - Final Project: GIS + SQLite\n",
    "\n",
    "To begin, I will import the pandas module and additional modules."
   ]
  },
  {
   "cell_type": "code",
   "execution_count": 13,
   "metadata": {
    "collapsed": false
   },
   "outputs": [],
   "source": [
    "import pandas as pd\n",
    "import sqlite3\n",
    "import seaborn as sns\n",
    "import matplotlib.pyplot as plot\n",
    "from pandas import DataFrame\n",
    "\n",
    "from pandas import DataFrame\n",
    "from sqlite3 import Error\n",
    "\n",
    "# Enable inline plotting\n",
    "%matplotlib inline\n",
    "\n",
    "sns.set()\n",
    "sns.set_style(\"ticks\", {\"xtick.major.size\": 8, \"ytick.major.size\": 8})"
   ]
  },
  {
   "cell_type": "markdown",
   "metadata": {},
   "source": [
    "Add the SQLite connection statement."
   ]
  },
  {
   "cell_type": "code",
   "execution_count": 2,
   "metadata": {
    "collapsed": false
   },
   "outputs": [],
   "source": [
    "db = sqlite3.connect(\"data/nyc_gdb_jan2018.sqlite\")"
   ]
  },
  {
   "cell_type": "markdown",
   "metadata": {},
   "source": [
    "Let's execute the SQL query to join some tables and create a new DataFrame for borough population and housing information."
   ]
  },
  {
   "cell_type": "code",
   "execution_count": 3,
   "metadata": {
    "collapsed": false
   },
   "outputs": [
    {
     "data": {
      "text/html": [
       "<div>\n",
       "<table border=\"1\" class=\"dataframe\">\n",
       "  <thead>\n",
       "    <tr style=\"text-align: right;\">\n",
       "      <th></th>\n",
       "      <th>Borough</th>\n",
       "      <th>Neighborhood</th>\n",
       "      <th>Population</th>\n",
       "      <th>Housing-Units</th>\n",
       "      <th>Occupied-Units</th>\n",
       "      <th>Vacant-Units</th>\n",
       "      <th>Owner-Occupied</th>\n",
       "      <th>Renter-Occupied</th>\n",
       "    </tr>\n",
       "  </thead>\n",
       "  <tbody>\n",
       "    <tr>\n",
       "      <th>0</th>\n",
       "      <td>Bronx</td>\n",
       "      <td>Allerton-Pelham Gardens</td>\n",
       "      <td>28903</td>\n",
       "      <td>10237</td>\n",
       "      <td>9571</td>\n",
       "      <td>666</td>\n",
       "      <td>4966</td>\n",
       "      <td>4605</td>\n",
       "    </tr>\n",
       "    <tr>\n",
       "      <th>1</th>\n",
       "      <td>Bronx</td>\n",
       "      <td>Bedford Park-Fordham North</td>\n",
       "      <td>54415</td>\n",
       "      <td>19518</td>\n",
       "      <td>18473</td>\n",
       "      <td>1045</td>\n",
       "      <td>1007</td>\n",
       "      <td>17466</td>\n",
       "    </tr>\n",
       "    <tr>\n",
       "      <th>2</th>\n",
       "      <td>Bronx</td>\n",
       "      <td>Belmont</td>\n",
       "      <td>27378</td>\n",
       "      <td>9675</td>\n",
       "      <td>8967</td>\n",
       "      <td>708</td>\n",
       "      <td>378</td>\n",
       "      <td>8589</td>\n",
       "    </tr>\n",
       "    <tr>\n",
       "      <th>3</th>\n",
       "      <td>Bronx</td>\n",
       "      <td>Bronxdale</td>\n",
       "      <td>35538</td>\n",
       "      <td>14495</td>\n",
       "      <td>13886</td>\n",
       "      <td>609</td>\n",
       "      <td>1766</td>\n",
       "      <td>12120</td>\n",
       "    </tr>\n",
       "    <tr>\n",
       "      <th>4</th>\n",
       "      <td>Bronx</td>\n",
       "      <td>Claremont-Bathgate</td>\n",
       "      <td>31078</td>\n",
       "      <td>10423</td>\n",
       "      <td>10018</td>\n",
       "      <td>405</td>\n",
       "      <td>489</td>\n",
       "      <td>9529</td>\n",
       "    </tr>\n",
       "  </tbody>\n",
       "</table>\n",
       "</div>"
      ],
      "text/plain": [
       "  Borough                Neighborhood  Population  Housing-Units  \\\n",
       "0   Bronx     Allerton-Pelham Gardens       28903          10237   \n",
       "1   Bronx  Bedford Park-Fordham North       54415          19518   \n",
       "2   Bronx                     Belmont       27378           9675   \n",
       "3   Bronx                   Bronxdale       35538          14495   \n",
       "4   Bronx          Claremont-Bathgate       31078          10423   \n",
       "\n",
       "   Occupied-Units  Vacant-Units  Owner-Occupied  Renter-Occupied  \n",
       "0            9571           666            4966             4605  \n",
       "1           18473          1045            1007            17466  \n",
       "2            8967           708             378             8589  \n",
       "3           13886           609            1766            12120  \n",
       "4           10018           405             489             9529  "
      ]
     },
     "execution_count": 3,
     "metadata": {},
     "output_type": "execute_result"
    }
   ],
   "source": [
    "sql = '''SELECT a.bname AS Borough,\n",
    "       a_tracts.nta_name AS Neighborhood,\n",
    "       sum(HD01_S001) AS 'Population',\n",
    "       sum(HD01_S169) AS 'Housing-Units',\n",
    "       sum(HD01_S170) AS 'Occupied-Units',\n",
    "       sum(HD01_S171) AS 'Vacant-Units',\n",
    "       sum(HD01_S181) AS 'Owner-Occupied',\n",
    "       sum(HD01_S184) AS 'Renter-Occupied'\n",
    "       FROM a_tracts, b_tracts_2010census\n",
    "       JOIN a_boroughs AS a\n",
    "       ON a_tracts.bcode = a.bcode\n",
    "       WHERE b_tracts_2010census.GEOID2=a_tracts.tractid\n",
    "       GROUP BY nta\n",
    "       ORDER BY a_tracts.bcode, nta_name'''\n",
    "sql_response = pd.read_sql(sql, db)\n",
    "sql_response.head()"
   ]
  },
  {
   "cell_type": "markdown",
   "metadata": {
    "collapsed": true
   },
   "source": [
    "###### Next, create a new DataFrame which sums occupied and vacant housing units by borough."
   ]
  },
  {
   "cell_type": "code",
   "execution_count": 4,
   "metadata": {
    "collapsed": false
   },
   "outputs": [
    {
     "data": {
      "text/html": [
       "<div>\n",
       "<table border=\"1\" class=\"dataframe\">\n",
       "  <thead>\n",
       "    <tr style=\"text-align: right;\">\n",
       "      <th></th>\n",
       "      <th>Housing-Units</th>\n",
       "      <th>Occupied-Units</th>\n",
       "      <th>Vacant-Units</th>\n",
       "    </tr>\n",
       "    <tr>\n",
       "      <th>Borough</th>\n",
       "      <th></th>\n",
       "      <th></th>\n",
       "      <th></th>\n",
       "    </tr>\n",
       "  </thead>\n",
       "  <tbody>\n",
       "    <tr>\n",
       "      <th>Bronx</th>\n",
       "      <td>511896</td>\n",
       "      <td>483449</td>\n",
       "      <td>28447</td>\n",
       "    </tr>\n",
       "    <tr>\n",
       "      <th>Brooklyn</th>\n",
       "      <td>1000293</td>\n",
       "      <td>916856</td>\n",
       "      <td>83437</td>\n",
       "    </tr>\n",
       "    <tr>\n",
       "      <th>Manhattan</th>\n",
       "      <td>847090</td>\n",
       "      <td>763846</td>\n",
       "      <td>83244</td>\n",
       "    </tr>\n",
       "    <tr>\n",
       "      <th>Queens</th>\n",
       "      <td>835127</td>\n",
       "      <td>780117</td>\n",
       "      <td>55010</td>\n",
       "    </tr>\n",
       "    <tr>\n",
       "      <th>Staten Island</th>\n",
       "      <td>176656</td>\n",
       "      <td>165516</td>\n",
       "      <td>11140</td>\n",
       "    </tr>\n",
       "  </tbody>\n",
       "</table>\n",
       "</div>"
      ],
      "text/plain": [
       "               Housing-Units  Occupied-Units  Vacant-Units\n",
       "Borough                                                   \n",
       "Bronx                 511896          483449         28447\n",
       "Brooklyn             1000293          916856         83437\n",
       "Manhattan             847090          763846         83244\n",
       "Queens                835127          780117         55010\n",
       "Staten Island         176656          165516         11140"
      ]
     },
     "execution_count": 4,
     "metadata": {},
     "output_type": "execute_result"
    }
   ],
   "source": [
    "cp_resp = sql_response.copy().groupby('Borough').sum()\n",
    "\n",
    "housing = cp_resp[['Housing-Units', 'Occupied-Units', 'Vacant-Units']]\n",
    "housing"
   ]
  },
  {
   "cell_type": "markdown",
   "metadata": {},
   "source": [
    "Now create a bar graph to compare occupied and vacant units."
   ]
  },
  {
   "cell_type": "code",
   "execution_count": 15,
   "metadata": {
    "collapsed": false
   },
   "outputs": [
    {
     "data": {
      "text/plain": [
       "<matplotlib.text.Text at 0x10f43890>"
      ]
     },
     "execution_count": 15,
     "metadata": {},
     "output_type": "execute_result"
    },
    {
     "data": {
      "image/png": "[encoded data removed]",
      "text/plain": [
       "<matplotlib.figure.Figure at 0x10f8e190>"
      ]
     },
     "metadata": {},
     "output_type": "display_data"
    }
   ],
   "source": [
    "housing.plot.bar()\n",
    "plot.ylabel('Units')\n",
    "plot.xlabel('Borough')"
   ]
  },
  {
   "cell_type": "code",
   "execution_count": null,
   "metadata": {
    "collapsed": false
   },
   "outputs": [],
   "source": []
  }
 ],
 "metadata": {
  "kernelspec": {
   "display_name": "Python 2",
   "language": "python",
   "name": "python2"
  },
  "language_info": {
   "codemirror_mode": {
    "name": "ipython",
    "version": 2
   },
   "file_extension": ".py",
   "mimetype": "text/x-python",
   "name": "python",
   "nbconvert_exporter": "python",
   "pygments_lexer": "ipython2",
   "version": "2.7.13"
  }
 },
 "nbformat": 4,
 "nbformat_minor": 2
}
