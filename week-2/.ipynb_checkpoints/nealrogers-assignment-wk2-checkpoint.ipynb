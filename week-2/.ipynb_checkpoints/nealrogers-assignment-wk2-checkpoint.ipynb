{
 "cells": [
  {
   "cell_type": "markdown",
   "metadata": {},
   "source": [
    "# IS 362 - Week 2 Assignment\n",
    "### The following are a set of exercises in generating lists, comprehensions, and splitting.\n",
    "To begin, I will import the random and numpy modules and generate two lists of random numbers."
   ]
  },
  {
   "cell_type": "code",
   "execution_count": 54,
   "metadata": {
    "collapsed": false
   },
   "outputs": [
    {
     "name": "stdout",
     "output_type": "stream",
     "text": [
      "[22, 25, 29, 3, 38, 30, 33, 0, 18, 5, 27, 42, 24, 44, 16, 4, 48, 10, 34, 12, 35, 21, 47, 20, 26] [1, 8, 43, 45, 46, 32, 37, 39, 28, 23, 17, 9, 11, 41, 40, 31, 13, 6, 49, 19, 14, 7, 36, 15, 2]\n"
     ]
    }
   ],
   "source": [
    "import random\n",
    "import numpy as np\n",
    "\n",
    "my_range = range(50)\n",
    "random.shuffle(my_range)\n",
    "list1 = my_range[:25]\n",
    "list2 = my_range[25:]\n",
    "print list1, list2"
   ]
  },
  {
   "cell_type": "markdown",
   "metadata": {},
   "source": [
    "Next, I will use a list comprehension to create two new lists of even and odd numbers."
   ]
  },
  {
   "cell_type": "code",
   "execution_count": 58,
   "metadata": {
    "collapsed": false
   },
   "outputs": [
    {
     "name": "stdout",
     "output_type": "stream",
     "text": [
      "[22, 38, 30, 0, 18, 42, 24, 44, 16, 4, 48, 10, 34, 12, 20, 26, 8, 46, 32, 28, 40, 6, 14, 36, 2] [25, 29, 3, 33, 5, 27, 35, 21, 47, 8, 46, 32, 28, 40, 6, 14, 36, 2]\n"
     ]
    }
   ],
   "source": [
    "even_list = [x for x in list1 if x % 2 == 0]\n",
    "even_list.extend([x for x in list2 if x % 2 == 0])\n",
    "odd_list = [x for x in list1 if x % 2 != 0]\n",
    "odd_list.extend([x for x in list2 if x % 2 == 0])\n",
    "print even_list, odd_list"
   ]
  },
  {
   "cell_type": "code",
   "execution_count": null,
   "metadata": {
    "collapsed": true
   },
   "outputs": [],
   "source": []
  }
 ],
 "metadata": {
  "kernelspec": {
   "display_name": "Python 2",
   "language": "python",
   "name": "python2"
  },
  "language_info": {
   "codemirror_mode": {
    "name": "ipython",
    "version": 2
   },
   "file_extension": ".py",
   "mimetype": "text/x-python",
   "name": "python",
   "nbconvert_exporter": "python",
   "pygments_lexer": "ipython2",
   "version": "2.7.13"
  }
 },
 "nbformat": 4,
 "nbformat_minor": 2
}
