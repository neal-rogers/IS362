{
 "cells": [
  {
   "cell_type": "markdown",
   "metadata": {},
   "source": [
    "# IS 362 - Week 2 Assignment\n",
    "### The following are a set of exercises in generating lists and using list comprehensions.\n",
    "To begin, I will import the random module and generate two lists of random numbers."
   ]
  },
  {
   "cell_type": "code",
   "execution_count": 72,
   "metadata": {
    "collapsed": false
   },
   "outputs": [
    {
     "name": "stdout",
     "output_type": "stream",
     "text": [
      "[42, 25, 39, 33, 24, 3, 47, 16, 45, 49, 38, 36, 19, 37, 29, 2, 32, 13, 5, 17, 7, 4, 18, 15, 0] [21, 41, 8, 1, 6, 20, 46, 26, 14, 48, 35, 30, 34, 40, 28, 12, 11, 27, 9, 23, 10, 31, 22, 43, 44]\n"
     ]
    }
   ],
   "source": [
    "import random\n",
    "\n",
    "my_range = range(50)\n",
    "random.shuffle(my_range)\n",
    "list1 = my_range[:25]\n",
    "list2 = my_range[-25:]\n",
    "print list1, list2"
   ]
  },
  {
   "cell_type": "markdown",
   "metadata": {},
   "source": [
    "Next, I will use a list comprehension to create two new lists of even and odd numbers."
   ]
  },
  {
   "cell_type": "code",
   "execution_count": 74,
   "metadata": {
    "collapsed": false
   },
   "outputs": [
    {
     "name": "stdout",
     "output_type": "stream",
     "text": [
      "[42, 24, 16, 38, 36, 2, 32, 4, 18, 0, 8, 6, 20, 46, 26, 14, 48, 30, 34, 40, 28, 12, 10, 22, 44] [25, 39, 33, 3, 47, 45, 49, 19, 37, 29, 13, 5, 17, 7, 15, 8, 6, 20, 46, 26, 14, 48, 30, 34, 40, 28, 12, 10, 22, 44]\n"
     ]
    }
   ],
   "source": [
    "even_list = [x for x in list1 if x % 2 == 0]\n",
    "even_list.extend([x for x in list2 if x % 2 == 0])\n",
    "odd_list = [x for x in list1 if x % 2 != 0]\n",
    "odd_list.extend([x for x in list2 if x % 2 == 0])\n",
    "print even_list, odd_list"
   ]
  },
  {
   "cell_type": "markdown",
   "metadata": {},
   "source": [
    "Then, I will combine the lists into a list of pairs."
   ]
  },
  {
   "cell_type": "code",
   "execution_count": 75,
   "metadata": {
    "collapsed": false
   },
   "outputs": [
    {
     "name": "stdout",
     "output_type": "stream",
     "text": [
      "[(42, 25), (24, 39), (16, 33), (38, 3), (36, 47), (2, 45), (32, 49), (4, 19), (18, 37), (0, 29), (8, 13), (6, 5), (20, 17), (46, 7), (26, 15), (14, 8), (48, 6), (30, 20), (34, 46), (40, 26), (28, 14), (12, 48), (10, 30), (22, 34), (44, 40)]\n"
     ]
    }
   ],
   "source": [
    "list3 = zip(even_list, odd_list)\n",
    "print list3"
   ]
  },
  {
   "cell_type": "markdown",
   "metadata": {},
   "source": [
    "And then sort in descending order."
   ]
  },
  {
   "cell_type": "code",
   "execution_count": 76,
   "metadata": {
    "collapsed": false
   },
   "outputs": [
    {
     "name": "stdout",
     "output_type": "stream",
     "text": [
      "[(48, 6), (46, 7), (44, 40), (42, 25), (40, 26), (38, 3), (36, 47), (34, 46), (32, 49), (30, 20), (28, 14), (26, 15), (24, 39), (22, 34), (20, 17), (18, 37), (16, 33), (14, 8), (12, 48), (10, 30), (8, 13), (6, 5), (4, 19), (2, 45), (0, 29)]\n"
     ]
    }
   ],
   "source": [
    "list3 = sorted(list3, reverse=True)\n",
    "print list3"
   ]
  },
  {
   "cell_type": "code",
   "execution_count": null,
   "metadata": {
    "collapsed": true
   },
   "outputs": [],
   "source": []
  }
 ],
 "metadata": {
  "kernelspec": {
   "display_name": "Python 2",
   "language": "python",
   "name": "python2"
  },
  "language_info": {
   "codemirror_mode": {
    "name": "ipython",
    "version": 2
   },
   "file_extension": ".py",
   "mimetype": "text/x-python",
   "name": "python",
   "nbconvert_exporter": "python",
   "pygments_lexer": "ipython2",
   "version": "2.7.13"
  }
 },
 "nbformat": 4,
 "nbformat_minor": 2
}
