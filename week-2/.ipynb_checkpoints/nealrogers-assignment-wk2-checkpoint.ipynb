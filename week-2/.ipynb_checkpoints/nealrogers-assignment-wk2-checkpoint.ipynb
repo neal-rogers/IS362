{
 "cells": [
  {
   "cell_type": "markdown",
   "metadata": {},
   "source": [
    "# IS 362 - Week 2 Assignment\n",
    "### The following are a set of exercises in generating lists and using list comprehensions.\n",
    "To begin, I will import the random module and generate two lists of random numbers."
   ]
  },
  {
   "cell_type": "code",
   "execution_count": 3,
   "metadata": {
    "collapsed": false
   },
   "outputs": [
    {
     "name": "stdout",
     "output_type": "stream",
     "text": [
      "[3, 34, 17, 5, 49, 39, 31, 15, 26, 2, 13, 14, 35, 29, 20, 33, 44, 10, 9, 37, 18, 6, 47, 41, 1] [48, 38, 28, 22, 46, 43, 36, 8, 24, 7, 19, 16, 0, 42, 27, 12, 32, 21, 40, 11, 25, 4, 45, 23, 30]\n"
     ]
    }
   ],
   "source": [
    "import random\n",
    "\n",
    "my_range = range(50)\n",
    "random.shuffle(my_range)\n",
    "list1 = my_range[:25]\n",
    "list2 = my_range[-25:]\n",
    "print list1, list2"
   ]
  },
  {
   "cell_type": "markdown",
   "metadata": {},
   "source": [
    "Next, I will use a list comprehension to create two new lists of even and odd numbers."
   ]
  },
  {
   "cell_type": "code",
   "execution_count": 6,
   "metadata": {
    "collapsed": false
   },
   "outputs": [
    {
     "name": "stdout",
     "output_type": "stream",
     "text": [
      "[34, 26, 2, 14, 20, 44, 10, 18, 6, 48, 38, 28, 22, 46, 36, 8, 24, 16, 0, 42, 12, 32, 40, 4, 30] [3, 17, 5, 49, 39, 31, 15, 13, 35, 29, 33, 9, 37, 47, 41, 1, 43, 7, 19, 27, 21, 11, 25, 45, 23]\n"
     ]
    }
   ],
   "source": [
    "even_list = [x for x in list1 if x % 2 == 0]\n",
    "even_list.extend([x for x in list2 if x % 2 == 0])\n",
    "odd_list = [x for x in list1 if x % 2 != 0]\n",
    "odd_list.extend([x for x in list2 if x % 2 != 0])\n",
    "print even_list, odd_list"
   ]
  },
  {
   "cell_type": "markdown",
   "metadata": {},
   "source": [
    "Then, I will combine the lists into a list of pairs."
   ]
  },
  {
   "cell_type": "code",
   "execution_count": 7,
   "metadata": {
    "collapsed": false
   },
   "outputs": [
    {
     "name": "stdout",
     "output_type": "stream",
     "text": [
      "[(34, 3), (26, 17), (2, 5), (14, 49), (20, 39), (44, 31), (10, 15), (18, 13), (6, 35), (48, 29), (38, 33), (28, 9), (22, 37), (46, 47), (36, 41), (8, 1), (24, 43), (16, 7), (0, 19), (42, 27), (12, 21), (32, 11), (40, 25), (4, 45), (30, 23)]\n"
     ]
    }
   ],
   "source": [
    "list3 = zip(even_list, odd_list)\n",
    "print list3"
   ]
  },
  {
   "cell_type": "markdown",
   "metadata": {},
   "source": [
    "And then sort in descending order."
   ]
  },
  {
   "cell_type": "code",
   "execution_count": 8,
   "metadata": {
    "collapsed": false
   },
   "outputs": [
    {
     "name": "stdout",
     "output_type": "stream",
     "text": [
      "[(48, 29), (46, 47), (44, 31), (42, 27), (40, 25), (38, 33), (36, 41), (34, 3), (32, 11), (30, 23), (28, 9), (26, 17), (24, 43), (22, 37), (20, 39), (18, 13), (16, 7), (14, 49), (12, 21), (10, 15), (8, 1), (6, 35), (4, 45), (2, 5), (0, 19)]\n"
     ]
    }
   ],
   "source": [
    "list3 = sorted(list3, reverse=True)\n",
    "print list3"
   ]
  },
  {
   "cell_type": "code",
   "execution_count": null,
   "metadata": {
    "collapsed": true
   },
   "outputs": [],
   "source": []
  }
 ],
 "metadata": {
  "kernelspec": {
   "display_name": "Python 2",
   "language": "python",
   "name": "python2"
  },
  "language_info": {
   "codemirror_mode": {
    "name": "ipython",
    "version": 2
   },
   "file_extension": ".py",
   "mimetype": "text/x-python",
   "name": "python",
   "nbconvert_exporter": "python",
   "pygments_lexer": "ipython2",
   "version": "2.7.13"
  }
 },
 "nbformat": 4,
 "nbformat_minor": 2
}
