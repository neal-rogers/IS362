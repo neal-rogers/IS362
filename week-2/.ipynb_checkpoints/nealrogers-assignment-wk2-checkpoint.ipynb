{
 "cells": [
  {
   "cell_type": "markdown",
   "metadata": {},
   "source": [
    "# IS 362 - Week 2 Assignment\n",
    "### The following are a set of exercises in generating lists and using list comprehensions.\n",
    "To begin, I will import the random module and generate two lists of random numbers."
   ]
  },
  {
   "cell_type": "code",
   "execution_count": 66,
   "metadata": {
    "collapsed": false
   },
   "outputs": [
    {
     "name": "stdout",
     "output_type": "stream",
     "text": [
      "[40, 48, 41, 45, 15, 18, 20, 37, 3, 13, 23, 33, 10, 44, 30, 28, 22, 46, 24, 4, 32, 14, 5, 47, 1] [0, 49, 39, 29, 27, 31, 7, 9, 2, 8, 16, 42, 43, 25, 12, 34, 6, 17, 21, 38, 19, 36, 11, 35, 26]\n"
     ]
    }
   ],
   "source": [
    "import random\n",
    "\n",
    "my_range = range(50)\n",
    "random.shuffle(my_range)\n",
    "list1 = my_range[:25]\n",
    "list2 = my_range[-25:]\n",
    "print list1, list2"
   ]
  },
  {
   "cell_type": "markdown",
   "metadata": {},
   "source": [
    "Next, I will use a list comprehension to create two new lists of even and odd numbers."
   ]
  },
  {
   "cell_type": "code",
   "execution_count": 67,
   "metadata": {
    "collapsed": false
   },
   "outputs": [
    {
     "name": "stdout",
     "output_type": "stream",
     "text": [
      "[40, 48, 18, 20, 10, 44, 30, 28, 22, 46, 24, 4, 32, 14, 0, 2, 8, 16, 42, 12, 34, 6, 38, 36, 26] [41, 45, 15, 37, 3, 13, 23, 33, 5, 47, 1, 0, 2, 8, 16, 42, 12, 34, 6, 38, 36, 26]\n"
     ]
    }
   ],
   "source": [
    "even_list = [x for x in list1 if x % 2 == 0]\n",
    "even_list.extend([x for x in list2 if x % 2 == 0])\n",
    "odd_list = [x for x in list1 if x % 2 != 0]\n",
    "odd_list.extend([x for x in list2 if x % 2 == 0])\n",
    "print even_list, odd_list"
   ]
  },
  {
   "cell_type": "markdown",
   "metadata": {},
   "source": [
    "Then, I will combine the lists into a list of pairs."
   ]
  },
  {
   "cell_type": "code",
   "execution_count": 68,
   "metadata": {
    "collapsed": false
   },
   "outputs": [
    {
     "name": "stdout",
     "output_type": "stream",
     "text": [
      "[(40, 41), (48, 45), (18, 15), (20, 37), (10, 3), (44, 13), (30, 23), (28, 33), (22, 5), (46, 47), (24, 1), (4, 0), (32, 2), (14, 8), (0, 16), (2, 42), (8, 12), (16, 34), (42, 6), (12, 38), (34, 36), (6, 26)]\n"
     ]
    }
   ],
   "source": [
    "list3 = zip(even_list, odd_list)\n",
    "print list3"
   ]
  },
  {
   "cell_type": "markdown",
   "metadata": {},
   "source": [
    "And then sort in descending order."
   ]
  },
  {
   "cell_type": "code",
   "execution_count": 69,
   "metadata": {
    "collapsed": false
   },
   "outputs": [
    {
     "name": "stdout",
     "output_type": "stream",
     "text": [
      "[(48, 45), (46, 47), (44, 13), (42, 6), (40, 41), (34, 36), (32, 2), (30, 23), (28, 33), (24, 1), (22, 5), (20, 37), (18, 15), (16, 34), (14, 8), (12, 38), (10, 3), (8, 12), (6, 26), (4, 0), (2, 42), (0, 16)]\n"
     ]
    }
   ],
   "source": [
    "list3 = sorted(list3, reverse=True)\n",
    "print list3"
   ]
  },
  {
   "cell_type": "code",
   "execution_count": null,
   "metadata": {
    "collapsed": true
   },
   "outputs": [],
   "source": []
  }
 ],
 "metadata": {
  "kernelspec": {
   "display_name": "Python 2",
   "language": "python",
   "name": "python2"
  },
  "language_info": {
   "codemirror_mode": {
    "name": "ipython",
    "version": 2
   },
   "file_extension": ".py",
   "mimetype": "text/x-python",
   "name": "python",
   "nbconvert_exporter": "python",
   "pygments_lexer": "ipython2",
   "version": "2.7.13"
  }
 },
 "nbformat": 4,
 "nbformat_minor": 2
}
